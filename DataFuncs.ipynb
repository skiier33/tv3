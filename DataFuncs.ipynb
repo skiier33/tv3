{
 "cells": [
  {
   "metadata": {
    "ExecuteTime": {
     "end_time": "2024-10-22T10:07:11.866038Z",
     "start_time": "2024-10-22T10:07:11.822523Z"
    }
   },
   "cell_type": "code",
   "source": [
    "from DataClass import *\n",
    "\n",
    "\n",
    "def parse_csv(cls, name, nrows=100):\n",
    "    cls.name = name\n",
    "    cls.nrows = nrows\n",
    "    df = pd.read_csv(cls.name, nrows=nrows)\n",
    "    df.time = pd.to_datetime(df.time, unit='s')\n",
    "    df.index = df.time\n",
    "\n",
    "    return df\n"
   ],
   "id": "9013b14b07b7c030",
   "outputs": [
    {
     "ename": "NameError",
     "evalue": "name 'self' is not defined",
     "output_type": "error",
     "traceback": [
      "\u001B[1;31m---------------------------------------------------------------------------\u001B[0m",
      "\u001B[1;31mNameError\u001B[0m                                 Traceback (most recent call last)",
      "Cell \u001B[1;32mIn[5], line 1\u001B[0m\n\u001B[1;32m----> 1\u001B[0m \u001B[38;5;28;01mfrom\u001B[39;00m \u001B[38;5;21;01mDataClass\u001B[39;00m \u001B[38;5;28;01mimport\u001B[39;00m \u001B[38;5;241m*\u001B[39m\n\u001B[0;32m      4\u001B[0m \u001B[38;5;28;01mdef\u001B[39;00m \u001B[38;5;21mparse_csv\u001B[39m(\u001B[38;5;28mcls\u001B[39m, name, nrows\u001B[38;5;241m=\u001B[39m\u001B[38;5;241m100\u001B[39m):\n\u001B[0;32m      5\u001B[0m     \u001B[38;5;28mcls\u001B[39m\u001B[38;5;241m.\u001B[39mname \u001B[38;5;241m=\u001B[39m name\n",
      "File \u001B[1;32m~\\PycharmProjects\\pythonProject2\\DataClass.py:17\u001B[0m\n\u001B[0;32m      9\u001B[0m \u001B[38;5;66;03m#################################################\u001B[39;00m\n\u001B[0;32m     10\u001B[0m \u001B[38;5;66;03m#################################################\u001B[39;00m\n\u001B[0;32m     13\u001B[0m p \u001B[38;5;241m=\u001B[39m\u001B[38;5;124mr\u001B[39m\u001B[38;5;124m'\u001B[39m\u001B[38;5;124mC:/Users/akrug/PycharmProjects/pythonProject2/data\u001B[39m\u001B[38;5;124m'\u001B[39m\n\u001B[1;32m---> 17\u001B[0m \u001B[38;5;28;43;01mclass\u001B[39;49;00m\u001B[43m \u001B[49m\u001B[38;5;21;43;01mCsvReader\u001B[39;49;00m\u001B[43m:\u001B[49m\n\u001B[0;32m     18\u001B[0m \u001B[43m    \u001B[49m\u001B[38;5;28;43;01mdef\u001B[39;49;00m\u001B[43m \u001B[49m\u001B[38;5;21;43m__init__\u001B[39;49m\u001B[43m(\u001B[49m\u001B[38;5;28;43mself\u001B[39;49m\u001B[43m,\u001B[49m\u001B[43m \u001B[49m\u001B[43mcsv_folder\u001B[49m\u001B[43m:\u001B[49m\u001B[43m \u001B[49m\u001B[38;5;28;43mstr\u001B[39;49m\u001B[43m)\u001B[49m\u001B[38;5;241;43m-\u001B[39;49m\u001B[38;5;241;43m>\u001B[39;49m\u001B[38;5;28;43;01mNone\u001B[39;49;00m\u001B[43m:\u001B[49m\n\u001B[0;32m     19\u001B[0m \u001B[43m        \u001B[49m\u001B[38;5;28;43mself\u001B[39;49m\u001B[38;5;241;43m.\u001B[39;49m\u001B[43mcsv_folder\u001B[49m\u001B[43m \u001B[49m\u001B[38;5;241;43m=\u001B[39;49m\u001B[43m \u001B[49m\u001B[43mpathlib\u001B[49m\u001B[38;5;241;43m.\u001B[39;49m\u001B[43mPath\u001B[49m\u001B[43m(\u001B[49m\u001B[43mcsv_folder\u001B[49m\u001B[43m)\u001B[49m\n",
      "File \u001B[1;32m~\\PycharmProjects\\pythonProject2\\DataClass.py:23\u001B[0m, in \u001B[0;36mCsvReader\u001B[1;34m()\u001B[0m\n\u001B[0;32m     19\u001B[0m     \u001B[38;5;28mself\u001B[39m\u001B[38;5;241m.\u001B[39mcsv_folder \u001B[38;5;241m=\u001B[39m pathlib\u001B[38;5;241m.\u001B[39mPath(csv_folder)\n\u001B[0;32m     20\u001B[0m     \u001B[38;5;28mself\u001B[39m\u001B[38;5;241m.\u001B[39mfiles \u001B[38;5;241m=\u001B[39m \u001B[38;5;28mlist\u001B[39m(\u001B[38;5;28mself\u001B[39m\u001B[38;5;241m.\u001B[39mcsv_folder\u001B[38;5;241m.\u001B[39mglob(\u001B[38;5;124m'\u001B[39m\u001B[38;5;124m*.csv\u001B[39m\u001B[38;5;124m'\u001B[39m))\n\u001B[1;32m---> 23\u001B[0m \u001B[38;5;28;01mfor\u001B[39;00m file \u001B[38;5;129;01min\u001B[39;00m \u001B[38;5;28;43mself\u001B[39;49m\u001B[38;5;241m.\u001B[39mfiles:\n\u001B[0;32m     24\u001B[0m     name \u001B[38;5;241m=\u001B[39m file\u001B[38;5;241m.\u001B[39mparts[\u001B[38;5;241m-\u001B[39m\u001B[38;5;241m1\u001B[39m]\u001B[38;5;241m.\u001B[39msplit(\u001B[38;5;124m'\u001B[39m\u001B[38;5;124m \u001B[39m\u001B[38;5;124m'\u001B[39m)[\u001B[38;5;241m-\u001B[39m\u001B[38;5;241m1\u001B[39m]\u001B[38;5;241m.\u001B[39msplit(\u001B[38;5;124m'\u001B[39m\u001B[38;5;124m_\u001B[39m\u001B[38;5;124m'\u001B[39m)[\u001B[38;5;241m0\u001B[39m]\n\u001B[0;32m     25\u001B[0m     \u001B[38;5;28mself\u001B[39m\u001B[38;5;241m.\u001B[39m\u001B[38;5;21m__setattr__\u001B[39m(\u001B[38;5;124mf\u001B[39m\u001B[38;5;124m'\u001B[39m\u001B[38;5;124m__\u001B[39m\u001B[38;5;132;01m{\u001B[39;00mname\u001B[38;5;132;01m}\u001B[39;00m\u001B[38;5;124m'\u001B[39m, {\u001B[38;5;28mstr\u001B[39m(name)})\n",
      "\u001B[1;31mNameError\u001B[0m: name 'self' is not defined"
     ]
    }
   ],
   "execution_count": 5
  },
  {
   "metadata": {
    "ExecuteTime": {
     "end_time": "2024-10-22T09:50:46.370059Z",
     "start_time": "2024-10-22T09:50:45.779112Z"
    }
   },
   "cell_type": "code",
   "outputs": [
    {
     "ename": "NameError",
     "evalue": "name 'self' is not defined",
     "output_type": "error",
     "traceback": [
      "\u001B[1;31m---------------------------------------------------------------------------\u001B[0m",
      "\u001B[1;31mNameError\u001B[0m                                 Traceback (most recent call last)",
      "Cell \u001B[1;32mIn[1], line 1\u001B[0m\n\u001B[1;32m----> 1\u001B[0m \u001B[38;5;28;01mfrom\u001B[39;00m \u001B[38;5;21;01mDataClass\u001B[39;00m \u001B[38;5;28;01mimport\u001B[39;00m \u001B[38;5;241m*\u001B[39m\n\u001B[0;32m      6\u001B[0m \u001B[38;5;28;01mdef\u001B[39;00m \u001B[38;5;21mparse_csv\u001B[39m(\u001B[38;5;28mcls\u001B[39m, name, nrows\u001B[38;5;241m=\u001B[39m\u001B[38;5;241m100\u001B[39m):\n\u001B[0;32m      7\u001B[0m     \u001B[38;5;28mcls\u001B[39m\u001B[38;5;241m.\u001B[39mname \u001B[38;5;241m=\u001B[39m name\n",
      "File \u001B[1;32m~\\PycharmProjects\\pythonProject2\\DataClass.py:17\u001B[0m\n\u001B[0;32m      9\u001B[0m \u001B[38;5;66;03m#################################################\u001B[39;00m\n\u001B[0;32m     10\u001B[0m \u001B[38;5;66;03m#################################################\u001B[39;00m\n\u001B[0;32m     13\u001B[0m p \u001B[38;5;241m=\u001B[39m\u001B[38;5;124mr\u001B[39m\u001B[38;5;124m'\u001B[39m\u001B[38;5;124mC:/Users/akrug/PycharmProjects/pythonProject2/data\u001B[39m\u001B[38;5;124m'\u001B[39m\n\u001B[1;32m---> 17\u001B[0m \u001B[38;5;28;43;01mclass\u001B[39;49;00m\u001B[43m \u001B[49m\u001B[38;5;21;43;01mCsvReader\u001B[39;49;00m\u001B[43m:\u001B[49m\n\u001B[0;32m     18\u001B[0m \u001B[43m    \u001B[49m\u001B[38;5;28;43;01mdef\u001B[39;49;00m\u001B[43m \u001B[49m\u001B[38;5;21;43m__init__\u001B[39;49m\u001B[43m(\u001B[49m\u001B[38;5;28;43mself\u001B[39;49m\u001B[43m,\u001B[49m\u001B[43m \u001B[49m\u001B[43mcsv_folder\u001B[49m\u001B[43m:\u001B[49m\u001B[43m \u001B[49m\u001B[38;5;28;43mstr\u001B[39;49m\u001B[43m)\u001B[49m\u001B[38;5;241;43m-\u001B[39;49m\u001B[38;5;241;43m>\u001B[39;49m\u001B[38;5;28;43;01mNone\u001B[39;49;00m\u001B[43m:\u001B[49m\n\u001B[0;32m     19\u001B[0m \u001B[43m        \u001B[49m\u001B[38;5;28;43mself\u001B[39;49m\u001B[38;5;241;43m.\u001B[39;49m\u001B[43mcsv_folder\u001B[49m\u001B[43m \u001B[49m\u001B[38;5;241;43m=\u001B[39;49m\u001B[43m \u001B[49m\u001B[43mpathlib\u001B[49m\u001B[38;5;241;43m.\u001B[39;49m\u001B[43mPath\u001B[49m\u001B[43m(\u001B[49m\u001B[43mcsv_folder\u001B[49m\u001B[43m)\u001B[49m\n",
      "File \u001B[1;32m~\\PycharmProjects\\pythonProject2\\DataClass.py:23\u001B[0m, in \u001B[0;36mCsvReader\u001B[1;34m()\u001B[0m\n\u001B[0;32m     19\u001B[0m     \u001B[38;5;28mself\u001B[39m\u001B[38;5;241m.\u001B[39mcsv_folder \u001B[38;5;241m=\u001B[39m pathlib\u001B[38;5;241m.\u001B[39mPath(csv_folder)\n\u001B[0;32m     20\u001B[0m     \u001B[38;5;28mself\u001B[39m\u001B[38;5;241m.\u001B[39mfiles \u001B[38;5;241m=\u001B[39m \u001B[38;5;28mlist\u001B[39m(\u001B[38;5;28mself\u001B[39m\u001B[38;5;241m.\u001B[39mcsv_folder\u001B[38;5;241m.\u001B[39mglob(\u001B[38;5;124m'\u001B[39m\u001B[38;5;124m*.csv\u001B[39m\u001B[38;5;124m'\u001B[39m))\n\u001B[1;32m---> 23\u001B[0m \u001B[38;5;28;01mfor\u001B[39;00m file \u001B[38;5;129;01min\u001B[39;00m \u001B[38;5;28;43mself\u001B[39;49m\u001B[38;5;241m.\u001B[39mfiles:\n\u001B[0;32m     24\u001B[0m     name \u001B[38;5;241m=\u001B[39m file\u001B[38;5;241m.\u001B[39mparts[\u001B[38;5;241m-\u001B[39m\u001B[38;5;241m1\u001B[39m]\u001B[38;5;241m.\u001B[39msplit(\u001B[38;5;124m'\u001B[39m\u001B[38;5;124m \u001B[39m\u001B[38;5;124m'\u001B[39m)[\u001B[38;5;241m-\u001B[39m\u001B[38;5;241m1\u001B[39m]\u001B[38;5;241m.\u001B[39msplit(\u001B[38;5;124m'\u001B[39m\u001B[38;5;124m_\u001B[39m\u001B[38;5;124m'\u001B[39m)[\u001B[38;5;241m0\u001B[39m]\n\u001B[0;32m     25\u001B[0m     \u001B[38;5;28mself\u001B[39m\u001B[38;5;241m.\u001B[39m\u001B[38;5;21m__setattr__\u001B[39m(\u001B[38;5;124mf\u001B[39m\u001B[38;5;124m'\u001B[39m\u001B[38;5;124m__\u001B[39m\u001B[38;5;132;01m{\u001B[39;00mname\u001B[38;5;132;01m}\u001B[39;00m\u001B[38;5;124m'\u001B[39m, {\u001B[38;5;28mstr\u001B[39m(name)})\n",
      "\u001B[1;31mNameError\u001B[0m: name 'self' is not defined"
     ]
    }
   ],
   "execution_count": 1,
   "source": "\n",
   "id": "391b9f833c35c46e"
  },
  {
   "metadata": {
    "ExecuteTime": {
     "end_time": "2024-10-22T10:01:19.270977Z",
     "start_time": "2024-10-22T10:01:19.213400Z"
    }
   },
   "cell_type": "code",
   "source": [
    "from DataClass import *\n",
    "\n",
    "import pathlib\n",
    "from typing import List, Any\n",
    "\n",
    "import pandas as pd\n",
    "import numpy as np\n",
    "\n",
    "#################################################\n",
    "#################################################\n",
    "\n",
    "\n",
    "p =r'C:/Users/akrug/PycharmProjects/pythonProject2/data'\n",
    "\n",
    "\n",
    "\n",
    "class CsvReader:\n",
    "    def __init__(self, csv_folder: str)->None:\n",
    "        \n",
    "        self.csv_folder = pathlib.Path(csv_folder)\n",
    "        self.files = list(self.csv_folder.glob('*.csv'))\n",
    "\n",
    "\n",
    "        for file in self.files:\n",
    "            self.name = file.parts[-1].split(' ')[-1].split('_')[0]\n",
    "            self.df = parse_csv(file)\n",
    "            self.__setattr__(f'__{self.name}', self.df)"
   ],
   "id": "77855bd9321b65",
   "outputs": [
    {
     "ename": "NameError",
     "evalue": "name 'self' is not defined",
     "output_type": "error",
     "traceback": [
      "\u001B[1;31m---------------------------------------------------------------------------\u001B[0m",
      "\u001B[1;31mNameError\u001B[0m                                 Traceback (most recent call last)",
      "Cell \u001B[1;32mIn[2], line 1\u001B[0m\n\u001B[1;32m----> 1\u001B[0m \u001B[38;5;28;01mfrom\u001B[39;00m \u001B[38;5;21;01mDataClass\u001B[39;00m \u001B[38;5;28;01mimport\u001B[39;00m \u001B[38;5;241m*\u001B[39m\n\u001B[0;32m      3\u001B[0m \u001B[38;5;28;01mimport\u001B[39;00m \u001B[38;5;21;01mpathlib\u001B[39;00m\n\u001B[0;32m      4\u001B[0m \u001B[38;5;28;01mfrom\u001B[39;00m \u001B[38;5;21;01mtyping\u001B[39;00m \u001B[38;5;28;01mimport\u001B[39;00m List, Any\n",
      "File \u001B[1;32m~\\PycharmProjects\\pythonProject2\\DataClass.py:17\u001B[0m\n\u001B[0;32m      9\u001B[0m \u001B[38;5;66;03m#################################################\u001B[39;00m\n\u001B[0;32m     10\u001B[0m \u001B[38;5;66;03m#################################################\u001B[39;00m\n\u001B[0;32m     13\u001B[0m p \u001B[38;5;241m=\u001B[39m\u001B[38;5;124mr\u001B[39m\u001B[38;5;124m'\u001B[39m\u001B[38;5;124mC:/Users/akrug/PycharmProjects/pythonProject2/data\u001B[39m\u001B[38;5;124m'\u001B[39m\n\u001B[1;32m---> 17\u001B[0m \u001B[38;5;28;43;01mclass\u001B[39;49;00m\u001B[43m \u001B[49m\u001B[38;5;21;43;01mCsvReader\u001B[39;49;00m\u001B[43m:\u001B[49m\n\u001B[0;32m     18\u001B[0m \u001B[43m    \u001B[49m\u001B[38;5;28;43;01mdef\u001B[39;49;00m\u001B[43m \u001B[49m\u001B[38;5;21;43m__init__\u001B[39;49m\u001B[43m(\u001B[49m\u001B[38;5;28;43mself\u001B[39;49m\u001B[43m,\u001B[49m\u001B[43m \u001B[49m\u001B[43mcsv_folder\u001B[49m\u001B[43m:\u001B[49m\u001B[43m \u001B[49m\u001B[38;5;28;43mstr\u001B[39;49m\u001B[43m)\u001B[49m\u001B[38;5;241;43m-\u001B[39;49m\u001B[38;5;241;43m>\u001B[39;49m\u001B[38;5;28;43;01mNone\u001B[39;49;00m\u001B[43m:\u001B[49m\n\u001B[0;32m     19\u001B[0m \u001B[43m        \u001B[49m\u001B[38;5;28;43mself\u001B[39;49m\u001B[38;5;241;43m.\u001B[39;49m\u001B[43mcsv_folder\u001B[49m\u001B[43m \u001B[49m\u001B[38;5;241;43m=\u001B[39;49m\u001B[43m \u001B[49m\u001B[43mpathlib\u001B[49m\u001B[38;5;241;43m.\u001B[39;49m\u001B[43mPath\u001B[49m\u001B[43m(\u001B[49m\u001B[43mcsv_folder\u001B[49m\u001B[43m)\u001B[49m\n",
      "File \u001B[1;32m~\\PycharmProjects\\pythonProject2\\DataClass.py:23\u001B[0m, in \u001B[0;36mCsvReader\u001B[1;34m()\u001B[0m\n\u001B[0;32m     19\u001B[0m     \u001B[38;5;28mself\u001B[39m\u001B[38;5;241m.\u001B[39mcsv_folder \u001B[38;5;241m=\u001B[39m pathlib\u001B[38;5;241m.\u001B[39mPath(csv_folder)\n\u001B[0;32m     20\u001B[0m     \u001B[38;5;28mself\u001B[39m\u001B[38;5;241m.\u001B[39mfiles \u001B[38;5;241m=\u001B[39m \u001B[38;5;28mlist\u001B[39m(\u001B[38;5;28mself\u001B[39m\u001B[38;5;241m.\u001B[39mcsv_folder\u001B[38;5;241m.\u001B[39mglob(\u001B[38;5;124m'\u001B[39m\u001B[38;5;124m*.csv\u001B[39m\u001B[38;5;124m'\u001B[39m))\n\u001B[1;32m---> 23\u001B[0m \u001B[38;5;28;01mfor\u001B[39;00m file \u001B[38;5;129;01min\u001B[39;00m \u001B[38;5;28;43mself\u001B[39;49m\u001B[38;5;241m.\u001B[39mfiles:\n\u001B[0;32m     24\u001B[0m     name \u001B[38;5;241m=\u001B[39m file\u001B[38;5;241m.\u001B[39mparts[\u001B[38;5;241m-\u001B[39m\u001B[38;5;241m1\u001B[39m]\u001B[38;5;241m.\u001B[39msplit(\u001B[38;5;124m'\u001B[39m\u001B[38;5;124m \u001B[39m\u001B[38;5;124m'\u001B[39m)[\u001B[38;5;241m-\u001B[39m\u001B[38;5;241m1\u001B[39m]\u001B[38;5;241m.\u001B[39msplit(\u001B[38;5;124m'\u001B[39m\u001B[38;5;124m_\u001B[39m\u001B[38;5;124m'\u001B[39m)[\u001B[38;5;241m0\u001B[39m]\n\u001B[0;32m     25\u001B[0m     \u001B[38;5;28mself\u001B[39m\u001B[38;5;241m.\u001B[39m\u001B[38;5;21m__setattr__\u001B[39m(\u001B[38;5;124mf\u001B[39m\u001B[38;5;124m'\u001B[39m\u001B[38;5;124m__\u001B[39m\u001B[38;5;132;01m{\u001B[39;00mname\u001B[38;5;132;01m}\u001B[39;00m\u001B[38;5;124m'\u001B[39m, {\u001B[38;5;28mstr\u001B[39m(name)})\n",
      "\u001B[1;31mNameError\u001B[0m: name 'self' is not defined"
     ]
    }
   ],
   "execution_count": 2
  },
  {
   "metadata": {
    "ExecuteTime": {
     "end_time": "2024-10-22T09:33:03.212025Z",
     "start_time": "2024-10-22T09:33:03.188348Z"
    }
   },
   "cell_type": "code",
   "source": "r = CsvReader(p)",
   "id": "1ef197dc571ab32",
   "outputs": [
    {
     "ename": "TypeError",
     "evalue": "parse_csv() missing 1 required positional argument: 'name'",
     "output_type": "error",
     "traceback": [
      "\u001B[1;31m---------------------------------------------------------------------------\u001B[0m",
      "\u001B[1;31mTypeError\u001B[0m                                 Traceback (most recent call last)",
      "Cell \u001B[1;32mIn[8], line 1\u001B[0m\n\u001B[1;32m----> 1\u001B[0m r \u001B[38;5;241m=\u001B[39m \u001B[43mCsvReader\u001B[49m\u001B[43m(\u001B[49m\u001B[43mp\u001B[49m\u001B[43m)\u001B[49m\n",
      "Cell \u001B[1;32mIn[7], line 26\u001B[0m, in \u001B[0;36mCsvReader.__init__\u001B[1;34m(self, csv_folder)\u001B[0m\n\u001B[0;32m     24\u001B[0m \u001B[38;5;28;01mfor\u001B[39;00m file \u001B[38;5;129;01min\u001B[39;00m \u001B[38;5;28mself\u001B[39m\u001B[38;5;241m.\u001B[39mfiles:\n\u001B[0;32m     25\u001B[0m     name \u001B[38;5;241m=\u001B[39m file\u001B[38;5;241m.\u001B[39mparts[\u001B[38;5;241m-\u001B[39m\u001B[38;5;241m1\u001B[39m]\u001B[38;5;241m.\u001B[39msplit(\u001B[38;5;124m'\u001B[39m\u001B[38;5;124m \u001B[39m\u001B[38;5;124m'\u001B[39m)[\u001B[38;5;241m-\u001B[39m\u001B[38;5;241m1\u001B[39m]\u001B[38;5;241m.\u001B[39msplit(\u001B[38;5;124m'\u001B[39m\u001B[38;5;124m_\u001B[39m\u001B[38;5;124m'\u001B[39m)[\u001B[38;5;241m0\u001B[39m]\n\u001B[1;32m---> 26\u001B[0m     df \u001B[38;5;241m=\u001B[39m \u001B[43mparse_csv\u001B[49m\u001B[43m(\u001B[49m\u001B[43mfile\u001B[49m\u001B[43m)\u001B[49m\n\u001B[0;32m     27\u001B[0m     \u001B[38;5;28mself\u001B[39m\u001B[38;5;241m.\u001B[39m\u001B[38;5;21m__setattr__\u001B[39m(\u001B[38;5;124mf\u001B[39m\u001B[38;5;124m'\u001B[39m\u001B[38;5;124m__\u001B[39m\u001B[38;5;132;01m{\u001B[39;00mname\u001B[38;5;132;01m}\u001B[39;00m\u001B[38;5;124m'\u001B[39m, df)\n",
      "\u001B[1;31mTypeError\u001B[0m: parse_csv() missing 1 required positional argument: 'name'"
     ]
    }
   ],
   "execution_count": 8
  },
  {
   "cell_type": "code",
   "id": "initial_id",
   "metadata": {
    "collapsed": true,
    "ExecuteTime": {
     "end_time": "2024-10-22T06:41:32.484206Z",
     "start_time": "2024-10-22T06:41:32.473124Z"
    }
   },
   "source": [
    "import pathlib.Path\n",
    "\n",
    "def TestCandle(int_test, n_test):\n",
    "     pass\n",
    "\n",
    "\n",
    "def get_untested(int_hold, n_hold, int_test, n_test):\n",
    "    \"\"\"\n",
    "    \"\"\"\n",
    "    hc = HoldCandle(int_hold, n_hold)\n",
    "    TestCandle(int_test, n_test)\n",
    "\n",
    "\n",
    "\n",
    "def test_holds(holds:pd.Series, tests:pd.Series, func:bool, hold=None, longs=None, total=None) -> pd.DataFrame:\n",
    "    \"\"\"\n",
    "    Test hold levels based on mask usually series.isin(test\n",
    "\n",
    "    mask = func\n",
    "\n",
    "    ix_drop = holds[mask].index\n",
    "    dropped = f'Drop: {len(ix_drop)} '\n",
    "\n",
    "    untested = holds.drop(labels=ix_drop)\n",
    "    print(f'Total Holds:{total}  Dropped:{dropped}  Untested:{len(untested)}\\n')\n",
    "\n",
    "    return untested\n",
    "\n",
    "\n",
    "# def test_range_of_data(reader, range_duration:datetime.timedelta='3D', test_interval:datetime.timedelta='1H'):\n",
    "#\n",
    "#     range_start = datetime.datetime.now()-range_duration\n",
    "#\n",
    "#     for interval_testing in intervals:\n",
    "#         n_bars =  range_duration/test_interval\n",
    "#         timeframe = TimeFrame(reader.test_interval)\n",
    "#\n",
    "# def test_range_of_data(reader, hold_interval):\n",
    "#\n",
    "#     test_inters = int_df.intervals[int_df.intervals < hold interval]\n",
    "#\n",
    "#     for interval_testing in intervals:\n",
    "#         n_bars =  range_duration/test_interval\n",
    "#         timeframe = TimeFrame(reader.test_interval)\n"
   ],
   "outputs": [
    {
     "ename": "SyntaxError",
     "evalue": "incomplete input (2259585072.py, line 18)",
     "output_type": "error",
     "traceback": [
      "\u001B[1;36m  Cell \u001B[1;32mIn[1], line 18\u001B[1;36m\u001B[0m\n\u001B[1;33m    \"\"\"\u001B[0m\n\u001B[1;37m    ^\u001B[0m\n\u001B[1;31mSyntaxError\u001B[0m\u001B[1;31m:\u001B[0m incomplete input\n"
     ]
    }
   ],
   "execution_count": 1
  },
  {
   "metadata": {},
   "cell_type": "code",
   "outputs": [],
   "execution_count": null,
   "source": "",
   "id": "da78535aaa2c9630"
  }
 ],
 "metadata": {
  "kernelspec": {
   "display_name": "Python 3",
   "language": "python",
   "name": "python3"
  },
  "language_info": {
   "codemirror_mode": {
    "name": "ipython",
    "version": 2
   },
   "file_extension": ".py",
   "mimetype": "text/x-python",
   "name": "python",
   "nbconvert_exporter": "python",
   "pygments_lexer": "ipython2",
   "version": "2.7.6"
  }
 },
 "nbformat": 4,
 "nbformat_minor": 5
}
