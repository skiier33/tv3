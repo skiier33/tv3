{
 "cells": [
  {
   "cell_type": "code",
   "id": "initial_id",
   "metadata": {
    "collapsed": true,
    "ExecuteTime": {
     "end_time": "2024-10-22T07:46:01.678338Z",
     "start_time": "2024-10-22T07:46:01.674577Z"
    }
   },
   "source": [
    "import pathlib\n",
    "import os"
   ],
   "outputs": [],
   "execution_count": 6
  },
  {
   "metadata": {
    "ExecuteTime": {
     "end_time": "2024-10-22T07:46:02.605115Z",
     "start_time": "2024-10-22T07:46:02.601498Z"
    }
   },
   "cell_type": "code",
   "source": "p = pathlib.Path(r'C:\\Users\\akrug\\PycharmProjects\\pythonProject2\\data')",
   "id": "934965c6c48bd4be",
   "outputs": [],
   "execution_count": 7
  },
  {
   "metadata": {
    "ExecuteTime": {
     "end_time": "2024-10-22T07:51:13.086436Z",
     "start_time": "2024-10-22T07:51:13.080263Z"
    }
   },
   "cell_type": "code",
   "source": "os.listdir(p).",
   "id": "79fae0598b4d20e4",
   "outputs": [
    {
     "data": {
      "text/plain": [
       "['test plots.ipynb',\n",
       " 'ZOOMEX_BTCUSDT.P, 15_38661.csv',\n",
       " 'ZOOMEX_BTCUSDT.P, 1D_60a25.csv',\n",
       " 'ZOOMEX_BTCUSDT.P, 1W_5375d.csv',\n",
       " 'ZOOMEX_BTCUSDT.P, 1_e8683.csv',\n",
       " 'ZOOMEX_BTCUSDT.P, 240_cd5aa.csv',\n",
       " 'ZOOMEX_BTCUSDT.P, 3_78d2a.csv',\n",
       " 'ZOOMEX_BTCUSDT.P, 5_8aa4f.csv',\n",
       " 'ZOOMEX_BTCUSDT.P, 60_0461d.csv']"
      ]
     },
     "execution_count": 12,
     "metadata": {},
     "output_type": "execute_result"
    }
   ],
   "execution_count": 12
  },
  {
   "metadata": {
    "ExecuteTime": {
     "end_time": "2024-10-22T07:52:59.962328Z",
     "start_time": "2024-10-22T07:52:59.955997Z"
    }
   },
   "cell_type": "code",
   "source": "list(p.glob('**/*.csv'))",
   "id": "92061e4cd6edc914",
   "outputs": [
    {
     "data": {
      "text/plain": [
       "[WindowsPath('C:/Users/akrug/PycharmProjects/pythonProject2/data/ZOOMEX_BTCUSDT.P, 15_38661.csv'),\n",
       " WindowsPath('C:/Users/akrug/PycharmProjects/pythonProject2/data/ZOOMEX_BTCUSDT.P, 1D_60a25.csv'),\n",
       " WindowsPath('C:/Users/akrug/PycharmProjects/pythonProject2/data/ZOOMEX_BTCUSDT.P, 1W_5375d.csv'),\n",
       " WindowsPath('C:/Users/akrug/PycharmProjects/pythonProject2/data/ZOOMEX_BTCUSDT.P, 1_e8683.csv'),\n",
       " WindowsPath('C:/Users/akrug/PycharmProjects/pythonProject2/data/ZOOMEX_BTCUSDT.P, 240_cd5aa.csv'),\n",
       " WindowsPath('C:/Users/akrug/PycharmProjects/pythonProject2/data/ZOOMEX_BTCUSDT.P, 3_78d2a.csv'),\n",
       " WindowsPath('C:/Users/akrug/PycharmProjects/pythonProject2/data/ZOOMEX_BTCUSDT.P, 5_8aa4f.csv'),\n",
       " WindowsPath('C:/Users/akrug/PycharmProjects/pythonProject2/data/ZOOMEX_BTCUSDT.P, 60_0461d.csv')]"
      ]
     },
     "execution_count": 14,
     "metadata": {},
     "output_type": "execute_result"
    }
   ],
   "execution_count": 14
  },
  {
   "metadata": {},
   "cell_type": "code",
   "outputs": [],
   "execution_count": null,
   "source": "",
   "id": "644145702b0e525e"
  }
 ],
 "metadata": {
  "kernelspec": {
   "display_name": "Python 3",
   "language": "python",
   "name": "python3"
  },
  "language_info": {
   "codemirror_mode": {
    "name": "ipython",
    "version": 2
   },
   "file_extension": ".py",
   "mimetype": "text/x-python",
   "name": "python",
   "nbconvert_exporter": "python",
   "pygments_lexer": "ipython2",
   "version": "2.7.6"
  }
 },
 "nbformat": 4,
 "nbformat_minor": 5
}
