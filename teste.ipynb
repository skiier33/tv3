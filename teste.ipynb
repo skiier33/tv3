{
 "cells": [
  {
   "metadata": {},
   "cell_type": "markdown",
   "source": [],
   "id": "1c3750f016068af2"
  },
  {
   "cell_type": "code",
   "execution_count": 1,
   "outputs": [
    {
     "name": "stderr",
     "output_type": "stream",
     "text": [
      "error while signin\n",
      "you are using nologin method, data you access may be limited\n"
     ]
    }
   ],
   "source": [
    "from DataClass import *\n",
    "from PlotClass import *\n",
    "from DataFuncs import *\n",
    "from CONSTANTS import  *\n"
   ],
   "metadata": {
    "collapsed": false,
    "ExecuteTime": {
     "end_time": "2024-10-21T04:03:44.389400Z",
     "start_time": "2024-10-21T04:03:42.395236200Z"
    }
   },
   "id": "5d401862602fcdee"
  },
  {
   "cell_type": "code",
   "execution_count": 2,
   "outputs": [
    {
     "ename": "NameError",
     "evalue": "name 'files' is not defined",
     "output_type": "error",
     "traceback": [
      "\u001B[1;31m---------------------------------------------------------------------------\u001B[0m",
      "\u001B[1;31mNameError\u001B[0m                                 Traceback (most recent call last)",
      "Cell \u001B[1;32mIn[2], line 1\u001B[0m\n\u001B[1;32m----> 1\u001B[0m reader \u001B[38;5;241m=\u001B[39m \u001B[43mCsvReader\u001B[49m\u001B[43m(\u001B[49m\u001B[43mcsvs_path\u001B[49m\u001B[43m)\u001B[49m\n",
      "File \u001B[1;32m~\\PycharmProjects\\pythonProject2\\DataClass.py:25\u001B[0m, in \u001B[0;36mCsvReader.__init__\u001B[1;34m(cls, csv_folder)\u001B[0m\n\u001B[0;32m     22\u001B[0m path \u001B[38;5;241m=\u001B[39m pathlib\u001B[38;5;241m.\u001B[39mWindowsPath(\u001B[38;5;28mself\u001B[39m\u001B[38;5;241m.\u001B[39mcsv_folder)\u001B[38;5;241m.\u001B[39mabsolute()\n\u001B[0;32m     23\u001B[0m \u001B[38;5;28mself\u001B[39m\u001B[38;5;241m.\u001B[39mfiles \u001B[38;5;241m=\u001B[39m \u001B[38;5;28mlist\u001B[39m(p\u001B[38;5;241m.\u001B[39mglob(\u001B[38;5;124m'\u001B[39m\u001B[38;5;124m*.csv\u001B[39m\u001B[38;5;124m'\u001B[39m))\n\u001B[1;32m---> 25\u001B[0m \u001B[38;5;28;01mfor\u001B[39;00m file \u001B[38;5;129;01min\u001B[39;00m \u001B[43mfiles\u001B[49m:\n\u001B[0;32m     26\u001B[0m     name \u001B[38;5;241m=\u001B[39m file\u001B[38;5;241m.\u001B[39mparts[\u001B[38;5;241m-\u001B[39m\u001B[38;5;241m1\u001B[39m]\u001B[38;5;241m.\u001B[39msplit(\u001B[38;5;124m'\u001B[39m\u001B[38;5;124m \u001B[39m\u001B[38;5;124m'\u001B[39m)[\u001B[38;5;241m-\u001B[39m\u001B[38;5;241m1\u001B[39m]\u001B[38;5;241m.\u001B[39msplit(\u001B[38;5;124m'\u001B[39m\u001B[38;5;124m_\u001B[39m\u001B[38;5;124m'\u001B[39m)[\u001B[38;5;241m0\u001B[39m]\n\u001B[0;32m     27\u001B[0m     \u001B[38;5;28mself\u001B[39m\u001B[38;5;241m.\u001B[39m\u001B[38;5;21m__setattr__\u001B[39m(name, file)\n",
      "\u001B[1;31mNameError\u001B[0m: name 'files' is not defined"
     ]
    }
   ],
   "source": [
    "reader = CsvReader(csvs_path)"
   ],
   "metadata": {
    "collapsed": false,
    "ExecuteTime": {
     "end_time": "2024-10-21T04:03:45.106582600Z",
     "start_time": "2024-10-21T04:03:44.389400Z"
    }
   },
   "id": "f28e04ac2a6b548"
  },
  {
   "cell_type": "code",
   "execution_count": null,
   "outputs": [],
   "source": [],
   "metadata": {
    "collapsed": false
   },
   "id": "d6bdf94655d49b50"
  }
 ],
 "metadata": {
  "kernelspec": {
   "display_name": "Python 3",
   "language": "python",
   "name": "python3"
  },
  "language_info": {
   "codemirror_mode": {
    "name": "ipython",
    "version": 2
   },
   "file_extension": ".py",
   "mimetype": "text/x-python",
   "name": "python",
   "nbconvert_exporter": "python",
   "pygments_lexer": "ipython2",
   "version": "2.7.6"
  }
 },
 "nbformat": 4,
 "nbformat_minor": 5
}
