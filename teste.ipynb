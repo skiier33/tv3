{
 "cells": [
  {
   "metadata": {},
   "cell_type": "markdown",
   "source": "",
   "id": "1c3750f016068af2"
  },
  {
   "metadata": {},
   "cell_type": "code",
   "source": [
    "\n",
    "import numpy as np\n",
    "import plotly.io as pio\n",
    "from tvDatafeed import Interval , TvDatafeed\n",
    "import plotly.graph_objects as go\n",
    "import pandas as pd\n",
    "\n",
    "from tvdataclass.scratch import holdcandle\n",
    "\n",
    "pio.templates\n",
    "\n",
    "username = 'Fook_Yew'\n",
    "password = 'Tr4d1ng1sc00l'\n",
    "tv = TvDatafeed(username, password)\n",
    "\n",
    "\n",
    " ##########################################\n",
    "\n",
    "class TestCandle:\n",
    "\n",
    "    def __init__(self, interval: Interval, n_bars: int) -> object:\n",
    "\n",
    "        self.interval = interval\n",
    "        self.n_bars:int = n_bars\n",
    "        self.name = self.set_name()\n",
    "        self.df = self.set_df()\n",
    "        self.long_tester = self.get_long_tester()\n",
    "        self.short_tester = self.get_short_tester()\n",
    "\n",
    "\n",
    "    def set_name(self) -> str:\n",
    "        return str(self.interval).split('.in_')[-1]\n",
    "\n",
    "    def set_df(self) -> pd.DataFrame:\n",
    "        return tv.get_hist(symbol='BTCUSDT.P', exchange='zoomex', interval=self.interval, n_bars=self.n_bars)\n",
    "\n",
    "    def get_long_tester(self) -> pd.DataFrame:\n",
    "        return self.df.low\n",
    "\n",
    "    def get_short_tester(self)->pd.DataFrame:\n",
    "        return self.df.high\n",
    "\n",
    "############################################################################################################################################\n",
    "\n",
    "class HoldCandle:\n",
    "\n",
    "    def __init__(self, interval, n_bars):\n",
    "\n",
    "        self.interval = interval\n",
    "        self.n_bars:int = n_bars\n",
    "        self.name = self.set_name()\n",
    "\n",
    "        self.df = self.set_df()\n",
    "        self.get_hold_indexs()\n",
    "        self.longs = self.get_longs()\n",
    "        self.shorts= self.get_shorts()\n",
    "    def set_name(self)->str:\n",
    "\n",
    "        return str(self.interval).split('.in_')[-1]\n",
    "    def set_df(self)->pd.DataFrame:\n",
    "\n",
    "        return tv.get_hist(symbol='BTCUSDT.P', exchange='zoomex', interval=self.interval, n_bars=self.n_bars)\n",
    "    def get_hold_indexs(self)->None:\n",
    "\n",
    "        self.short_indexes = []\n",
    "        self.long_indexes = []\n",
    "        self.df['up_down'] = np.sign(self.df.close - self.df.open)\n",
    "\n",
    "        for time in self.df.index[:-4]:\n",
    "            sl = slice(time, time + 3 * (self.df.index[1] - self.df.index[0]))\n",
    "            chunk = self.df.loc[sl]\n",
    "\n",
    "            if all(chunk['up_down'] == [1, 1, -1, -1]):\n",
    "                self.short_indexes.extend(chunk.index[:2])\n",
    "\n",
    "            elif all(chunk['up_down'] == [-1, -1, 1, 1]):\n",
    "                self.long_indexes.extend(chunk.index[:2])\n",
    "\n",
    "    def get_longs(self)->pd.DataFrame:\n",
    "\n",
    "        return pd.concat([ self.df.loc[self.long_indexes].high,  self.df.loc[self.long_indexes].open]).sort_index()\n",
    "    def get_shorts(self)->pd.DataFrame:\n",
    "\n",
    "        return pd.concat([self.df.loc[self.short_indexes].low, self.df.loc[self.short_indexes].open]).sort_index()\n",
    "\n",
    "####################################################################################################################"
   ],
   "id": "10145b5c7e2160fc",
   "outputs": [],
   "execution_count": null
  },
  {
   "metadata": {
    "ExecuteTime": {
     "end_time": "2024-10-20T00:30:21.449280Z",
     "start_time": "2024-10-20T00:30:21.445164Z"
    }
   },
   "cell_type": "code",
   "source": [
    "########################\n",
    "\n",
    "\n",
    "class Untested(HoldCandle, TestCandle):\n",
    "    \"\"\"\n",
    "    will allow to get any properties from parent hold or test but must pass as args\n",
    "    \"\"\"\n",
    "    def __init__(self, holdcandle, testcandle) -> object:\n",
    "\n",
    "        self.holdcandle =holdcandle\n",
    "        self.testcandle =testcandle\n",
    "        self.name = self.holdcandle.name\n",
    "        self.name_test=self.testcandle.name\n",
    "\n",
    "        self.longs = self.test_longs()\n",
    "        self.shorts = self.test_shorts()\n",
    "\n",
    "    def test_hold(self, hold, test) -> pd.DataFrame:\n",
    "        self.hold = hold\n",
    "        self.test = test\n",
    "\n",
    "        print(f' To Test: {len(self.hold)}')\n",
    "\n",
    "        #return true where tester is in\n",
    "        mask = round(self.hold).isin(round(self.test))\n",
    "        ix_drop = self.hold[mask].index\n",
    "\n",
    "        print(f' Tested: {len(ix_drop)}')\n",
    "        return self.hold.drop(labels=ix_drop)\n",
    "\n",
    "    def test_longs(self):\n",
    "        print('LONGS')\n",
    "        return self.test_hold(self.holdcandle.longs, self.testcandle.long_tester)\n",
    "\n",
    "    def test_shorts(self):\n",
    "        print('SHORTS')\n",
    "        \n",
    "        return self.test_hold(self.holdcandle.shorts, self.testcandle.short_tester)\n",
    "\n",
    "############################################################################################################################################\n"
   ],
   "id": "e2c553bbfdbeb5d1",
   "outputs": [],
   "execution_count": 204
  },
  {
   "metadata": {
    "ExecuteTime": {
     "end_time": "2024-10-20T00:30:27.487182Z",
     "start_time": "2024-10-20T00:30:27.481489Z"
    }
   },
   "cell_type": "code",
   "source": [
    "\n",
    "import plotly.graph_objects as go\n",
    "import pandas as pd\n",
    "\n",
    "import matplotlib.pyplot as plt\n",
    "from functools import wraps\n",
    "\n",
    "\n",
    "###################################################################################################################################################\n",
    "###################################################################################################################################################\n",
    "\n",
    "class PlotCandle(HoldCandle):\n",
    "\n",
    "    def __init__(self, holdcandle, testcandle):\n",
    "        self.hc=holdcandle\n",
    "        self.tc = testcandle\n",
    "        self.df = self.hc.df\n",
    "        self.name = self.hc.name\n",
    "\n",
    "        self.long_hlines = self.get_hlines(self.tc.longs)\n",
    "        self.short_hlines = self.get_hlines(self.tc.shorts)\n",
    "       \n",
    "\n",
    "        # self.fig_holds = self.plot2()\n",
    "\n",
    "    def get_hlines(self, hold)->pd.DataFrame:\n",
    "        hlines = pd.DataFrame(hold)\n",
    "        hlines['x1'] = self.df.index[-1]\n",
    "        hlines['y1'] = hlines[0]\n",
    "        hlines.index.name='x0'\n",
    "        hlines = hlines.reset_index()\n",
    "        return hlines.rename(columns={0:'y0'})\n",
    "\n",
    "\n",
    "    def plot(self):\n",
    "        \n",
    "\n",
    "        fig = go.Figure(data=[go.Candlestick(x=self.df.index, open=self.df['open'], high=self.df['high'], low=self.df['low'], close=self.df['close'])], layout=go.Layout())\n",
    "        fig.update_layout(title=self.name, xaxis_rangeslider_visible=False, xaxis_title='Date', yaxis_title='Price', template=\"plotly_dark\")\n",
    "        \n",
    "        fig.update_traces(increasing_line_color='white', selector=dict(type='candlestick'))\n",
    "        fig.update_traces(decreasing_line_color='blue', selector=dict(type='candlestick'))\n",
    "        return fig\n",
    "    \n",
    "\n",
    "\n",
    "    def add_lines(self, hlines, fig, color):\n",
    "\n",
    "        for row in hlines.index:\n",
    "            x0, y0, x1, y1 = hlines.loc[row].values\n",
    "            fig.add_shape(type='line', line=dict(color=color), label=dict(text=y1, textposition='end', padding=0, font=dict(size=10), xanchor='right', yanchor='middle'), x0=x0, y0=y0, x1=x1, y1=y1)\n",
    "        return fig\n"
   ],
   "id": "63e285cc657abc7c",
   "outputs": [],
   "execution_count": 205
  },
  {
   "metadata": {
    "ExecuteTime": {
     "end_time": "2024-10-20T00:30:27.809841Z",
     "start_time": "2024-10-20T00:30:27.806350Z"
    }
   },
   "cell_type": "code",
   "source": [
    "\n",
    "\n",
    "INTERVALS = ['in_1_minute', 'in_3_minute', 'in_5_minute', 'in_15_minute', 'in_1_hour', 'in_4_hour', 'in_daily']\n",
    "COLORS = ['grey', 'pink', 'green', 'orange', 'blue', 'yellow', 'red']\n",
    "N_BARS = [1000, 300, 200, 100, 40, 20, 10]\n",
    "MINS = [1, 3, 5, 15, 60, 240, 1440]\n",
    "\n",
    "\n",
    "d = {'int':INTERVALS,'n': N_BARS, 'c': COLORS, 'mins':MINS}\n",
    "df = pd.DataFrame.from_dict(d)\n",
    "df.index = df['int']\n"
   ],
   "id": "5d759156fef4e103",
   "outputs": [],
   "execution_count": 206
  },
  {
   "metadata": {
    "ExecuteTime": {
     "end_time": "2024-10-20T00:31:54.653976Z",
     "start_time": "2024-10-20T00:31:54.640292Z"
    }
   },
   "cell_type": "code",
   "source": "pc = PlotCandle(hc, tc)",
   "id": "36cfc936703bd8a6",
   "outputs": [
    {
     "ename": "AttributeError",
     "evalue": "'TestCandle' object has no attribute 'longs'",
     "output_type": "error",
     "traceback": [
      "\u001B[1;31m---------------------------------------------------------------------------\u001B[0m",
      "\u001B[1;31mAttributeError\u001B[0m                            Traceback (most recent call last)",
      "Cell \u001B[1;32mIn[209], line 1\u001B[0m\n\u001B[1;32m----> 1\u001B[0m pc \u001B[38;5;241m=\u001B[39m \u001B[43mPlotCandle\u001B[49m\u001B[43m(\u001B[49m\u001B[43mhc\u001B[49m\u001B[43m,\u001B[49m\u001B[43m \u001B[49m\u001B[43mtc\u001B[49m\u001B[43m)\u001B[49m\n",
      "Cell \u001B[1;32mIn[205], line 19\u001B[0m, in \u001B[0;36mPlotCandle.__init__\u001B[1;34m(self, holdcandle, testcandle)\u001B[0m\n\u001B[0;32m     16\u001B[0m \u001B[38;5;28mself\u001B[39m\u001B[38;5;241m.\u001B[39mdf \u001B[38;5;241m=\u001B[39m \u001B[38;5;28mself\u001B[39m\u001B[38;5;241m.\u001B[39mhc\u001B[38;5;241m.\u001B[39mdf\n\u001B[0;32m     17\u001B[0m \u001B[38;5;28mself\u001B[39m\u001B[38;5;241m.\u001B[39mname \u001B[38;5;241m=\u001B[39m \u001B[38;5;28mself\u001B[39m\u001B[38;5;241m.\u001B[39mhc\u001B[38;5;241m.\u001B[39mname\n\u001B[1;32m---> 19\u001B[0m \u001B[38;5;28mself\u001B[39m\u001B[38;5;241m.\u001B[39mlong_hlines \u001B[38;5;241m=\u001B[39m \u001B[38;5;28mself\u001B[39m\u001B[38;5;241m.\u001B[39mget_hlines(\u001B[38;5;28;43mself\u001B[39;49m\u001B[38;5;241;43m.\u001B[39;49m\u001B[43mtc\u001B[49m\u001B[38;5;241;43m.\u001B[39;49m\u001B[43mlongs\u001B[49m)\n\u001B[0;32m     20\u001B[0m \u001B[38;5;28mself\u001B[39m\u001B[38;5;241m.\u001B[39mshort_hlines \u001B[38;5;241m=\u001B[39m \u001B[38;5;28mself\u001B[39m\u001B[38;5;241m.\u001B[39mget_hlines(\u001B[38;5;28mself\u001B[39m\u001B[38;5;241m.\u001B[39mtc\u001B[38;5;241m.\u001B[39mshorts)\n",
      "\u001B[1;31mAttributeError\u001B[0m: 'TestCandle' object has no attribute 'longs'"
     ]
    }
   ],
   "execution_count": 209
  },
  {
   "metadata": {
    "ExecuteTime": {
     "end_time": "2024-10-20T00:21:24.003631Z",
     "start_time": "2024-10-20T00:21:24.000624Z"
    }
   },
   "cell_type": "code",
   "source": "pc.short_hlines['interval'] = 'dssd'",
   "id": "cbd4080e98327948",
   "outputs": [],
   "execution_count": 200
  },
  {
   "metadata": {
    "ExecuteTime": {
     "end_time": "2024-10-20T00:21:43.154056Z",
     "start_time": "2024-10-20T00:21:43.145850Z"
    }
   },
   "cell_type": "code",
   "source": "pc.long_hlines",
   "id": "2906196c4ff9fb4c",
   "outputs": [
    {
     "data": {
      "text/plain": [
       "                    x0       y0                  x1       y1 interval\n",
       "0  2024-10-19 01:40:00  68346.8 2024-10-19 18:00:00  68346.8     dssd\n",
       "1  2024-10-19 01:40:00  68337.8 2024-10-19 18:00:00  68337.8     dssd\n",
       "2  2024-10-19 01:45:00  68318.5 2024-10-19 18:00:00  68318.5     dssd\n",
       "3  2024-10-19 01:45:00  68318.4 2024-10-19 18:00:00  68318.4     dssd\n",
       "4  2024-10-19 02:55:00  68403.5 2024-10-19 18:00:00  68403.5     dssd\n",
       "5  2024-10-19 02:55:00  68401.7 2024-10-19 18:00:00  68401.7     dssd\n",
       "6  2024-10-19 03:00:00  68401.6 2024-10-19 18:00:00  68401.6     dssd\n",
       "7  2024-10-19 03:00:00  68401.6 2024-10-19 18:00:00  68401.6     dssd\n",
       "8  2024-10-19 04:45:00  68287.5 2024-10-19 18:00:00  68287.5     dssd\n",
       "9  2024-10-19 04:45:00  68287.4 2024-10-19 18:00:00  68287.4     dssd\n",
       "10 2024-10-19 04:50:00  68269.8 2024-10-19 18:00:00  68269.8     dssd\n",
       "11 2024-10-19 04:50:00  68272.5 2024-10-19 18:00:00  68272.5     dssd\n",
       "12 2024-10-19 05:50:00  68157.8 2024-10-19 18:00:00  68157.8     dssd\n",
       "13 2024-10-19 05:50:00  68163.7 2024-10-19 18:00:00  68163.7     dssd\n",
       "14 2024-10-19 05:55:00  68111.9 2024-10-19 18:00:00  68111.9     dssd\n",
       "15 2024-10-19 05:55:00  68112.8 2024-10-19 18:00:00  68112.8     dssd\n",
       "16 2024-10-19 07:50:00  68140.5 2024-10-19 18:00:00  68140.5     dssd\n",
       "17 2024-10-19 07:50:00  68140.5 2024-10-19 18:00:00  68140.5     dssd\n",
       "18 2024-10-19 07:55:00  68109.5 2024-10-19 18:00:00  68109.5     dssd\n",
       "19 2024-10-19 07:55:00  68101.9 2024-10-19 18:00:00  68101.9     dssd\n",
       "20 2024-10-19 10:20:00  68125.3 2024-10-19 18:00:00  68125.3     dssd\n",
       "21 2024-10-19 10:20:00  68182.4 2024-10-19 18:00:00  68182.4     dssd\n",
       "22 2024-10-19 10:25:00  68115.6 2024-10-19 18:00:00  68115.6     dssd\n",
       "23 2024-10-19 10:25:00  68100.4 2024-10-19 18:00:00  68100.4     dssd\n",
       "24 2024-10-19 12:00:00  68119.0 2024-10-19 18:00:00  68119.0     dssd\n",
       "25 2024-10-19 12:00:00  68124.4 2024-10-19 18:00:00  68124.4     dssd\n",
       "26 2024-10-19 12:05:00  68109.3 2024-10-19 18:00:00  68109.3     dssd\n",
       "27 2024-10-19 12:05:00  68117.0 2024-10-19 18:00:00  68117.0     dssd\n",
       "28 2024-10-19 12:55:00  68181.8 2024-10-19 18:00:00  68181.8     dssd\n",
       "29 2024-10-19 12:55:00  68181.5 2024-10-19 18:00:00  68181.5     dssd\n",
       "30 2024-10-19 13:00:00  68164.8 2024-10-19 18:00:00  68164.8     dssd\n",
       "31 2024-10-19 13:00:00  68164.8 2024-10-19 18:00:00  68164.8     dssd\n",
       "32 2024-10-19 13:40:00  68199.9 2024-10-19 18:00:00  68199.9     dssd\n",
       "33 2024-10-19 13:40:00  68201.5 2024-10-19 18:00:00  68201.5     dssd\n",
       "34 2024-10-19 13:45:00  68169.8 2024-10-19 18:00:00  68169.8     dssd\n",
       "35 2024-10-19 13:45:00  68179.3 2024-10-19 18:00:00  68179.3     dssd\n",
       "36 2024-10-19 14:50:00  68232.1 2024-10-19 18:00:00  68232.1     dssd\n",
       "37 2024-10-19 14:50:00  68233.2 2024-10-19 18:00:00  68233.2     dssd\n",
       "38 2024-10-19 14:55:00  68237.2 2024-10-19 18:00:00  68237.2     dssd\n",
       "39 2024-10-19 14:55:00  68230.2 2024-10-19 18:00:00  68230.2     dssd"
      ],
      "text/html": [
       "<div>\n",
       "<style scoped>\n",
       "    .dataframe tbody tr th:only-of-type {\n",
       "        vertical-align: middle;\n",
       "    }\n",
       "\n",
       "    .dataframe tbody tr th {\n",
       "        vertical-align: top;\n",
       "    }\n",
       "\n",
       "    .dataframe thead th {\n",
       "        text-align: right;\n",
       "    }\n",
       "</style>\n",
       "<table border=\"1\" class=\"dataframe\">\n",
       "  <thead>\n",
       "    <tr style=\"text-align: right;\">\n",
       "      <th></th>\n",
       "      <th>x0</th>\n",
       "      <th>y0</th>\n",
       "      <th>x1</th>\n",
       "      <th>y1</th>\n",
       "      <th>interval</th>\n",
       "    </tr>\n",
       "  </thead>\n",
       "  <tbody>\n",
       "    <tr>\n",
       "      <th>0</th>\n",
       "      <td>2024-10-19 01:40:00</td>\n",
       "      <td>68346.8</td>\n",
       "      <td>2024-10-19 18:00:00</td>\n",
       "      <td>68346.8</td>\n",
       "      <td>dssd</td>\n",
       "    </tr>\n",
       "    <tr>\n",
       "      <th>1</th>\n",
       "      <td>2024-10-19 01:40:00</td>\n",
       "      <td>68337.8</td>\n",
       "      <td>2024-10-19 18:00:00</td>\n",
       "      <td>68337.8</td>\n",
       "      <td>dssd</td>\n",
       "    </tr>\n",
       "    <tr>\n",
       "      <th>2</th>\n",
       "      <td>2024-10-19 01:45:00</td>\n",
       "      <td>68318.5</td>\n",
       "      <td>2024-10-19 18:00:00</td>\n",
       "      <td>68318.5</td>\n",
       "      <td>dssd</td>\n",
       "    </tr>\n",
       "    <tr>\n",
       "      <th>3</th>\n",
       "      <td>2024-10-19 01:45:00</td>\n",
       "      <td>68318.4</td>\n",
       "      <td>2024-10-19 18:00:00</td>\n",
       "      <td>68318.4</td>\n",
       "      <td>dssd</td>\n",
       "    </tr>\n",
       "    <tr>\n",
       "      <th>4</th>\n",
       "      <td>2024-10-19 02:55:00</td>\n",
       "      <td>68403.5</td>\n",
       "      <td>2024-10-19 18:00:00</td>\n",
       "      <td>68403.5</td>\n",
       "      <td>dssd</td>\n",
       "    </tr>\n",
       "    <tr>\n",
       "      <th>5</th>\n",
       "      <td>2024-10-19 02:55:00</td>\n",
       "      <td>68401.7</td>\n",
       "      <td>2024-10-19 18:00:00</td>\n",
       "      <td>68401.7</td>\n",
       "      <td>dssd</td>\n",
       "    </tr>\n",
       "    <tr>\n",
       "      <th>6</th>\n",
       "      <td>2024-10-19 03:00:00</td>\n",
       "      <td>68401.6</td>\n",
       "      <td>2024-10-19 18:00:00</td>\n",
       "      <td>68401.6</td>\n",
       "      <td>dssd</td>\n",
       "    </tr>\n",
       "    <tr>\n",
       "      <th>7</th>\n",
       "      <td>2024-10-19 03:00:00</td>\n",
       "      <td>68401.6</td>\n",
       "      <td>2024-10-19 18:00:00</td>\n",
       "      <td>68401.6</td>\n",
       "      <td>dssd</td>\n",
       "    </tr>\n",
       "    <tr>\n",
       "      <th>8</th>\n",
       "      <td>2024-10-19 04:45:00</td>\n",
       "      <td>68287.5</td>\n",
       "      <td>2024-10-19 18:00:00</td>\n",
       "      <td>68287.5</td>\n",
       "      <td>dssd</td>\n",
       "    </tr>\n",
       "    <tr>\n",
       "      <th>9</th>\n",
       "      <td>2024-10-19 04:45:00</td>\n",
       "      <td>68287.4</td>\n",
       "      <td>2024-10-19 18:00:00</td>\n",
       "      <td>68287.4</td>\n",
       "      <td>dssd</td>\n",
       "    </tr>\n",
       "    <tr>\n",
       "      <th>10</th>\n",
       "      <td>2024-10-19 04:50:00</td>\n",
       "      <td>68269.8</td>\n",
       "      <td>2024-10-19 18:00:00</td>\n",
       "      <td>68269.8</td>\n",
       "      <td>dssd</td>\n",
       "    </tr>\n",
       "    <tr>\n",
       "      <th>11</th>\n",
       "      <td>2024-10-19 04:50:00</td>\n",
       "      <td>68272.5</td>\n",
       "      <td>2024-10-19 18:00:00</td>\n",
       "      <td>68272.5</td>\n",
       "      <td>dssd</td>\n",
       "    </tr>\n",
       "    <tr>\n",
       "      <th>12</th>\n",
       "      <td>2024-10-19 05:50:00</td>\n",
       "      <td>68157.8</td>\n",
       "      <td>2024-10-19 18:00:00</td>\n",
       "      <td>68157.8</td>\n",
       "      <td>dssd</td>\n",
       "    </tr>\n",
       "    <tr>\n",
       "      <th>13</th>\n",
       "      <td>2024-10-19 05:50:00</td>\n",
       "      <td>68163.7</td>\n",
       "      <td>2024-10-19 18:00:00</td>\n",
       "      <td>68163.7</td>\n",
       "      <td>dssd</td>\n",
       "    </tr>\n",
       "    <tr>\n",
       "      <th>14</th>\n",
       "      <td>2024-10-19 05:55:00</td>\n",
       "      <td>68111.9</td>\n",
       "      <td>2024-10-19 18:00:00</td>\n",
       "      <td>68111.9</td>\n",
       "      <td>dssd</td>\n",
       "    </tr>\n",
       "    <tr>\n",
       "      <th>15</th>\n",
       "      <td>2024-10-19 05:55:00</td>\n",
       "      <td>68112.8</td>\n",
       "      <td>2024-10-19 18:00:00</td>\n",
       "      <td>68112.8</td>\n",
       "      <td>dssd</td>\n",
       "    </tr>\n",
       "    <tr>\n",
       "      <th>16</th>\n",
       "      <td>2024-10-19 07:50:00</td>\n",
       "      <td>68140.5</td>\n",
       "      <td>2024-10-19 18:00:00</td>\n",
       "      <td>68140.5</td>\n",
       "      <td>dssd</td>\n",
       "    </tr>\n",
       "    <tr>\n",
       "      <th>17</th>\n",
       "      <td>2024-10-19 07:50:00</td>\n",
       "      <td>68140.5</td>\n",
       "      <td>2024-10-19 18:00:00</td>\n",
       "      <td>68140.5</td>\n",
       "      <td>dssd</td>\n",
       "    </tr>\n",
       "    <tr>\n",
       "      <th>18</th>\n",
       "      <td>2024-10-19 07:55:00</td>\n",
       "      <td>68109.5</td>\n",
       "      <td>2024-10-19 18:00:00</td>\n",
       "      <td>68109.5</td>\n",
       "      <td>dssd</td>\n",
       "    </tr>\n",
       "    <tr>\n",
       "      <th>19</th>\n",
       "      <td>2024-10-19 07:55:00</td>\n",
       "      <td>68101.9</td>\n",
       "      <td>2024-10-19 18:00:00</td>\n",
       "      <td>68101.9</td>\n",
       "      <td>dssd</td>\n",
       "    </tr>\n",
       "    <tr>\n",
       "      <th>20</th>\n",
       "      <td>2024-10-19 10:20:00</td>\n",
       "      <td>68125.3</td>\n",
       "      <td>2024-10-19 18:00:00</td>\n",
       "      <td>68125.3</td>\n",
       "      <td>dssd</td>\n",
       "    </tr>\n",
       "    <tr>\n",
       "      <th>21</th>\n",
       "      <td>2024-10-19 10:20:00</td>\n",
       "      <td>68182.4</td>\n",
       "      <td>2024-10-19 18:00:00</td>\n",
       "      <td>68182.4</td>\n",
       "      <td>dssd</td>\n",
       "    </tr>\n",
       "    <tr>\n",
       "      <th>22</th>\n",
       "      <td>2024-10-19 10:25:00</td>\n",
       "      <td>68115.6</td>\n",
       "      <td>2024-10-19 18:00:00</td>\n",
       "      <td>68115.6</td>\n",
       "      <td>dssd</td>\n",
       "    </tr>\n",
       "    <tr>\n",
       "      <th>23</th>\n",
       "      <td>2024-10-19 10:25:00</td>\n",
       "      <td>68100.4</td>\n",
       "      <td>2024-10-19 18:00:00</td>\n",
       "      <td>68100.4</td>\n",
       "      <td>dssd</td>\n",
       "    </tr>\n",
       "    <tr>\n",
       "      <th>24</th>\n",
       "      <td>2024-10-19 12:00:00</td>\n",
       "      <td>68119.0</td>\n",
       "      <td>2024-10-19 18:00:00</td>\n",
       "      <td>68119.0</td>\n",
       "      <td>dssd</td>\n",
       "    </tr>\n",
       "    <tr>\n",
       "      <th>25</th>\n",
       "      <td>2024-10-19 12:00:00</td>\n",
       "      <td>68124.4</td>\n",
       "      <td>2024-10-19 18:00:00</td>\n",
       "      <td>68124.4</td>\n",
       "      <td>dssd</td>\n",
       "    </tr>\n",
       "    <tr>\n",
       "      <th>26</th>\n",
       "      <td>2024-10-19 12:05:00</td>\n",
       "      <td>68109.3</td>\n",
       "      <td>2024-10-19 18:00:00</td>\n",
       "      <td>68109.3</td>\n",
       "      <td>dssd</td>\n",
       "    </tr>\n",
       "    <tr>\n",
       "      <th>27</th>\n",
       "      <td>2024-10-19 12:05:00</td>\n",
       "      <td>68117.0</td>\n",
       "      <td>2024-10-19 18:00:00</td>\n",
       "      <td>68117.0</td>\n",
       "      <td>dssd</td>\n",
       "    </tr>\n",
       "    <tr>\n",
       "      <th>28</th>\n",
       "      <td>2024-10-19 12:55:00</td>\n",
       "      <td>68181.8</td>\n",
       "      <td>2024-10-19 18:00:00</td>\n",
       "      <td>68181.8</td>\n",
       "      <td>dssd</td>\n",
       "    </tr>\n",
       "    <tr>\n",
       "      <th>29</th>\n",
       "      <td>2024-10-19 12:55:00</td>\n",
       "      <td>68181.5</td>\n",
       "      <td>2024-10-19 18:00:00</td>\n",
       "      <td>68181.5</td>\n",
       "      <td>dssd</td>\n",
       "    </tr>\n",
       "    <tr>\n",
       "      <th>30</th>\n",
       "      <td>2024-10-19 13:00:00</td>\n",
       "      <td>68164.8</td>\n",
       "      <td>2024-10-19 18:00:00</td>\n",
       "      <td>68164.8</td>\n",
       "      <td>dssd</td>\n",
       "    </tr>\n",
       "    <tr>\n",
       "      <th>31</th>\n",
       "      <td>2024-10-19 13:00:00</td>\n",
       "      <td>68164.8</td>\n",
       "      <td>2024-10-19 18:00:00</td>\n",
       "      <td>68164.8</td>\n",
       "      <td>dssd</td>\n",
       "    </tr>\n",
       "    <tr>\n",
       "      <th>32</th>\n",
       "      <td>2024-10-19 13:40:00</td>\n",
       "      <td>68199.9</td>\n",
       "      <td>2024-10-19 18:00:00</td>\n",
       "      <td>68199.9</td>\n",
       "      <td>dssd</td>\n",
       "    </tr>\n",
       "    <tr>\n",
       "      <th>33</th>\n",
       "      <td>2024-10-19 13:40:00</td>\n",
       "      <td>68201.5</td>\n",
       "      <td>2024-10-19 18:00:00</td>\n",
       "      <td>68201.5</td>\n",
       "      <td>dssd</td>\n",
       "    </tr>\n",
       "    <tr>\n",
       "      <th>34</th>\n",
       "      <td>2024-10-19 13:45:00</td>\n",
       "      <td>68169.8</td>\n",
       "      <td>2024-10-19 18:00:00</td>\n",
       "      <td>68169.8</td>\n",
       "      <td>dssd</td>\n",
       "    </tr>\n",
       "    <tr>\n",
       "      <th>35</th>\n",
       "      <td>2024-10-19 13:45:00</td>\n",
       "      <td>68179.3</td>\n",
       "      <td>2024-10-19 18:00:00</td>\n",
       "      <td>68179.3</td>\n",
       "      <td>dssd</td>\n",
       "    </tr>\n",
       "    <tr>\n",
       "      <th>36</th>\n",
       "      <td>2024-10-19 14:50:00</td>\n",
       "      <td>68232.1</td>\n",
       "      <td>2024-10-19 18:00:00</td>\n",
       "      <td>68232.1</td>\n",
       "      <td>dssd</td>\n",
       "    </tr>\n",
       "    <tr>\n",
       "      <th>37</th>\n",
       "      <td>2024-10-19 14:50:00</td>\n",
       "      <td>68233.2</td>\n",
       "      <td>2024-10-19 18:00:00</td>\n",
       "      <td>68233.2</td>\n",
       "      <td>dssd</td>\n",
       "    </tr>\n",
       "    <tr>\n",
       "      <th>38</th>\n",
       "      <td>2024-10-19 14:55:00</td>\n",
       "      <td>68237.2</td>\n",
       "      <td>2024-10-19 18:00:00</td>\n",
       "      <td>68237.2</td>\n",
       "      <td>dssd</td>\n",
       "    </tr>\n",
       "    <tr>\n",
       "      <th>39</th>\n",
       "      <td>2024-10-19 14:55:00</td>\n",
       "      <td>68230.2</td>\n",
       "      <td>2024-10-19 18:00:00</td>\n",
       "      <td>68230.2</td>\n",
       "      <td>dssd</td>\n",
       "    </tr>\n",
       "  </tbody>\n",
       "</table>\n",
       "</div>"
      ]
     },
     "execution_count": 202,
     "metadata": {},
     "output_type": "execute_result"
    }
   ],
   "execution_count": 202
  },
  {
   "metadata": {
    "ExecuteTime": {
     "end_time": "2024-10-20T00:31:31.418687Z",
     "start_time": "2024-10-20T00:31:27.501075Z"
    }
   },
   "cell_type": "code",
   "source": [
    "hcn = 3\n",
    "hc = HoldCandle(Interval.in_daily, hcn)\n",
    "hcmins = int(hcn*24*60)\n",
    "\n",
    "tc = TestCandle(Interval.in_1_minute, hcmins)\n",
    "\n",
    "\n",
    "for i in INTERVALS[1:3]:\n",
    "\n",
    "    n = int(round(hcmins / df.mins.loc[i]))\n",
    "    if ntc > 5000:\n",
    "        ntc = 5000\n",
    "    hc = HoldCandle(Interval[i], n)\n",
    "    pc = Untested(hc, tc)\n",
    "    longs = ut.longs"
   ],
   "id": "f23f3a139a6808aa",
   "outputs": [
    {
     "name": "stdout",
     "output_type": "stream",
     "text": [
      "LONGS\n",
      " To Test: 352\n",
      " Tested: 294\n",
      "SHORTS\n",
      " To Test: 364\n",
      " Tested: 319\n",
      "LONGS\n",
      " To Test: 216\n",
      " Tested: 194\n",
      "SHORTS\n",
      " To Test: 196\n",
      " Tested: 178\n"
     ]
    }
   ],
   "execution_count": 208
  },
  {
   "metadata": {
    "ExecuteTime": {
     "end_time": "2024-10-19T23:02:33.174033Z",
     "start_time": "2024-10-19T23:02:32.217688Z"
    }
   },
   "cell_type": "code",
   "outputs": [],
   "execution_count": 150,
   "source": "tc = HoldCandle(Interval.in_5_minute, 200)",
   "id": "d8bc6447544c0e51"
  },
  {
   "metadata": {},
   "cell_type": "code",
   "outputs": [],
   "execution_count": null,
   "source": "",
   "id": "7116d52c9dff67d1"
  },
  {
   "metadata": {
    "ExecuteTime": {
     "end_time": "2024-10-19T23:42:56.843040Z",
     "start_time": "2024-10-19T23:42:56.839357Z"
    }
   },
   "cell_type": "code",
   "source": [
    "class Plot2(PlotCandle):\n",
    "    def __init__(self, holdcandle, testcandle, plot_kws=[], **kwargs):\n",
    "        super().__init__(holdcandle, testcandle)\n",
    "        self.plot_kws = plot_kws\n",
    "       \n",
    "        for k in kwargs.keys():\n",
    "            self.__setattr__(k, kwargs[k])\n",
    "            self.plot_kws.append(k)\n",
    "       \n",
    "        self.fig=self.plot()\n",
    "        \n",
    "    def modplot(self):\n",
    "        for kw in self.plot_kws:\n",
    "            print(kw, self.__dict__[kw])\n",
    "            self.fig.layout[kw] = self.__dict__[kw]\n",
    "\n",
    "    def plot_longs(self):\n",
    "        self.add_lines(self.long_hlines, self.fig, color='green')\n",
    "        \n",
    "    def plot_shorts(self):\n",
    "        self.add_lines(self.short_hlines, self.fig, color='red')\n",
    "        \n",
    "    def plot_both(self):\n",
    "        self.plot_longs()\n",
    "        self.plot_shorts()\n",
    "        \n",
    "    \n",
    "        \n",
    "\n"
   ],
   "id": "3a1b39dd8e609be3",
   "outputs": [],
   "execution_count": 176
  },
  {
   "metadata": {},
   "cell_type": "code",
   "outputs": [],
   "execution_count": null,
   "source": [
    "def add_multi_holds():\n",
    "    "
   ],
   "id": "6d6595eeca645e4a"
  },
  {
   "metadata": {
    "ExecuteTime": {
     "end_time": "2024-10-20T00:19:20.948451Z",
     "start_time": "2024-10-20T00:19:20.183567Z"
    }
   },
   "cell_type": "code",
   "source": [
    "pc2 = Plot2(hc, tc)\n",
    "pc2.plot_both()\n",
    "pc2.fig.show()"
   ],
   "id": "4d7941f48a8a227b",
   "outputs": [
    {
     "data": {
      "application/vnd.plotly.v1+json": {
       "data": [
        {
         "close": [
          68413.4,
          68359.2,
          68397.4
         ],
         "high": [
          68998.7,
          68694.9,
          68432.9
         ],
         "low": [
          67178.3,
          68010.0,
          68355.7
         ],
         "open": [
          67411.1,
          68413.4,
          68359.2
         ],
         "x": [
          "2024-10-17T18:00:00",
          "2024-10-18T18:00:00",
          "2024-10-19T18:00:00"
         ],
         "type": "candlestick",
         "increasing": {
          "line": {
           "color": "white"
          }
         },
         "decreasing": {
          "line": {
           "color": "blue"
          }
         }
        }
       ],
       "layout": {
        "template": {
         "data": {
          "histogram2dcontour": [
           {
            "type": "histogram2dcontour",
            "colorbar": {
             "outlinewidth": 0,
             "ticks": ""
            },
            "colorscale": [
             [
              0.0,
              "#0d0887"
             ],
             [
              0.1111111111111111,
              "#46039f"
             ],
             [
              0.2222222222222222,
              "#7201a8"
             ],
             [
              0.3333333333333333,
              "#9c179e"
             ],
             [
              0.4444444444444444,
              "#bd3786"
             ],
             [
              0.5555555555555556,
              "#d8576b"
             ],
             [
              0.6666666666666666,
              "#ed7953"
             ],
             [
              0.7777777777777778,
              "#fb9f3a"
             ],
             [
              0.8888888888888888,
              "#fdca26"
             ],
             [
              1.0,
              "#f0f921"
             ]
            ]
           }
          ],
          "choropleth": [
           {
            "type": "choropleth",
            "colorbar": {
             "outlinewidth": 0,
             "ticks": ""
            }
           }
          ],
          "histogram2d": [
           {
            "type": "histogram2d",
            "colorbar": {
             "outlinewidth": 0,
             "ticks": ""
            },
            "colorscale": [
             [
              0.0,
              "#0d0887"
             ],
             [
              0.1111111111111111,
              "#46039f"
             ],
             [
              0.2222222222222222,
              "#7201a8"
             ],
             [
              0.3333333333333333,
              "#9c179e"
             ],
             [
              0.4444444444444444,
              "#bd3786"
             ],
             [
              0.5555555555555556,
              "#d8576b"
             ],
             [
              0.6666666666666666,
              "#ed7953"
             ],
             [
              0.7777777777777778,
              "#fb9f3a"
             ],
             [
              0.8888888888888888,
              "#fdca26"
             ],
             [
              1.0,
              "#f0f921"
             ]
            ]
           }
          ],
          "heatmap": [
           {
            "type": "heatmap",
            "colorbar": {
             "outlinewidth": 0,
             "ticks": ""
            },
            "colorscale": [
             [
              0.0,
              "#0d0887"
             ],
             [
              0.1111111111111111,
              "#46039f"
             ],
             [
              0.2222222222222222,
              "#7201a8"
             ],
             [
              0.3333333333333333,
              "#9c179e"
             ],
             [
              0.4444444444444444,
              "#bd3786"
             ],
             [
              0.5555555555555556,
              "#d8576b"
             ],
             [
              0.6666666666666666,
              "#ed7953"
             ],
             [
              0.7777777777777778,
              "#fb9f3a"
             ],
             [
              0.8888888888888888,
              "#fdca26"
             ],
             [
              1.0,
              "#f0f921"
             ]
            ]
           }
          ],
          "heatmapgl": [
           {
            "type": "heatmapgl",
            "colorbar": {
             "outlinewidth": 0,
             "ticks": ""
            },
            "colorscale": [
             [
              0.0,
              "#0d0887"
             ],
             [
              0.1111111111111111,
              "#46039f"
             ],
             [
              0.2222222222222222,
              "#7201a8"
             ],
             [
              0.3333333333333333,
              "#9c179e"
             ],
             [
              0.4444444444444444,
              "#bd3786"
             ],
             [
              0.5555555555555556,
              "#d8576b"
             ],
             [
              0.6666666666666666,
              "#ed7953"
             ],
             [
              0.7777777777777778,
              "#fb9f3a"
             ],
             [
              0.8888888888888888,
              "#fdca26"
             ],
             [
              1.0,
              "#f0f921"
             ]
            ]
           }
          ],
          "contourcarpet": [
           {
            "type": "contourcarpet",
            "colorbar": {
             "outlinewidth": 0,
             "ticks": ""
            }
           }
          ],
          "contour": [
           {
            "type": "contour",
            "colorbar": {
             "outlinewidth": 0,
             "ticks": ""
            },
            "colorscale": [
             [
              0.0,
              "#0d0887"
             ],
             [
              0.1111111111111111,
              "#46039f"
             ],
             [
              0.2222222222222222,
              "#7201a8"
             ],
             [
              0.3333333333333333,
              "#9c179e"
             ],
             [
              0.4444444444444444,
              "#bd3786"
             ],
             [
              0.5555555555555556,
              "#d8576b"
             ],
             [
              0.6666666666666666,
              "#ed7953"
             ],
             [
              0.7777777777777778,
              "#fb9f3a"
             ],
             [
              0.8888888888888888,
              "#fdca26"
             ],
             [
              1.0,
              "#f0f921"
             ]
            ]
           }
          ],
          "surface": [
           {
            "type": "surface",
            "colorbar": {
             "outlinewidth": 0,
             "ticks": ""
            },
            "colorscale": [
             [
              0.0,
              "#0d0887"
             ],
             [
              0.1111111111111111,
              "#46039f"
             ],
             [
              0.2222222222222222,
              "#7201a8"
             ],
             [
              0.3333333333333333,
              "#9c179e"
             ],
             [
              0.4444444444444444,
              "#bd3786"
             ],
             [
              0.5555555555555556,
              "#d8576b"
             ],
             [
              0.6666666666666666,
              "#ed7953"
             ],
             [
              0.7777777777777778,
              "#fb9f3a"
             ],
             [
              0.8888888888888888,
              "#fdca26"
             ],
             [
              1.0,
              "#f0f921"
             ]
            ]
           }
          ],
          "mesh3d": [
           {
            "type": "mesh3d",
            "colorbar": {
             "outlinewidth": 0,
             "ticks": ""
            }
           }
          ],
          "scatter": [
           {
            "marker": {
             "line": {
              "color": "#283442"
             }
            },
            "type": "scatter"
           }
          ],
          "parcoords": [
           {
            "type": "parcoords",
            "line": {
             "colorbar": {
              "outlinewidth": 0,
              "ticks": ""
             }
            }
           }
          ],
          "scatterpolargl": [
           {
            "type": "scatterpolargl",
            "marker": {
             "colorbar": {
              "outlinewidth": 0,
              "ticks": ""
             }
            }
           }
          ],
          "bar": [
           {
            "error_x": {
             "color": "#f2f5fa"
            },
            "error_y": {
             "color": "#f2f5fa"
            },
            "marker": {
             "line": {
              "color": "rgb(17,17,17)",
              "width": 0.5
             },
             "pattern": {
              "fillmode": "overlay",
              "size": 10,
              "solidity": 0.2
             }
            },
            "type": "bar"
           }
          ],
          "scattergeo": [
           {
            "type": "scattergeo",
            "marker": {
             "colorbar": {
              "outlinewidth": 0,
              "ticks": ""
             }
            }
           }
          ],
          "scatterpolar": [
           {
            "type": "scatterpolar",
            "marker": {
             "colorbar": {
              "outlinewidth": 0,
              "ticks": ""
             }
            }
           }
          ],
          "histogram": [
           {
            "marker": {
             "pattern": {
              "fillmode": "overlay",
              "size": 10,
              "solidity": 0.2
             }
            },
            "type": "histogram"
           }
          ],
          "scattergl": [
           {
            "marker": {
             "line": {
              "color": "#283442"
             }
            },
            "type": "scattergl"
           }
          ],
          "scatter3d": [
           {
            "type": "scatter3d",
            "line": {
             "colorbar": {
              "outlinewidth": 0,
              "ticks": ""
             }
            },
            "marker": {
             "colorbar": {
              "outlinewidth": 0,
              "ticks": ""
             }
            }
           }
          ],
          "scattermapbox": [
           {
            "type": "scattermapbox",
            "marker": {
             "colorbar": {
              "outlinewidth": 0,
              "ticks": ""
             }
            }
           }
          ],
          "scatterternary": [
           {
            "type": "scatterternary",
            "marker": {
             "colorbar": {
              "outlinewidth": 0,
              "ticks": ""
             }
            }
           }
          ],
          "scattercarpet": [
           {
            "type": "scattercarpet",
            "marker": {
             "colorbar": {
              "outlinewidth": 0,
              "ticks": ""
             }
            }
           }
          ],
          "carpet": [
           {
            "aaxis": {
             "endlinecolor": "#A2B1C6",
             "gridcolor": "#506784",
             "linecolor": "#506784",
             "minorgridcolor": "#506784",
             "startlinecolor": "#A2B1C6"
            },
            "baxis": {
             "endlinecolor": "#A2B1C6",
             "gridcolor": "#506784",
             "linecolor": "#506784",
             "minorgridcolor": "#506784",
             "startlinecolor": "#A2B1C6"
            },
            "type": "carpet"
           }
          ],
          "table": [
           {
            "cells": {
             "fill": {
              "color": "#506784"
             },
             "line": {
              "color": "rgb(17,17,17)"
             }
            },
            "header": {
             "fill": {
              "color": "#2a3f5f"
             },
             "line": {
              "color": "rgb(17,17,17)"
             }
            },
            "type": "table"
           }
          ],
          "barpolar": [
           {
            "marker": {
             "line": {
              "color": "rgb(17,17,17)",
              "width": 0.5
             },
             "pattern": {
              "fillmode": "overlay",
              "size": 10,
              "solidity": 0.2
             }
            },
            "type": "barpolar"
           }
          ],
          "pie": [
           {
            "automargin": true,
            "type": "pie"
           }
          ]
         },
         "layout": {
          "autotypenumbers": "strict",
          "colorway": [
           "#636efa",
           "#EF553B",
           "#00cc96",
           "#ab63fa",
           "#FFA15A",
           "#19d3f3",
           "#FF6692",
           "#B6E880",
           "#FF97FF",
           "#FECB52"
          ],
          "font": {
           "color": "#f2f5fa"
          },
          "hovermode": "closest",
          "hoverlabel": {
           "align": "left"
          },
          "paper_bgcolor": "rgb(17,17,17)",
          "plot_bgcolor": "rgb(17,17,17)",
          "polar": {
           "bgcolor": "rgb(17,17,17)",
           "angularaxis": {
            "gridcolor": "#506784",
            "linecolor": "#506784",
            "ticks": ""
           },
           "radialaxis": {
            "gridcolor": "#506784",
            "linecolor": "#506784",
            "ticks": ""
           }
          },
          "ternary": {
           "bgcolor": "rgb(17,17,17)",
           "aaxis": {
            "gridcolor": "#506784",
            "linecolor": "#506784",
            "ticks": ""
           },
           "baxis": {
            "gridcolor": "#506784",
            "linecolor": "#506784",
            "ticks": ""
           },
           "caxis": {
            "gridcolor": "#506784",
            "linecolor": "#506784",
            "ticks": ""
           }
          },
          "coloraxis": {
           "colorbar": {
            "outlinewidth": 0,
            "ticks": ""
           }
          },
          "colorscale": {
           "sequential": [
            [
             0.0,
             "#0d0887"
            ],
            [
             0.1111111111111111,
             "#46039f"
            ],
            [
             0.2222222222222222,
             "#7201a8"
            ],
            [
             0.3333333333333333,
             "#9c179e"
            ],
            [
             0.4444444444444444,
             "#bd3786"
            ],
            [
             0.5555555555555556,
             "#d8576b"
            ],
            [
             0.6666666666666666,
             "#ed7953"
            ],
            [
             0.7777777777777778,
             "#fb9f3a"
            ],
            [
             0.8888888888888888,
             "#fdca26"
            ],
            [
             1.0,
             "#f0f921"
            ]
           ],
           "sequentialminus": [
            [
             0.0,
             "#0d0887"
            ],
            [
             0.1111111111111111,
             "#46039f"
            ],
            [
             0.2222222222222222,
             "#7201a8"
            ],
            [
             0.3333333333333333,
             "#9c179e"
            ],
            [
             0.4444444444444444,
             "#bd3786"
            ],
            [
             0.5555555555555556,
             "#d8576b"
            ],
            [
             0.6666666666666666,
             "#ed7953"
            ],
            [
             0.7777777777777778,
             "#fb9f3a"
            ],
            [
             0.8888888888888888,
             "#fdca26"
            ],
            [
             1.0,
             "#f0f921"
            ]
           ],
           "diverging": [
            [
             0,
             "#8e0152"
            ],
            [
             0.1,
             "#c51b7d"
            ],
            [
             0.2,
             "#de77ae"
            ],
            [
             0.3,
             "#f1b6da"
            ],
            [
             0.4,
             "#fde0ef"
            ],
            [
             0.5,
             "#f7f7f7"
            ],
            [
             0.6,
             "#e6f5d0"
            ],
            [
             0.7,
             "#b8e186"
            ],
            [
             0.8,
             "#7fbc41"
            ],
            [
             0.9,
             "#4d9221"
            ],
            [
             1,
             "#276419"
            ]
           ]
          },
          "xaxis": {
           "gridcolor": "#283442",
           "linecolor": "#506784",
           "ticks": "",
           "title": {
            "standoff": 15
           },
           "zerolinecolor": "#283442",
           "automargin": true,
           "zerolinewidth": 2
          },
          "yaxis": {
           "gridcolor": "#283442",
           "linecolor": "#506784",
           "ticks": "",
           "title": {
            "standoff": 15
           },
           "zerolinecolor": "#283442",
           "automargin": true,
           "zerolinewidth": 2
          },
          "scene": {
           "xaxis": {
            "backgroundcolor": "rgb(17,17,17)",
            "gridcolor": "#506784",
            "linecolor": "#506784",
            "showbackground": true,
            "ticks": "",
            "zerolinecolor": "#C8D4E3",
            "gridwidth": 2
           },
           "yaxis": {
            "backgroundcolor": "rgb(17,17,17)",
            "gridcolor": "#506784",
            "linecolor": "#506784",
            "showbackground": true,
            "ticks": "",
            "zerolinecolor": "#C8D4E3",
            "gridwidth": 2
           },
           "zaxis": {
            "backgroundcolor": "rgb(17,17,17)",
            "gridcolor": "#506784",
            "linecolor": "#506784",
            "showbackground": true,
            "ticks": "",
            "zerolinecolor": "#C8D4E3",
            "gridwidth": 2
           }
          },
          "shapedefaults": {
           "line": {
            "color": "#f2f5fa"
           }
          },
          "annotationdefaults": {
           "arrowcolor": "#f2f5fa",
           "arrowhead": 0,
           "arrowwidth": 1
          },
          "geo": {
           "bgcolor": "rgb(17,17,17)",
           "landcolor": "rgb(17,17,17)",
           "subunitcolor": "#506784",
           "showland": true,
           "showlakes": true,
           "lakecolor": "rgb(17,17,17)"
          },
          "title": {
           "x": 0.05
          },
          "updatemenudefaults": {
           "bgcolor": "#506784",
           "borderwidth": 0
          },
          "sliderdefaults": {
           "bgcolor": "#C8D4E3",
           "borderwidth": 1,
           "bordercolor": "rgb(17,17,17)",
           "tickwidth": 0
          },
          "mapbox": {
           "style": "dark"
          }
         }
        },
        "xaxis": {
         "rangeslider": {
          "visible": false
         },
         "title": {
          "text": "Date"
         }
        },
        "title": {
         "text": "daily"
        },
        "yaxis": {
         "title": {
          "text": "Price"
         }
        },
        "shapes": [
         {
          "label": {
           "font": {
            "size": 10
           },
           "padding": 0,
           "text": "68346.8",
           "textposition": "end",
           "xanchor": "right",
           "yanchor": "middle"
          },
          "line": {
           "color": "green"
          },
          "type": "line",
          "x0": "2024-10-19T01:40:00",
          "x1": "2024-10-19T18:00:00",
          "y0": 68346.8,
          "y1": 68346.8
         },
         {
          "label": {
           "font": {
            "size": 10
           },
           "padding": 0,
           "text": "68337.8",
           "textposition": "end",
           "xanchor": "right",
           "yanchor": "middle"
          },
          "line": {
           "color": "green"
          },
          "type": "line",
          "x0": "2024-10-19T01:40:00",
          "x1": "2024-10-19T18:00:00",
          "y0": 68337.8,
          "y1": 68337.8
         },
         {
          "label": {
           "font": {
            "size": 10
           },
           "padding": 0,
           "text": "68318.5",
           "textposition": "end",
           "xanchor": "right",
           "yanchor": "middle"
          },
          "line": {
           "color": "green"
          },
          "type": "line",
          "x0": "2024-10-19T01:45:00",
          "x1": "2024-10-19T18:00:00",
          "y0": 68318.5,
          "y1": 68318.5
         },
         {
          "label": {
           "font": {
            "size": 10
           },
           "padding": 0,
           "text": "68318.4",
           "textposition": "end",
           "xanchor": "right",
           "yanchor": "middle"
          },
          "line": {
           "color": "green"
          },
          "type": "line",
          "x0": "2024-10-19T01:45:00",
          "x1": "2024-10-19T18:00:00",
          "y0": 68318.4,
          "y1": 68318.4
         },
         {
          "label": {
           "font": {
            "size": 10
           },
           "padding": 0,
           "text": "68403.5",
           "textposition": "end",
           "xanchor": "right",
           "yanchor": "middle"
          },
          "line": {
           "color": "green"
          },
          "type": "line",
          "x0": "2024-10-19T02:55:00",
          "x1": "2024-10-19T18:00:00",
          "y0": 68403.5,
          "y1": 68403.5
         },
         {
          "label": {
           "font": {
            "size": 10
           },
           "padding": 0,
           "text": "68401.7",
           "textposition": "end",
           "xanchor": "right",
           "yanchor": "middle"
          },
          "line": {
           "color": "green"
          },
          "type": "line",
          "x0": "2024-10-19T02:55:00",
          "x1": "2024-10-19T18:00:00",
          "y0": 68401.7,
          "y1": 68401.7
         },
         {
          "label": {
           "font": {
            "size": 10
           },
           "padding": 0,
           "text": "68401.6",
           "textposition": "end",
           "xanchor": "right",
           "yanchor": "middle"
          },
          "line": {
           "color": "green"
          },
          "type": "line",
          "x0": "2024-10-19T03:00:00",
          "x1": "2024-10-19T18:00:00",
          "y0": 68401.6,
          "y1": 68401.6
         },
         {
          "label": {
           "font": {
            "size": 10
           },
           "padding": 0,
           "text": "68401.6",
           "textposition": "end",
           "xanchor": "right",
           "yanchor": "middle"
          },
          "line": {
           "color": "green"
          },
          "type": "line",
          "x0": "2024-10-19T03:00:00",
          "x1": "2024-10-19T18:00:00",
          "y0": 68401.6,
          "y1": 68401.6
         },
         {
          "label": {
           "font": {
            "size": 10
           },
           "padding": 0,
           "text": "68287.5",
           "textposition": "end",
           "xanchor": "right",
           "yanchor": "middle"
          },
          "line": {
           "color": "green"
          },
          "type": "line",
          "x0": "2024-10-19T04:45:00",
          "x1": "2024-10-19T18:00:00",
          "y0": 68287.5,
          "y1": 68287.5
         },
         {
          "label": {
           "font": {
            "size": 10
           },
           "padding": 0,
           "text": "68287.4",
           "textposition": "end",
           "xanchor": "right",
           "yanchor": "middle"
          },
          "line": {
           "color": "green"
          },
          "type": "line",
          "x0": "2024-10-19T04:45:00",
          "x1": "2024-10-19T18:00:00",
          "y0": 68287.4,
          "y1": 68287.4
         },
         {
          "label": {
           "font": {
            "size": 10
           },
           "padding": 0,
           "text": "68269.8",
           "textposition": "end",
           "xanchor": "right",
           "yanchor": "middle"
          },
          "line": {
           "color": "green"
          },
          "type": "line",
          "x0": "2024-10-19T04:50:00",
          "x1": "2024-10-19T18:00:00",
          "y0": 68269.8,
          "y1": 68269.8
         },
         {
          "label": {
           "font": {
            "size": 10
           },
           "padding": 0,
           "text": "68272.5",
           "textposition": "end",
           "xanchor": "right",
           "yanchor": "middle"
          },
          "line": {
           "color": "green"
          },
          "type": "line",
          "x0": "2024-10-19T04:50:00",
          "x1": "2024-10-19T18:00:00",
          "y0": 68272.5,
          "y1": 68272.5
         },
         {
          "label": {
           "font": {
            "size": 10
           },
           "padding": 0,
           "text": "68157.8",
           "textposition": "end",
           "xanchor": "right",
           "yanchor": "middle"
          },
          "line": {
           "color": "green"
          },
          "type": "line",
          "x0": "2024-10-19T05:50:00",
          "x1": "2024-10-19T18:00:00",
          "y0": 68157.8,
          "y1": 68157.8
         },
         {
          "label": {
           "font": {
            "size": 10
           },
           "padding": 0,
           "text": "68163.7",
           "textposition": "end",
           "xanchor": "right",
           "yanchor": "middle"
          },
          "line": {
           "color": "green"
          },
          "type": "line",
          "x0": "2024-10-19T05:50:00",
          "x1": "2024-10-19T18:00:00",
          "y0": 68163.7,
          "y1": 68163.7
         },
         {
          "label": {
           "font": {
            "size": 10
           },
           "padding": 0,
           "text": "68111.9",
           "textposition": "end",
           "xanchor": "right",
           "yanchor": "middle"
          },
          "line": {
           "color": "green"
          },
          "type": "line",
          "x0": "2024-10-19T05:55:00",
          "x1": "2024-10-19T18:00:00",
          "y0": 68111.9,
          "y1": 68111.9
         },
         {
          "label": {
           "font": {
            "size": 10
           },
           "padding": 0,
           "text": "68112.8",
           "textposition": "end",
           "xanchor": "right",
           "yanchor": "middle"
          },
          "line": {
           "color": "green"
          },
          "type": "line",
          "x0": "2024-10-19T05:55:00",
          "x1": "2024-10-19T18:00:00",
          "y0": 68112.8,
          "y1": 68112.8
         },
         {
          "label": {
           "font": {
            "size": 10
           },
           "padding": 0,
           "text": "68140.5",
           "textposition": "end",
           "xanchor": "right",
           "yanchor": "middle"
          },
          "line": {
           "color": "green"
          },
          "type": "line",
          "x0": "2024-10-19T07:50:00",
          "x1": "2024-10-19T18:00:00",
          "y0": 68140.5,
          "y1": 68140.5
         },
         {
          "label": {
           "font": {
            "size": 10
           },
           "padding": 0,
           "text": "68140.5",
           "textposition": "end",
           "xanchor": "right",
           "yanchor": "middle"
          },
          "line": {
           "color": "green"
          },
          "type": "line",
          "x0": "2024-10-19T07:50:00",
          "x1": "2024-10-19T18:00:00",
          "y0": 68140.5,
          "y1": 68140.5
         },
         {
          "label": {
           "font": {
            "size": 10
           },
           "padding": 0,
           "text": "68109.5",
           "textposition": "end",
           "xanchor": "right",
           "yanchor": "middle"
          },
          "line": {
           "color": "green"
          },
          "type": "line",
          "x0": "2024-10-19T07:55:00",
          "x1": "2024-10-19T18:00:00",
          "y0": 68109.5,
          "y1": 68109.5
         },
         {
          "label": {
           "font": {
            "size": 10
           },
           "padding": 0,
           "text": "68101.9",
           "textposition": "end",
           "xanchor": "right",
           "yanchor": "middle"
          },
          "line": {
           "color": "green"
          },
          "type": "line",
          "x0": "2024-10-19T07:55:00",
          "x1": "2024-10-19T18:00:00",
          "y0": 68101.9,
          "y1": 68101.9
         },
         {
          "label": {
           "font": {
            "size": 10
           },
           "padding": 0,
           "text": "68125.3",
           "textposition": "end",
           "xanchor": "right",
           "yanchor": "middle"
          },
          "line": {
           "color": "green"
          },
          "type": "line",
          "x0": "2024-10-19T10:20:00",
          "x1": "2024-10-19T18:00:00",
          "y0": 68125.3,
          "y1": 68125.3
         },
         {
          "label": {
           "font": {
            "size": 10
           },
           "padding": 0,
           "text": "68182.4",
           "textposition": "end",
           "xanchor": "right",
           "yanchor": "middle"
          },
          "line": {
           "color": "green"
          },
          "type": "line",
          "x0": "2024-10-19T10:20:00",
          "x1": "2024-10-19T18:00:00",
          "y0": 68182.4,
          "y1": 68182.4
         },
         {
          "label": {
           "font": {
            "size": 10
           },
           "padding": 0,
           "text": "68115.6",
           "textposition": "end",
           "xanchor": "right",
           "yanchor": "middle"
          },
          "line": {
           "color": "green"
          },
          "type": "line",
          "x0": "2024-10-19T10:25:00",
          "x1": "2024-10-19T18:00:00",
          "y0": 68115.6,
          "y1": 68115.6
         },
         {
          "label": {
           "font": {
            "size": 10
           },
           "padding": 0,
           "text": "68100.4",
           "textposition": "end",
           "xanchor": "right",
           "yanchor": "middle"
          },
          "line": {
           "color": "green"
          },
          "type": "line",
          "x0": "2024-10-19T10:25:00",
          "x1": "2024-10-19T18:00:00",
          "y0": 68100.4,
          "y1": 68100.4
         },
         {
          "label": {
           "font": {
            "size": 10
           },
           "padding": 0,
           "text": "68119.0",
           "textposition": "end",
           "xanchor": "right",
           "yanchor": "middle"
          },
          "line": {
           "color": "green"
          },
          "type": "line",
          "x0": "2024-10-19T12:00:00",
          "x1": "2024-10-19T18:00:00",
          "y0": 68119.0,
          "y1": 68119.0
         },
         {
          "label": {
           "font": {
            "size": 10
           },
           "padding": 0,
           "text": "68124.4",
           "textposition": "end",
           "xanchor": "right",
           "yanchor": "middle"
          },
          "line": {
           "color": "green"
          },
          "type": "line",
          "x0": "2024-10-19T12:00:00",
          "x1": "2024-10-19T18:00:00",
          "y0": 68124.4,
          "y1": 68124.4
         },
         {
          "label": {
           "font": {
            "size": 10
           },
           "padding": 0,
           "text": "68109.3",
           "textposition": "end",
           "xanchor": "right",
           "yanchor": "middle"
          },
          "line": {
           "color": "green"
          },
          "type": "line",
          "x0": "2024-10-19T12:05:00",
          "x1": "2024-10-19T18:00:00",
          "y0": 68109.3,
          "y1": 68109.3
         },
         {
          "label": {
           "font": {
            "size": 10
           },
           "padding": 0,
           "text": "68117.0",
           "textposition": "end",
           "xanchor": "right",
           "yanchor": "middle"
          },
          "line": {
           "color": "green"
          },
          "type": "line",
          "x0": "2024-10-19T12:05:00",
          "x1": "2024-10-19T18:00:00",
          "y0": 68117.0,
          "y1": 68117.0
         },
         {
          "label": {
           "font": {
            "size": 10
           },
           "padding": 0,
           "text": "68181.8",
           "textposition": "end",
           "xanchor": "right",
           "yanchor": "middle"
          },
          "line": {
           "color": "green"
          },
          "type": "line",
          "x0": "2024-10-19T12:55:00",
          "x1": "2024-10-19T18:00:00",
          "y0": 68181.8,
          "y1": 68181.8
         },
         {
          "label": {
           "font": {
            "size": 10
           },
           "padding": 0,
           "text": "68181.5",
           "textposition": "end",
           "xanchor": "right",
           "yanchor": "middle"
          },
          "line": {
           "color": "green"
          },
          "type": "line",
          "x0": "2024-10-19T12:55:00",
          "x1": "2024-10-19T18:00:00",
          "y0": 68181.5,
          "y1": 68181.5
         },
         {
          "label": {
           "font": {
            "size": 10
           },
           "padding": 0,
           "text": "68164.8",
           "textposition": "end",
           "xanchor": "right",
           "yanchor": "middle"
          },
          "line": {
           "color": "green"
          },
          "type": "line",
          "x0": "2024-10-19T13:00:00",
          "x1": "2024-10-19T18:00:00",
          "y0": 68164.8,
          "y1": 68164.8
         },
         {
          "label": {
           "font": {
            "size": 10
           },
           "padding": 0,
           "text": "68164.8",
           "textposition": "end",
           "xanchor": "right",
           "yanchor": "middle"
          },
          "line": {
           "color": "green"
          },
          "type": "line",
          "x0": "2024-10-19T13:00:00",
          "x1": "2024-10-19T18:00:00",
          "y0": 68164.8,
          "y1": 68164.8
         },
         {
          "label": {
           "font": {
            "size": 10
           },
           "padding": 0,
           "text": "68199.9",
           "textposition": "end",
           "xanchor": "right",
           "yanchor": "middle"
          },
          "line": {
           "color": "green"
          },
          "type": "line",
          "x0": "2024-10-19T13:40:00",
          "x1": "2024-10-19T18:00:00",
          "y0": 68199.9,
          "y1": 68199.9
         },
         {
          "label": {
           "font": {
            "size": 10
           },
           "padding": 0,
           "text": "68201.5",
           "textposition": "end",
           "xanchor": "right",
           "yanchor": "middle"
          },
          "line": {
           "color": "green"
          },
          "type": "line",
          "x0": "2024-10-19T13:40:00",
          "x1": "2024-10-19T18:00:00",
          "y0": 68201.5,
          "y1": 68201.5
         },
         {
          "label": {
           "font": {
            "size": 10
           },
           "padding": 0,
           "text": "68169.8",
           "textposition": "end",
           "xanchor": "right",
           "yanchor": "middle"
          },
          "line": {
           "color": "green"
          },
          "type": "line",
          "x0": "2024-10-19T13:45:00",
          "x1": "2024-10-19T18:00:00",
          "y0": 68169.8,
          "y1": 68169.8
         },
         {
          "label": {
           "font": {
            "size": 10
           },
           "padding": 0,
           "text": "68179.3",
           "textposition": "end",
           "xanchor": "right",
           "yanchor": "middle"
          },
          "line": {
           "color": "green"
          },
          "type": "line",
          "x0": "2024-10-19T13:45:00",
          "x1": "2024-10-19T18:00:00",
          "y0": 68179.3,
          "y1": 68179.3
         },
         {
          "label": {
           "font": {
            "size": 10
           },
           "padding": 0,
           "text": "68232.1",
           "textposition": "end",
           "xanchor": "right",
           "yanchor": "middle"
          },
          "line": {
           "color": "green"
          },
          "type": "line",
          "x0": "2024-10-19T14:50:00",
          "x1": "2024-10-19T18:00:00",
          "y0": 68232.1,
          "y1": 68232.1
         },
         {
          "label": {
           "font": {
            "size": 10
           },
           "padding": 0,
           "text": "68233.2",
           "textposition": "end",
           "xanchor": "right",
           "yanchor": "middle"
          },
          "line": {
           "color": "green"
          },
          "type": "line",
          "x0": "2024-10-19T14:50:00",
          "x1": "2024-10-19T18:00:00",
          "y0": 68233.2,
          "y1": 68233.2
         },
         {
          "label": {
           "font": {
            "size": 10
           },
           "padding": 0,
           "text": "68237.2",
           "textposition": "end",
           "xanchor": "right",
           "yanchor": "middle"
          },
          "line": {
           "color": "green"
          },
          "type": "line",
          "x0": "2024-10-19T14:55:00",
          "x1": "2024-10-19T18:00:00",
          "y0": 68237.2,
          "y1": 68237.2
         },
         {
          "label": {
           "font": {
            "size": 10
           },
           "padding": 0,
           "text": "68230.2",
           "textposition": "end",
           "xanchor": "right",
           "yanchor": "middle"
          },
          "line": {
           "color": "green"
          },
          "type": "line",
          "x0": "2024-10-19T14:55:00",
          "x1": "2024-10-19T18:00:00",
          "y0": 68230.2,
          "y1": 68230.2
         },
         {
          "label": {
           "font": {
            "size": 10
           },
           "padding": 0,
           "text": "68355.0",
           "textposition": "end",
           "xanchor": "right",
           "yanchor": "middle"
          },
          "line": {
           "color": "red"
          },
          "type": "line",
          "x0": "2024-10-19T00:30:00",
          "x1": "2024-10-19T18:00:00",
          "y0": 68355.0,
          "y1": 68355.0
         },
         {
          "label": {
           "font": {
            "size": 10
           },
           "padding": 0,
           "text": "68355.0",
           "textposition": "end",
           "xanchor": "right",
           "yanchor": "middle"
          },
          "line": {
           "color": "red"
          },
          "type": "line",
          "x0": "2024-10-19T00:30:00",
          "x1": "2024-10-19T18:00:00",
          "y0": 68355.0,
          "y1": 68355.0
         },
         {
          "label": {
           "font": {
            "size": 10
           },
           "padding": 0,
           "text": "68377.1",
           "textposition": "end",
           "xanchor": "right",
           "yanchor": "middle"
          },
          "line": {
           "color": "red"
          },
          "type": "line",
          "x0": "2024-10-19T00:35:00",
          "x1": "2024-10-19T18:00:00",
          "y0": 68377.1,
          "y1": 68377.1
         },
         {
          "label": {
           "font": {
            "size": 10
           },
           "padding": 0,
           "text": "68377.1",
           "textposition": "end",
           "xanchor": "right",
           "yanchor": "middle"
          },
          "line": {
           "color": "red"
          },
          "type": "line",
          "x0": "2024-10-19T00:35:00",
          "x1": "2024-10-19T18:00:00",
          "y0": 68377.1,
          "y1": 68377.1
         },
         {
          "label": {
           "font": {
            "size": 10
           },
           "padding": 0,
           "text": "68341.2",
           "textposition": "end",
           "xanchor": "right",
           "yanchor": "middle"
          },
          "line": {
           "color": "red"
          },
          "type": "line",
          "x0": "2024-10-19T02:05:00",
          "x1": "2024-10-19T18:00:00",
          "y0": 68341.2,
          "y1": 68341.2
         },
         {
          "label": {
           "font": {
            "size": 10
           },
           "padding": 0,
           "text": "68357.9",
           "textposition": "end",
           "xanchor": "right",
           "yanchor": "middle"
          },
          "line": {
           "color": "red"
          },
          "type": "line",
          "x0": "2024-10-19T02:05:00",
          "x1": "2024-10-19T18:00:00",
          "y0": 68357.9,
          "y1": 68357.9
         },
         {
          "label": {
           "font": {
            "size": 10
           },
           "padding": 0,
           "text": "68362.1",
           "textposition": "end",
           "xanchor": "right",
           "yanchor": "middle"
          },
          "line": {
           "color": "red"
          },
          "type": "line",
          "x0": "2024-10-19T02:10:00",
          "x1": "2024-10-19T18:00:00",
          "y0": 68362.1,
          "y1": 68362.1
         },
         {
          "label": {
           "font": {
            "size": 10
           },
           "padding": 0,
           "text": "68362.3",
           "textposition": "end",
           "xanchor": "right",
           "yanchor": "middle"
          },
          "line": {
           "color": "red"
          },
          "type": "line",
          "x0": "2024-10-19T02:10:00",
          "x1": "2024-10-19T18:00:00",
          "y0": 68362.3,
          "y1": 68362.3
         },
         {
          "label": {
           "font": {
            "size": 10
           },
           "padding": 0,
           "text": "68358.9",
           "textposition": "end",
           "xanchor": "right",
           "yanchor": "middle"
          },
          "line": {
           "color": "red"
          },
          "type": "line",
          "x0": "2024-10-19T02:40:00",
          "x1": "2024-10-19T18:00:00",
          "y0": 68358.9,
          "y1": 68358.9
         },
         {
          "label": {
           "font": {
            "size": 10
           },
           "padding": 0,
           "text": "68370.2",
           "textposition": "end",
           "xanchor": "right",
           "yanchor": "middle"
          },
          "line": {
           "color": "red"
          },
          "type": "line",
          "x0": "2024-10-19T02:40:00",
          "x1": "2024-10-19T18:00:00",
          "y0": 68370.2,
          "y1": 68370.2
         },
         {
          "label": {
           "font": {
            "size": 10
           },
           "padding": 0,
           "text": "68427.6",
           "textposition": "end",
           "xanchor": "right",
           "yanchor": "middle"
          },
          "line": {
           "color": "red"
          },
          "type": "line",
          "x0": "2024-10-19T02:45:00",
          "x1": "2024-10-19T18:00:00",
          "y0": 68427.6,
          "y1": 68427.6
         },
         {
          "label": {
           "font": {
            "size": 10
           },
           "padding": 0,
           "text": "68426.6",
           "textposition": "end",
           "xanchor": "right",
           "yanchor": "middle"
          },
          "line": {
           "color": "red"
          },
          "type": "line",
          "x0": "2024-10-19T02:45:00",
          "x1": "2024-10-19T18:00:00",
          "y0": 68426.6,
          "y1": 68426.6
         },
         {
          "label": {
           "font": {
            "size": 10
           },
           "padding": 0,
           "text": "68398.1",
           "textposition": "end",
           "xanchor": "right",
           "yanchor": "middle"
          },
          "line": {
           "color": "red"
          },
          "type": "line",
          "x0": "2024-10-19T03:05:00",
          "x1": "2024-10-19T18:00:00",
          "y0": 68398.1,
          "y1": 68398.1
         },
         {
          "label": {
           "font": {
            "size": 10
           },
           "padding": 0,
           "text": "68398.1",
           "textposition": "end",
           "xanchor": "right",
           "yanchor": "middle"
          },
          "line": {
           "color": "red"
          },
          "type": "line",
          "x0": "2024-10-19T03:05:00",
          "x1": "2024-10-19T18:00:00",
          "y0": 68398.1,
          "y1": 68398.1
         },
         {
          "label": {
           "font": {
            "size": 10
           },
           "padding": 0,
           "text": "68421.5",
           "textposition": "end",
           "xanchor": "right",
           "yanchor": "middle"
          },
          "line": {
           "color": "red"
          },
          "type": "line",
          "x0": "2024-10-19T03:10:00",
          "x1": "2024-10-19T18:00:00",
          "y0": 68421.5,
          "y1": 68421.5
         },
         {
          "label": {
           "font": {
            "size": 10
           },
           "padding": 0,
           "text": "68390.0",
           "textposition": "end",
           "xanchor": "right",
           "yanchor": "middle"
          },
          "line": {
           "color": "red"
          },
          "type": "line",
          "x0": "2024-10-19T03:10:00",
          "x1": "2024-10-19T18:00:00",
          "y0": 68390.0,
          "y1": 68390.0
         },
         {
          "label": {
           "font": {
            "size": 10
           },
           "padding": 0,
           "text": "68237.3",
           "textposition": "end",
           "xanchor": "right",
           "yanchor": "middle"
          },
          "line": {
           "color": "red"
          },
          "type": "line",
          "x0": "2024-10-19T05:05:00",
          "x1": "2024-10-19T18:00:00",
          "y0": 68237.3,
          "y1": 68237.3
         },
         {
          "label": {
           "font": {
            "size": 10
           },
           "padding": 0,
           "text": "68237.3",
           "textposition": "end",
           "xanchor": "right",
           "yanchor": "middle"
          },
          "line": {
           "color": "red"
          },
          "type": "line",
          "x0": "2024-10-19T05:05:00",
          "x1": "2024-10-19T18:00:00",
          "y0": 68237.3,
          "y1": 68237.3
         },
         {
          "label": {
           "font": {
            "size": 10
           },
           "padding": 0,
           "text": "68271.3",
           "textposition": "end",
           "xanchor": "right",
           "yanchor": "middle"
          },
          "line": {
           "color": "red"
          },
          "type": "line",
          "x0": "2024-10-19T05:10:00",
          "x1": "2024-10-19T18:00:00",
          "y0": 68271.3,
          "y1": 68271.3
         },
         {
          "label": {
           "font": {
            "size": 10
           },
           "padding": 0,
           "text": "68280.5",
           "textposition": "end",
           "xanchor": "right",
           "yanchor": "middle"
          },
          "line": {
           "color": "red"
          },
          "type": "line",
          "x0": "2024-10-19T05:10:00",
          "x1": "2024-10-19T18:00:00",
          "y0": 68280.5,
          "y1": 68280.5
         },
         {
          "label": {
           "font": {
            "size": 10
           },
           "padding": 0,
           "text": "68271.5",
           "textposition": "end",
           "xanchor": "right",
           "yanchor": "middle"
          },
          "line": {
           "color": "red"
          },
          "type": "line",
          "x0": "2024-10-19T08:55:00",
          "x1": "2024-10-19T18:00:00",
          "y0": 68271.5,
          "y1": 68271.5
         },
         {
          "label": {
           "font": {
            "size": 10
           },
           "padding": 0,
           "text": "68271.5",
           "textposition": "end",
           "xanchor": "right",
           "yanchor": "middle"
          },
          "line": {
           "color": "red"
          },
          "type": "line",
          "x0": "2024-10-19T08:55:00",
          "x1": "2024-10-19T18:00:00",
          "y0": 68271.5,
          "y1": 68271.5
         },
         {
          "label": {
           "font": {
            "size": 10
           },
           "padding": 0,
           "text": "68282.8",
           "textposition": "end",
           "xanchor": "right",
           "yanchor": "middle"
          },
          "line": {
           "color": "red"
          },
          "type": "line",
          "x0": "2024-10-19T09:00:00",
          "x1": "2024-10-19T18:00:00",
          "y0": 68282.8,
          "y1": 68282.8
         },
         {
          "label": {
           "font": {
            "size": 10
           },
           "padding": 0,
           "text": "68282.8",
           "textposition": "end",
           "xanchor": "right",
           "yanchor": "middle"
          },
          "line": {
           "color": "red"
          },
          "type": "line",
          "x0": "2024-10-19T09:00:00",
          "x1": "2024-10-19T18:00:00",
          "y0": 68282.8,
          "y1": 68282.8
         },
         {
          "label": {
           "font": {
            "size": 10
           },
           "padding": 0,
           "text": "68171.4",
           "textposition": "end",
           "xanchor": "right",
           "yanchor": "middle"
          },
          "line": {
           "color": "red"
          },
          "type": "line",
          "x0": "2024-10-19T09:50:00",
          "x1": "2024-10-19T18:00:00",
          "y0": 68171.4,
          "y1": 68171.4
         },
         {
          "label": {
           "font": {
            "size": 10
           },
           "padding": 0,
           "text": "68156.0",
           "textposition": "end",
           "xanchor": "right",
           "yanchor": "middle"
          },
          "line": {
           "color": "red"
          },
          "type": "line",
          "x0": "2024-10-19T09:50:00",
          "x1": "2024-10-19T18:00:00",
          "y0": 68156.0,
          "y1": 68156.0
         },
         {
          "label": {
           "font": {
            "size": 10
           },
           "padding": 0,
           "text": "68185.0",
           "textposition": "end",
           "xanchor": "right",
           "yanchor": "middle"
          },
          "line": {
           "color": "red"
          },
          "type": "line",
          "x0": "2024-10-19T09:55:00",
          "x1": "2024-10-19T18:00:00",
          "y0": 68185.0,
          "y1": 68185.0
         },
         {
          "label": {
           "font": {
            "size": 10
           },
           "padding": 0,
           "text": "68182.7",
           "textposition": "end",
           "xanchor": "right",
           "yanchor": "middle"
          },
          "line": {
           "color": "red"
          },
          "type": "line",
          "x0": "2024-10-19T09:55:00",
          "x1": "2024-10-19T18:00:00",
          "y0": 68182.7,
          "y1": 68182.7
         },
         {
          "label": {
           "font": {
            "size": 10
           },
           "padding": 0,
           "text": "68073.3",
           "textposition": "end",
           "xanchor": "right",
           "yanchor": "middle"
          },
          "line": {
           "color": "red"
          },
          "type": "line",
          "x0": "2024-10-19T10:30:00",
          "x1": "2024-10-19T18:00:00",
          "y0": 68073.3,
          "y1": 68073.3
         },
         {
          "label": {
           "font": {
            "size": 10
           },
           "padding": 0,
           "text": "68087.5",
           "textposition": "end",
           "xanchor": "right",
           "yanchor": "middle"
          },
          "line": {
           "color": "red"
          },
          "type": "line",
          "x0": "2024-10-19T10:30:00",
          "x1": "2024-10-19T18:00:00",
          "y0": 68087.5,
          "y1": 68087.5
         },
         {
          "label": {
           "font": {
            "size": 10
           },
           "padding": 0,
           "text": "68091.3",
           "textposition": "end",
           "xanchor": "right",
           "yanchor": "middle"
          },
          "line": {
           "color": "red"
          },
          "type": "line",
          "x0": "2024-10-19T10:35:00",
          "x1": "2024-10-19T18:00:00",
          "y0": 68091.3,
          "y1": 68091.3
         },
         {
          "label": {
           "font": {
            "size": 10
           },
           "padding": 0,
           "text": "68091.3",
           "textposition": "end",
           "xanchor": "right",
           "yanchor": "middle"
          },
          "line": {
           "color": "red"
          },
          "type": "line",
          "x0": "2024-10-19T10:35:00",
          "x1": "2024-10-19T18:00:00",
          "y0": 68091.3,
          "y1": 68091.3
         },
         {
          "label": {
           "font": {
            "size": 10
           },
           "padding": 0,
           "text": "68176.4",
           "textposition": "end",
           "xanchor": "right",
           "yanchor": "middle"
          },
          "line": {
           "color": "red"
          },
          "type": "line",
          "x0": "2024-10-19T13:20:00",
          "x1": "2024-10-19T18:00:00",
          "y0": 68176.4,
          "y1": 68176.4
         },
         {
          "label": {
           "font": {
            "size": 10
           },
           "padding": 0,
           "text": "68176.0",
           "textposition": "end",
           "xanchor": "right",
           "yanchor": "middle"
          },
          "line": {
           "color": "red"
          },
          "type": "line",
          "x0": "2024-10-19T13:20:00",
          "x1": "2024-10-19T18:00:00",
          "y0": 68176.0,
          "y1": 68176.0
         },
         {
          "label": {
           "font": {
            "size": 10
           },
           "padding": 0,
           "text": "68204.3",
           "textposition": "end",
           "xanchor": "right",
           "yanchor": "middle"
          },
          "line": {
           "color": "red"
          },
          "type": "line",
          "x0": "2024-10-19T13:25:00",
          "x1": "2024-10-19T18:00:00",
          "y0": 68204.3,
          "y1": 68204.3
         },
         {
          "label": {
           "font": {
            "size": 10
           },
           "padding": 0,
           "text": "68202.6",
           "textposition": "end",
           "xanchor": "right",
           "yanchor": "middle"
          },
          "line": {
           "color": "red"
          },
          "type": "line",
          "x0": "2024-10-19T13:25:00",
          "x1": "2024-10-19T18:00:00",
          "y0": 68202.6,
          "y1": 68202.6
         },
         {
          "label": {
           "font": {
            "size": 10
           },
           "padding": 0,
           "text": "68308.1",
           "textposition": "end",
           "xanchor": "right",
           "yanchor": "middle"
          },
          "line": {
           "color": "red"
          },
          "type": "line",
          "x0": "2024-10-19T16:35:00",
          "x1": "2024-10-19T18:00:00",
          "y0": 68308.1,
          "y1": 68308.1
         },
         {
          "label": {
           "font": {
            "size": 10
           },
           "padding": 0,
           "text": "68288.8",
           "textposition": "end",
           "xanchor": "right",
           "yanchor": "middle"
          },
          "line": {
           "color": "red"
          },
          "type": "line",
          "x0": "2024-10-19T16:35:00",
          "x1": "2024-10-19T18:00:00",
          "y0": 68288.8,
          "y1": 68288.8
         },
         {
          "label": {
           "font": {
            "size": 10
           },
           "padding": 0,
           "text": "68324.0",
           "textposition": "end",
           "xanchor": "right",
           "yanchor": "middle"
          },
          "line": {
           "color": "red"
          },
          "type": "line",
          "x0": "2024-10-19T16:40:00",
          "x1": "2024-10-19T18:00:00",
          "y0": 68324.0,
          "y1": 68324.0
         },
         {
          "label": {
           "font": {
            "size": 10
           },
           "padding": 0,
           "text": "68324.1",
           "textposition": "end",
           "xanchor": "right",
           "yanchor": "middle"
          },
          "line": {
           "color": "red"
          },
          "type": "line",
          "x0": "2024-10-19T16:40:00",
          "x1": "2024-10-19T18:00:00",
          "y0": 68324.1,
          "y1": 68324.1
         }
        ]
       },
       "config": {
        "plotlyServerURL": "https://plot.ly"
       }
      },
      "text/html": [
       "<div>                            <div id=\"7f966f31-6d72-486d-ba70-09c4f54924bd\" class=\"plotly-graph-div\" style=\"height:525px; width:100%;\"></div>            <script type=\"text/javascript\">                require([\"plotly\"], function(Plotly) {                    window.PLOTLYENV=window.PLOTLYENV || {};                                    if (document.getElementById(\"7f966f31-6d72-486d-ba70-09c4f54924bd\")) {                    Plotly.newPlot(                        \"7f966f31-6d72-486d-ba70-09c4f54924bd\",                        [{\"close\":[68413.4,68359.2,68397.4],\"high\":[68998.7,68694.9,68432.9],\"low\":[67178.3,68010.0,68355.7],\"open\":[67411.1,68413.4,68359.2],\"x\":[\"2024-10-17T18:00:00\",\"2024-10-18T18:00:00\",\"2024-10-19T18:00:00\"],\"type\":\"candlestick\",\"increasing\":{\"line\":{\"color\":\"white\"}},\"decreasing\":{\"line\":{\"color\":\"blue\"}}}],                        {\"template\":{\"data\":{\"histogram2dcontour\":[{\"type\":\"histogram2dcontour\",\"colorbar\":{\"outlinewidth\":0,\"ticks\":\"\"},\"colorscale\":[[0.0,\"#0d0887\"],[0.1111111111111111,\"#46039f\"],[0.2222222222222222,\"#7201a8\"],[0.3333333333333333,\"#9c179e\"],[0.4444444444444444,\"#bd3786\"],[0.5555555555555556,\"#d8576b\"],[0.6666666666666666,\"#ed7953\"],[0.7777777777777778,\"#fb9f3a\"],[0.8888888888888888,\"#fdca26\"],[1.0,\"#f0f921\"]]}],\"choropleth\":[{\"type\":\"choropleth\",\"colorbar\":{\"outlinewidth\":0,\"ticks\":\"\"}}],\"histogram2d\":[{\"type\":\"histogram2d\",\"colorbar\":{\"outlinewidth\":0,\"ticks\":\"\"},\"colorscale\":[[0.0,\"#0d0887\"],[0.1111111111111111,\"#46039f\"],[0.2222222222222222,\"#7201a8\"],[0.3333333333333333,\"#9c179e\"],[0.4444444444444444,\"#bd3786\"],[0.5555555555555556,\"#d8576b\"],[0.6666666666666666,\"#ed7953\"],[0.7777777777777778,\"#fb9f3a\"],[0.8888888888888888,\"#fdca26\"],[1.0,\"#f0f921\"]]}],\"heatmap\":[{\"type\":\"heatmap\",\"colorbar\":{\"outlinewidth\":0,\"ticks\":\"\"},\"colorscale\":[[0.0,\"#0d0887\"],[0.1111111111111111,\"#46039f\"],[0.2222222222222222,\"#7201a8\"],[0.3333333333333333,\"#9c179e\"],[0.4444444444444444,\"#bd3786\"],[0.5555555555555556,\"#d8576b\"],[0.6666666666666666,\"#ed7953\"],[0.7777777777777778,\"#fb9f3a\"],[0.8888888888888888,\"#fdca26\"],[1.0,\"#f0f921\"]]}],\"heatmapgl\":[{\"type\":\"heatmapgl\",\"colorbar\":{\"outlinewidth\":0,\"ticks\":\"\"},\"colorscale\":[[0.0,\"#0d0887\"],[0.1111111111111111,\"#46039f\"],[0.2222222222222222,\"#7201a8\"],[0.3333333333333333,\"#9c179e\"],[0.4444444444444444,\"#bd3786\"],[0.5555555555555556,\"#d8576b\"],[0.6666666666666666,\"#ed7953\"],[0.7777777777777778,\"#fb9f3a\"],[0.8888888888888888,\"#fdca26\"],[1.0,\"#f0f921\"]]}],\"contourcarpet\":[{\"type\":\"contourcarpet\",\"colorbar\":{\"outlinewidth\":0,\"ticks\":\"\"}}],\"contour\":[{\"type\":\"contour\",\"colorbar\":{\"outlinewidth\":0,\"ticks\":\"\"},\"colorscale\":[[0.0,\"#0d0887\"],[0.1111111111111111,\"#46039f\"],[0.2222222222222222,\"#7201a8\"],[0.3333333333333333,\"#9c179e\"],[0.4444444444444444,\"#bd3786\"],[0.5555555555555556,\"#d8576b\"],[0.6666666666666666,\"#ed7953\"],[0.7777777777777778,\"#fb9f3a\"],[0.8888888888888888,\"#fdca26\"],[1.0,\"#f0f921\"]]}],\"surface\":[{\"type\":\"surface\",\"colorbar\":{\"outlinewidth\":0,\"ticks\":\"\"},\"colorscale\":[[0.0,\"#0d0887\"],[0.1111111111111111,\"#46039f\"],[0.2222222222222222,\"#7201a8\"],[0.3333333333333333,\"#9c179e\"],[0.4444444444444444,\"#bd3786\"],[0.5555555555555556,\"#d8576b\"],[0.6666666666666666,\"#ed7953\"],[0.7777777777777778,\"#fb9f3a\"],[0.8888888888888888,\"#fdca26\"],[1.0,\"#f0f921\"]]}],\"mesh3d\":[{\"type\":\"mesh3d\",\"colorbar\":{\"outlinewidth\":0,\"ticks\":\"\"}}],\"scatter\":[{\"marker\":{\"line\":{\"color\":\"#283442\"}},\"type\":\"scatter\"}],\"parcoords\":[{\"type\":\"parcoords\",\"line\":{\"colorbar\":{\"outlinewidth\":0,\"ticks\":\"\"}}}],\"scatterpolargl\":[{\"type\":\"scatterpolargl\",\"marker\":{\"colorbar\":{\"outlinewidth\":0,\"ticks\":\"\"}}}],\"bar\":[{\"error_x\":{\"color\":\"#f2f5fa\"},\"error_y\":{\"color\":\"#f2f5fa\"},\"marker\":{\"line\":{\"color\":\"rgb(17,17,17)\",\"width\":0.5},\"pattern\":{\"fillmode\":\"overlay\",\"size\":10,\"solidity\":0.2}},\"type\":\"bar\"}],\"scattergeo\":[{\"type\":\"scattergeo\",\"marker\":{\"colorbar\":{\"outlinewidth\":0,\"ticks\":\"\"}}}],\"scatterpolar\":[{\"type\":\"scatterpolar\",\"marker\":{\"colorbar\":{\"outlinewidth\":0,\"ticks\":\"\"}}}],\"histogram\":[{\"marker\":{\"pattern\":{\"fillmode\":\"overlay\",\"size\":10,\"solidity\":0.2}},\"type\":\"histogram\"}],\"scattergl\":[{\"marker\":{\"line\":{\"color\":\"#283442\"}},\"type\":\"scattergl\"}],\"scatter3d\":[{\"type\":\"scatter3d\",\"line\":{\"colorbar\":{\"outlinewidth\":0,\"ticks\":\"\"}},\"marker\":{\"colorbar\":{\"outlinewidth\":0,\"ticks\":\"\"}}}],\"scattermapbox\":[{\"type\":\"scattermapbox\",\"marker\":{\"colorbar\":{\"outlinewidth\":0,\"ticks\":\"\"}}}],\"scatterternary\":[{\"type\":\"scatterternary\",\"marker\":{\"colorbar\":{\"outlinewidth\":0,\"ticks\":\"\"}}}],\"scattercarpet\":[{\"type\":\"scattercarpet\",\"marker\":{\"colorbar\":{\"outlinewidth\":0,\"ticks\":\"\"}}}],\"carpet\":[{\"aaxis\":{\"endlinecolor\":\"#A2B1C6\",\"gridcolor\":\"#506784\",\"linecolor\":\"#506784\",\"minorgridcolor\":\"#506784\",\"startlinecolor\":\"#A2B1C6\"},\"baxis\":{\"endlinecolor\":\"#A2B1C6\",\"gridcolor\":\"#506784\",\"linecolor\":\"#506784\",\"minorgridcolor\":\"#506784\",\"startlinecolor\":\"#A2B1C6\"},\"type\":\"carpet\"}],\"table\":[{\"cells\":{\"fill\":{\"color\":\"#506784\"},\"line\":{\"color\":\"rgb(17,17,17)\"}},\"header\":{\"fill\":{\"color\":\"#2a3f5f\"},\"line\":{\"color\":\"rgb(17,17,17)\"}},\"type\":\"table\"}],\"barpolar\":[{\"marker\":{\"line\":{\"color\":\"rgb(17,17,17)\",\"width\":0.5},\"pattern\":{\"fillmode\":\"overlay\",\"size\":10,\"solidity\":0.2}},\"type\":\"barpolar\"}],\"pie\":[{\"automargin\":true,\"type\":\"pie\"}]},\"layout\":{\"autotypenumbers\":\"strict\",\"colorway\":[\"#636efa\",\"#EF553B\",\"#00cc96\",\"#ab63fa\",\"#FFA15A\",\"#19d3f3\",\"#FF6692\",\"#B6E880\",\"#FF97FF\",\"#FECB52\"],\"font\":{\"color\":\"#f2f5fa\"},\"hovermode\":\"closest\",\"hoverlabel\":{\"align\":\"left\"},\"paper_bgcolor\":\"rgb(17,17,17)\",\"plot_bgcolor\":\"rgb(17,17,17)\",\"polar\":{\"bgcolor\":\"rgb(17,17,17)\",\"angularaxis\":{\"gridcolor\":\"#506784\",\"linecolor\":\"#506784\",\"ticks\":\"\"},\"radialaxis\":{\"gridcolor\":\"#506784\",\"linecolor\":\"#506784\",\"ticks\":\"\"}},\"ternary\":{\"bgcolor\":\"rgb(17,17,17)\",\"aaxis\":{\"gridcolor\":\"#506784\",\"linecolor\":\"#506784\",\"ticks\":\"\"},\"baxis\":{\"gridcolor\":\"#506784\",\"linecolor\":\"#506784\",\"ticks\":\"\"},\"caxis\":{\"gridcolor\":\"#506784\",\"linecolor\":\"#506784\",\"ticks\":\"\"}},\"coloraxis\":{\"colorbar\":{\"outlinewidth\":0,\"ticks\":\"\"}},\"colorscale\":{\"sequential\":[[0.0,\"#0d0887\"],[0.1111111111111111,\"#46039f\"],[0.2222222222222222,\"#7201a8\"],[0.3333333333333333,\"#9c179e\"],[0.4444444444444444,\"#bd3786\"],[0.5555555555555556,\"#d8576b\"],[0.6666666666666666,\"#ed7953\"],[0.7777777777777778,\"#fb9f3a\"],[0.8888888888888888,\"#fdca26\"],[1.0,\"#f0f921\"]],\"sequentialminus\":[[0.0,\"#0d0887\"],[0.1111111111111111,\"#46039f\"],[0.2222222222222222,\"#7201a8\"],[0.3333333333333333,\"#9c179e\"],[0.4444444444444444,\"#bd3786\"],[0.5555555555555556,\"#d8576b\"],[0.6666666666666666,\"#ed7953\"],[0.7777777777777778,\"#fb9f3a\"],[0.8888888888888888,\"#fdca26\"],[1.0,\"#f0f921\"]],\"diverging\":[[0,\"#8e0152\"],[0.1,\"#c51b7d\"],[0.2,\"#de77ae\"],[0.3,\"#f1b6da\"],[0.4,\"#fde0ef\"],[0.5,\"#f7f7f7\"],[0.6,\"#e6f5d0\"],[0.7,\"#b8e186\"],[0.8,\"#7fbc41\"],[0.9,\"#4d9221\"],[1,\"#276419\"]]},\"xaxis\":{\"gridcolor\":\"#283442\",\"linecolor\":\"#506784\",\"ticks\":\"\",\"title\":{\"standoff\":15},\"zerolinecolor\":\"#283442\",\"automargin\":true,\"zerolinewidth\":2},\"yaxis\":{\"gridcolor\":\"#283442\",\"linecolor\":\"#506784\",\"ticks\":\"\",\"title\":{\"standoff\":15},\"zerolinecolor\":\"#283442\",\"automargin\":true,\"zerolinewidth\":2},\"scene\":{\"xaxis\":{\"backgroundcolor\":\"rgb(17,17,17)\",\"gridcolor\":\"#506784\",\"linecolor\":\"#506784\",\"showbackground\":true,\"ticks\":\"\",\"zerolinecolor\":\"#C8D4E3\",\"gridwidth\":2},\"yaxis\":{\"backgroundcolor\":\"rgb(17,17,17)\",\"gridcolor\":\"#506784\",\"linecolor\":\"#506784\",\"showbackground\":true,\"ticks\":\"\",\"zerolinecolor\":\"#C8D4E3\",\"gridwidth\":2},\"zaxis\":{\"backgroundcolor\":\"rgb(17,17,17)\",\"gridcolor\":\"#506784\",\"linecolor\":\"#506784\",\"showbackground\":true,\"ticks\":\"\",\"zerolinecolor\":\"#C8D4E3\",\"gridwidth\":2}},\"shapedefaults\":{\"line\":{\"color\":\"#f2f5fa\"}},\"annotationdefaults\":{\"arrowcolor\":\"#f2f5fa\",\"arrowhead\":0,\"arrowwidth\":1},\"geo\":{\"bgcolor\":\"rgb(17,17,17)\",\"landcolor\":\"rgb(17,17,17)\",\"subunitcolor\":\"#506784\",\"showland\":true,\"showlakes\":true,\"lakecolor\":\"rgb(17,17,17)\"},\"title\":{\"x\":0.05},\"updatemenudefaults\":{\"bgcolor\":\"#506784\",\"borderwidth\":0},\"sliderdefaults\":{\"bgcolor\":\"#C8D4E3\",\"borderwidth\":1,\"bordercolor\":\"rgb(17,17,17)\",\"tickwidth\":0},\"mapbox\":{\"style\":\"dark\"}}},\"xaxis\":{\"rangeslider\":{\"visible\":false},\"title\":{\"text\":\"Date\"}},\"title\":{\"text\":\"daily\"},\"yaxis\":{\"title\":{\"text\":\"Price\"}},\"shapes\":[{\"label\":{\"font\":{\"size\":10},\"padding\":0,\"text\":\"68346.8\",\"textposition\":\"end\",\"xanchor\":\"right\",\"yanchor\":\"middle\"},\"line\":{\"color\":\"green\"},\"type\":\"line\",\"x0\":\"2024-10-19T01:40:00\",\"x1\":\"2024-10-19T18:00:00\",\"y0\":68346.8,\"y1\":68346.8},{\"label\":{\"font\":{\"size\":10},\"padding\":0,\"text\":\"68337.8\",\"textposition\":\"end\",\"xanchor\":\"right\",\"yanchor\":\"middle\"},\"line\":{\"color\":\"green\"},\"type\":\"line\",\"x0\":\"2024-10-19T01:40:00\",\"x1\":\"2024-10-19T18:00:00\",\"y0\":68337.8,\"y1\":68337.8},{\"label\":{\"font\":{\"size\":10},\"padding\":0,\"text\":\"68318.5\",\"textposition\":\"end\",\"xanchor\":\"right\",\"yanchor\":\"middle\"},\"line\":{\"color\":\"green\"},\"type\":\"line\",\"x0\":\"2024-10-19T01:45:00\",\"x1\":\"2024-10-19T18:00:00\",\"y0\":68318.5,\"y1\":68318.5},{\"label\":{\"font\":{\"size\":10},\"padding\":0,\"text\":\"68318.4\",\"textposition\":\"end\",\"xanchor\":\"right\",\"yanchor\":\"middle\"},\"line\":{\"color\":\"green\"},\"type\":\"line\",\"x0\":\"2024-10-19T01:45:00\",\"x1\":\"2024-10-19T18:00:00\",\"y0\":68318.4,\"y1\":68318.4},{\"label\":{\"font\":{\"size\":10},\"padding\":0,\"text\":\"68403.5\",\"textposition\":\"end\",\"xanchor\":\"right\",\"yanchor\":\"middle\"},\"line\":{\"color\":\"green\"},\"type\":\"line\",\"x0\":\"2024-10-19T02:55:00\",\"x1\":\"2024-10-19T18:00:00\",\"y0\":68403.5,\"y1\":68403.5},{\"label\":{\"font\":{\"size\":10},\"padding\":0,\"text\":\"68401.7\",\"textposition\":\"end\",\"xanchor\":\"right\",\"yanchor\":\"middle\"},\"line\":{\"color\":\"green\"},\"type\":\"line\",\"x0\":\"2024-10-19T02:55:00\",\"x1\":\"2024-10-19T18:00:00\",\"y0\":68401.7,\"y1\":68401.7},{\"label\":{\"font\":{\"size\":10},\"padding\":0,\"text\":\"68401.6\",\"textposition\":\"end\",\"xanchor\":\"right\",\"yanchor\":\"middle\"},\"line\":{\"color\":\"green\"},\"type\":\"line\",\"x0\":\"2024-10-19T03:00:00\",\"x1\":\"2024-10-19T18:00:00\",\"y0\":68401.6,\"y1\":68401.6},{\"label\":{\"font\":{\"size\":10},\"padding\":0,\"text\":\"68401.6\",\"textposition\":\"end\",\"xanchor\":\"right\",\"yanchor\":\"middle\"},\"line\":{\"color\":\"green\"},\"type\":\"line\",\"x0\":\"2024-10-19T03:00:00\",\"x1\":\"2024-10-19T18:00:00\",\"y0\":68401.6,\"y1\":68401.6},{\"label\":{\"font\":{\"size\":10},\"padding\":0,\"text\":\"68287.5\",\"textposition\":\"end\",\"xanchor\":\"right\",\"yanchor\":\"middle\"},\"line\":{\"color\":\"green\"},\"type\":\"line\",\"x0\":\"2024-10-19T04:45:00\",\"x1\":\"2024-10-19T18:00:00\",\"y0\":68287.5,\"y1\":68287.5},{\"label\":{\"font\":{\"size\":10},\"padding\":0,\"text\":\"68287.4\",\"textposition\":\"end\",\"xanchor\":\"right\",\"yanchor\":\"middle\"},\"line\":{\"color\":\"green\"},\"type\":\"line\",\"x0\":\"2024-10-19T04:45:00\",\"x1\":\"2024-10-19T18:00:00\",\"y0\":68287.4,\"y1\":68287.4},{\"label\":{\"font\":{\"size\":10},\"padding\":0,\"text\":\"68269.8\",\"textposition\":\"end\",\"xanchor\":\"right\",\"yanchor\":\"middle\"},\"line\":{\"color\":\"green\"},\"type\":\"line\",\"x0\":\"2024-10-19T04:50:00\",\"x1\":\"2024-10-19T18:00:00\",\"y0\":68269.8,\"y1\":68269.8},{\"label\":{\"font\":{\"size\":10},\"padding\":0,\"text\":\"68272.5\",\"textposition\":\"end\",\"xanchor\":\"right\",\"yanchor\":\"middle\"},\"line\":{\"color\":\"green\"},\"type\":\"line\",\"x0\":\"2024-10-19T04:50:00\",\"x1\":\"2024-10-19T18:00:00\",\"y0\":68272.5,\"y1\":68272.5},{\"label\":{\"font\":{\"size\":10},\"padding\":0,\"text\":\"68157.8\",\"textposition\":\"end\",\"xanchor\":\"right\",\"yanchor\":\"middle\"},\"line\":{\"color\":\"green\"},\"type\":\"line\",\"x0\":\"2024-10-19T05:50:00\",\"x1\":\"2024-10-19T18:00:00\",\"y0\":68157.8,\"y1\":68157.8},{\"label\":{\"font\":{\"size\":10},\"padding\":0,\"text\":\"68163.7\",\"textposition\":\"end\",\"xanchor\":\"right\",\"yanchor\":\"middle\"},\"line\":{\"color\":\"green\"},\"type\":\"line\",\"x0\":\"2024-10-19T05:50:00\",\"x1\":\"2024-10-19T18:00:00\",\"y0\":68163.7,\"y1\":68163.7},{\"label\":{\"font\":{\"size\":10},\"padding\":0,\"text\":\"68111.9\",\"textposition\":\"end\",\"xanchor\":\"right\",\"yanchor\":\"middle\"},\"line\":{\"color\":\"green\"},\"type\":\"line\",\"x0\":\"2024-10-19T05:55:00\",\"x1\":\"2024-10-19T18:00:00\",\"y0\":68111.9,\"y1\":68111.9},{\"label\":{\"font\":{\"size\":10},\"padding\":0,\"text\":\"68112.8\",\"textposition\":\"end\",\"xanchor\":\"right\",\"yanchor\":\"middle\"},\"line\":{\"color\":\"green\"},\"type\":\"line\",\"x0\":\"2024-10-19T05:55:00\",\"x1\":\"2024-10-19T18:00:00\",\"y0\":68112.8,\"y1\":68112.8},{\"label\":{\"font\":{\"size\":10},\"padding\":0,\"text\":\"68140.5\",\"textposition\":\"end\",\"xanchor\":\"right\",\"yanchor\":\"middle\"},\"line\":{\"color\":\"green\"},\"type\":\"line\",\"x0\":\"2024-10-19T07:50:00\",\"x1\":\"2024-10-19T18:00:00\",\"y0\":68140.5,\"y1\":68140.5},{\"label\":{\"font\":{\"size\":10},\"padding\":0,\"text\":\"68140.5\",\"textposition\":\"end\",\"xanchor\":\"right\",\"yanchor\":\"middle\"},\"line\":{\"color\":\"green\"},\"type\":\"line\",\"x0\":\"2024-10-19T07:50:00\",\"x1\":\"2024-10-19T18:00:00\",\"y0\":68140.5,\"y1\":68140.5},{\"label\":{\"font\":{\"size\":10},\"padding\":0,\"text\":\"68109.5\",\"textposition\":\"end\",\"xanchor\":\"right\",\"yanchor\":\"middle\"},\"line\":{\"color\":\"green\"},\"type\":\"line\",\"x0\":\"2024-10-19T07:55:00\",\"x1\":\"2024-10-19T18:00:00\",\"y0\":68109.5,\"y1\":68109.5},{\"label\":{\"font\":{\"size\":10},\"padding\":0,\"text\":\"68101.9\",\"textposition\":\"end\",\"xanchor\":\"right\",\"yanchor\":\"middle\"},\"line\":{\"color\":\"green\"},\"type\":\"line\",\"x0\":\"2024-10-19T07:55:00\",\"x1\":\"2024-10-19T18:00:00\",\"y0\":68101.9,\"y1\":68101.9},{\"label\":{\"font\":{\"size\":10},\"padding\":0,\"text\":\"68125.3\",\"textposition\":\"end\",\"xanchor\":\"right\",\"yanchor\":\"middle\"},\"line\":{\"color\":\"green\"},\"type\":\"line\",\"x0\":\"2024-10-19T10:20:00\",\"x1\":\"2024-10-19T18:00:00\",\"y0\":68125.3,\"y1\":68125.3},{\"label\":{\"font\":{\"size\":10},\"padding\":0,\"text\":\"68182.4\",\"textposition\":\"end\",\"xanchor\":\"right\",\"yanchor\":\"middle\"},\"line\":{\"color\":\"green\"},\"type\":\"line\",\"x0\":\"2024-10-19T10:20:00\",\"x1\":\"2024-10-19T18:00:00\",\"y0\":68182.4,\"y1\":68182.4},{\"label\":{\"font\":{\"size\":10},\"padding\":0,\"text\":\"68115.6\",\"textposition\":\"end\",\"xanchor\":\"right\",\"yanchor\":\"middle\"},\"line\":{\"color\":\"green\"},\"type\":\"line\",\"x0\":\"2024-10-19T10:25:00\",\"x1\":\"2024-10-19T18:00:00\",\"y0\":68115.6,\"y1\":68115.6},{\"label\":{\"font\":{\"size\":10},\"padding\":0,\"text\":\"68100.4\",\"textposition\":\"end\",\"xanchor\":\"right\",\"yanchor\":\"middle\"},\"line\":{\"color\":\"green\"},\"type\":\"line\",\"x0\":\"2024-10-19T10:25:00\",\"x1\":\"2024-10-19T18:00:00\",\"y0\":68100.4,\"y1\":68100.4},{\"label\":{\"font\":{\"size\":10},\"padding\":0,\"text\":\"68119.0\",\"textposition\":\"end\",\"xanchor\":\"right\",\"yanchor\":\"middle\"},\"line\":{\"color\":\"green\"},\"type\":\"line\",\"x0\":\"2024-10-19T12:00:00\",\"x1\":\"2024-10-19T18:00:00\",\"y0\":68119.0,\"y1\":68119.0},{\"label\":{\"font\":{\"size\":10},\"padding\":0,\"text\":\"68124.4\",\"textposition\":\"end\",\"xanchor\":\"right\",\"yanchor\":\"middle\"},\"line\":{\"color\":\"green\"},\"type\":\"line\",\"x0\":\"2024-10-19T12:00:00\",\"x1\":\"2024-10-19T18:00:00\",\"y0\":68124.4,\"y1\":68124.4},{\"label\":{\"font\":{\"size\":10},\"padding\":0,\"text\":\"68109.3\",\"textposition\":\"end\",\"xanchor\":\"right\",\"yanchor\":\"middle\"},\"line\":{\"color\":\"green\"},\"type\":\"line\",\"x0\":\"2024-10-19T12:05:00\",\"x1\":\"2024-10-19T18:00:00\",\"y0\":68109.3,\"y1\":68109.3},{\"label\":{\"font\":{\"size\":10},\"padding\":0,\"text\":\"68117.0\",\"textposition\":\"end\",\"xanchor\":\"right\",\"yanchor\":\"middle\"},\"line\":{\"color\":\"green\"},\"type\":\"line\",\"x0\":\"2024-10-19T12:05:00\",\"x1\":\"2024-10-19T18:00:00\",\"y0\":68117.0,\"y1\":68117.0},{\"label\":{\"font\":{\"size\":10},\"padding\":0,\"text\":\"68181.8\",\"textposition\":\"end\",\"xanchor\":\"right\",\"yanchor\":\"middle\"},\"line\":{\"color\":\"green\"},\"type\":\"line\",\"x0\":\"2024-10-19T12:55:00\",\"x1\":\"2024-10-19T18:00:00\",\"y0\":68181.8,\"y1\":68181.8},{\"label\":{\"font\":{\"size\":10},\"padding\":0,\"text\":\"68181.5\",\"textposition\":\"end\",\"xanchor\":\"right\",\"yanchor\":\"middle\"},\"line\":{\"color\":\"green\"},\"type\":\"line\",\"x0\":\"2024-10-19T12:55:00\",\"x1\":\"2024-10-19T18:00:00\",\"y0\":68181.5,\"y1\":68181.5},{\"label\":{\"font\":{\"size\":10},\"padding\":0,\"text\":\"68164.8\",\"textposition\":\"end\",\"xanchor\":\"right\",\"yanchor\":\"middle\"},\"line\":{\"color\":\"green\"},\"type\":\"line\",\"x0\":\"2024-10-19T13:00:00\",\"x1\":\"2024-10-19T18:00:00\",\"y0\":68164.8,\"y1\":68164.8},{\"label\":{\"font\":{\"size\":10},\"padding\":0,\"text\":\"68164.8\",\"textposition\":\"end\",\"xanchor\":\"right\",\"yanchor\":\"middle\"},\"line\":{\"color\":\"green\"},\"type\":\"line\",\"x0\":\"2024-10-19T13:00:00\",\"x1\":\"2024-10-19T18:00:00\",\"y0\":68164.8,\"y1\":68164.8},{\"label\":{\"font\":{\"size\":10},\"padding\":0,\"text\":\"68199.9\",\"textposition\":\"end\",\"xanchor\":\"right\",\"yanchor\":\"middle\"},\"line\":{\"color\":\"green\"},\"type\":\"line\",\"x0\":\"2024-10-19T13:40:00\",\"x1\":\"2024-10-19T18:00:00\",\"y0\":68199.9,\"y1\":68199.9},{\"label\":{\"font\":{\"size\":10},\"padding\":0,\"text\":\"68201.5\",\"textposition\":\"end\",\"xanchor\":\"right\",\"yanchor\":\"middle\"},\"line\":{\"color\":\"green\"},\"type\":\"line\",\"x0\":\"2024-10-19T13:40:00\",\"x1\":\"2024-10-19T18:00:00\",\"y0\":68201.5,\"y1\":68201.5},{\"label\":{\"font\":{\"size\":10},\"padding\":0,\"text\":\"68169.8\",\"textposition\":\"end\",\"xanchor\":\"right\",\"yanchor\":\"middle\"},\"line\":{\"color\":\"green\"},\"type\":\"line\",\"x0\":\"2024-10-19T13:45:00\",\"x1\":\"2024-10-19T18:00:00\",\"y0\":68169.8,\"y1\":68169.8},{\"label\":{\"font\":{\"size\":10},\"padding\":0,\"text\":\"68179.3\",\"textposition\":\"end\",\"xanchor\":\"right\",\"yanchor\":\"middle\"},\"line\":{\"color\":\"green\"},\"type\":\"line\",\"x0\":\"2024-10-19T13:45:00\",\"x1\":\"2024-10-19T18:00:00\",\"y0\":68179.3,\"y1\":68179.3},{\"label\":{\"font\":{\"size\":10},\"padding\":0,\"text\":\"68232.1\",\"textposition\":\"end\",\"xanchor\":\"right\",\"yanchor\":\"middle\"},\"line\":{\"color\":\"green\"},\"type\":\"line\",\"x0\":\"2024-10-19T14:50:00\",\"x1\":\"2024-10-19T18:00:00\",\"y0\":68232.1,\"y1\":68232.1},{\"label\":{\"font\":{\"size\":10},\"padding\":0,\"text\":\"68233.2\",\"textposition\":\"end\",\"xanchor\":\"right\",\"yanchor\":\"middle\"},\"line\":{\"color\":\"green\"},\"type\":\"line\",\"x0\":\"2024-10-19T14:50:00\",\"x1\":\"2024-10-19T18:00:00\",\"y0\":68233.2,\"y1\":68233.2},{\"label\":{\"font\":{\"size\":10},\"padding\":0,\"text\":\"68237.2\",\"textposition\":\"end\",\"xanchor\":\"right\",\"yanchor\":\"middle\"},\"line\":{\"color\":\"green\"},\"type\":\"line\",\"x0\":\"2024-10-19T14:55:00\",\"x1\":\"2024-10-19T18:00:00\",\"y0\":68237.2,\"y1\":68237.2},{\"label\":{\"font\":{\"size\":10},\"padding\":0,\"text\":\"68230.2\",\"textposition\":\"end\",\"xanchor\":\"right\",\"yanchor\":\"middle\"},\"line\":{\"color\":\"green\"},\"type\":\"line\",\"x0\":\"2024-10-19T14:55:00\",\"x1\":\"2024-10-19T18:00:00\",\"y0\":68230.2,\"y1\":68230.2},{\"label\":{\"font\":{\"size\":10},\"padding\":0,\"text\":\"68355.0\",\"textposition\":\"end\",\"xanchor\":\"right\",\"yanchor\":\"middle\"},\"line\":{\"color\":\"red\"},\"type\":\"line\",\"x0\":\"2024-10-19T00:30:00\",\"x1\":\"2024-10-19T18:00:00\",\"y0\":68355.0,\"y1\":68355.0},{\"label\":{\"font\":{\"size\":10},\"padding\":0,\"text\":\"68355.0\",\"textposition\":\"end\",\"xanchor\":\"right\",\"yanchor\":\"middle\"},\"line\":{\"color\":\"red\"},\"type\":\"line\",\"x0\":\"2024-10-19T00:30:00\",\"x1\":\"2024-10-19T18:00:00\",\"y0\":68355.0,\"y1\":68355.0},{\"label\":{\"font\":{\"size\":10},\"padding\":0,\"text\":\"68377.1\",\"textposition\":\"end\",\"xanchor\":\"right\",\"yanchor\":\"middle\"},\"line\":{\"color\":\"red\"},\"type\":\"line\",\"x0\":\"2024-10-19T00:35:00\",\"x1\":\"2024-10-19T18:00:00\",\"y0\":68377.1,\"y1\":68377.1},{\"label\":{\"font\":{\"size\":10},\"padding\":0,\"text\":\"68377.1\",\"textposition\":\"end\",\"xanchor\":\"right\",\"yanchor\":\"middle\"},\"line\":{\"color\":\"red\"},\"type\":\"line\",\"x0\":\"2024-10-19T00:35:00\",\"x1\":\"2024-10-19T18:00:00\",\"y0\":68377.1,\"y1\":68377.1},{\"label\":{\"font\":{\"size\":10},\"padding\":0,\"text\":\"68341.2\",\"textposition\":\"end\",\"xanchor\":\"right\",\"yanchor\":\"middle\"},\"line\":{\"color\":\"red\"},\"type\":\"line\",\"x0\":\"2024-10-19T02:05:00\",\"x1\":\"2024-10-19T18:00:00\",\"y0\":68341.2,\"y1\":68341.2},{\"label\":{\"font\":{\"size\":10},\"padding\":0,\"text\":\"68357.9\",\"textposition\":\"end\",\"xanchor\":\"right\",\"yanchor\":\"middle\"},\"line\":{\"color\":\"red\"},\"type\":\"line\",\"x0\":\"2024-10-19T02:05:00\",\"x1\":\"2024-10-19T18:00:00\",\"y0\":68357.9,\"y1\":68357.9},{\"label\":{\"font\":{\"size\":10},\"padding\":0,\"text\":\"68362.1\",\"textposition\":\"end\",\"xanchor\":\"right\",\"yanchor\":\"middle\"},\"line\":{\"color\":\"red\"},\"type\":\"line\",\"x0\":\"2024-10-19T02:10:00\",\"x1\":\"2024-10-19T18:00:00\",\"y0\":68362.1,\"y1\":68362.1},{\"label\":{\"font\":{\"size\":10},\"padding\":0,\"text\":\"68362.3\",\"textposition\":\"end\",\"xanchor\":\"right\",\"yanchor\":\"middle\"},\"line\":{\"color\":\"red\"},\"type\":\"line\",\"x0\":\"2024-10-19T02:10:00\",\"x1\":\"2024-10-19T18:00:00\",\"y0\":68362.3,\"y1\":68362.3},{\"label\":{\"font\":{\"size\":10},\"padding\":0,\"text\":\"68358.9\",\"textposition\":\"end\",\"xanchor\":\"right\",\"yanchor\":\"middle\"},\"line\":{\"color\":\"red\"},\"type\":\"line\",\"x0\":\"2024-10-19T02:40:00\",\"x1\":\"2024-10-19T18:00:00\",\"y0\":68358.9,\"y1\":68358.9},{\"label\":{\"font\":{\"size\":10},\"padding\":0,\"text\":\"68370.2\",\"textposition\":\"end\",\"xanchor\":\"right\",\"yanchor\":\"middle\"},\"line\":{\"color\":\"red\"},\"type\":\"line\",\"x0\":\"2024-10-19T02:40:00\",\"x1\":\"2024-10-19T18:00:00\",\"y0\":68370.2,\"y1\":68370.2},{\"label\":{\"font\":{\"size\":10},\"padding\":0,\"text\":\"68427.6\",\"textposition\":\"end\",\"xanchor\":\"right\",\"yanchor\":\"middle\"},\"line\":{\"color\":\"red\"},\"type\":\"line\",\"x0\":\"2024-10-19T02:45:00\",\"x1\":\"2024-10-19T18:00:00\",\"y0\":68427.6,\"y1\":68427.6},{\"label\":{\"font\":{\"size\":10},\"padding\":0,\"text\":\"68426.6\",\"textposition\":\"end\",\"xanchor\":\"right\",\"yanchor\":\"middle\"},\"line\":{\"color\":\"red\"},\"type\":\"line\",\"x0\":\"2024-10-19T02:45:00\",\"x1\":\"2024-10-19T18:00:00\",\"y0\":68426.6,\"y1\":68426.6},{\"label\":{\"font\":{\"size\":10},\"padding\":0,\"text\":\"68398.1\",\"textposition\":\"end\",\"xanchor\":\"right\",\"yanchor\":\"middle\"},\"line\":{\"color\":\"red\"},\"type\":\"line\",\"x0\":\"2024-10-19T03:05:00\",\"x1\":\"2024-10-19T18:00:00\",\"y0\":68398.1,\"y1\":68398.1},{\"label\":{\"font\":{\"size\":10},\"padding\":0,\"text\":\"68398.1\",\"textposition\":\"end\",\"xanchor\":\"right\",\"yanchor\":\"middle\"},\"line\":{\"color\":\"red\"},\"type\":\"line\",\"x0\":\"2024-10-19T03:05:00\",\"x1\":\"2024-10-19T18:00:00\",\"y0\":68398.1,\"y1\":68398.1},{\"label\":{\"font\":{\"size\":10},\"padding\":0,\"text\":\"68421.5\",\"textposition\":\"end\",\"xanchor\":\"right\",\"yanchor\":\"middle\"},\"line\":{\"color\":\"red\"},\"type\":\"line\",\"x0\":\"2024-10-19T03:10:00\",\"x1\":\"2024-10-19T18:00:00\",\"y0\":68421.5,\"y1\":68421.5},{\"label\":{\"font\":{\"size\":10},\"padding\":0,\"text\":\"68390.0\",\"textposition\":\"end\",\"xanchor\":\"right\",\"yanchor\":\"middle\"},\"line\":{\"color\":\"red\"},\"type\":\"line\",\"x0\":\"2024-10-19T03:10:00\",\"x1\":\"2024-10-19T18:00:00\",\"y0\":68390.0,\"y1\":68390.0},{\"label\":{\"font\":{\"size\":10},\"padding\":0,\"text\":\"68237.3\",\"textposition\":\"end\",\"xanchor\":\"right\",\"yanchor\":\"middle\"},\"line\":{\"color\":\"red\"},\"type\":\"line\",\"x0\":\"2024-10-19T05:05:00\",\"x1\":\"2024-10-19T18:00:00\",\"y0\":68237.3,\"y1\":68237.3},{\"label\":{\"font\":{\"size\":10},\"padding\":0,\"text\":\"68237.3\",\"textposition\":\"end\",\"xanchor\":\"right\",\"yanchor\":\"middle\"},\"line\":{\"color\":\"red\"},\"type\":\"line\",\"x0\":\"2024-10-19T05:05:00\",\"x1\":\"2024-10-19T18:00:00\",\"y0\":68237.3,\"y1\":68237.3},{\"label\":{\"font\":{\"size\":10},\"padding\":0,\"text\":\"68271.3\",\"textposition\":\"end\",\"xanchor\":\"right\",\"yanchor\":\"middle\"},\"line\":{\"color\":\"red\"},\"type\":\"line\",\"x0\":\"2024-10-19T05:10:00\",\"x1\":\"2024-10-19T18:00:00\",\"y0\":68271.3,\"y1\":68271.3},{\"label\":{\"font\":{\"size\":10},\"padding\":0,\"text\":\"68280.5\",\"textposition\":\"end\",\"xanchor\":\"right\",\"yanchor\":\"middle\"},\"line\":{\"color\":\"red\"},\"type\":\"line\",\"x0\":\"2024-10-19T05:10:00\",\"x1\":\"2024-10-19T18:00:00\",\"y0\":68280.5,\"y1\":68280.5},{\"label\":{\"font\":{\"size\":10},\"padding\":0,\"text\":\"68271.5\",\"textposition\":\"end\",\"xanchor\":\"right\",\"yanchor\":\"middle\"},\"line\":{\"color\":\"red\"},\"type\":\"line\",\"x0\":\"2024-10-19T08:55:00\",\"x1\":\"2024-10-19T18:00:00\",\"y0\":68271.5,\"y1\":68271.5},{\"label\":{\"font\":{\"size\":10},\"padding\":0,\"text\":\"68271.5\",\"textposition\":\"end\",\"xanchor\":\"right\",\"yanchor\":\"middle\"},\"line\":{\"color\":\"red\"},\"type\":\"line\",\"x0\":\"2024-10-19T08:55:00\",\"x1\":\"2024-10-19T18:00:00\",\"y0\":68271.5,\"y1\":68271.5},{\"label\":{\"font\":{\"size\":10},\"padding\":0,\"text\":\"68282.8\",\"textposition\":\"end\",\"xanchor\":\"right\",\"yanchor\":\"middle\"},\"line\":{\"color\":\"red\"},\"type\":\"line\",\"x0\":\"2024-10-19T09:00:00\",\"x1\":\"2024-10-19T18:00:00\",\"y0\":68282.8,\"y1\":68282.8},{\"label\":{\"font\":{\"size\":10},\"padding\":0,\"text\":\"68282.8\",\"textposition\":\"end\",\"xanchor\":\"right\",\"yanchor\":\"middle\"},\"line\":{\"color\":\"red\"},\"type\":\"line\",\"x0\":\"2024-10-19T09:00:00\",\"x1\":\"2024-10-19T18:00:00\",\"y0\":68282.8,\"y1\":68282.8},{\"label\":{\"font\":{\"size\":10},\"padding\":0,\"text\":\"68171.4\",\"textposition\":\"end\",\"xanchor\":\"right\",\"yanchor\":\"middle\"},\"line\":{\"color\":\"red\"},\"type\":\"line\",\"x0\":\"2024-10-19T09:50:00\",\"x1\":\"2024-10-19T18:00:00\",\"y0\":68171.4,\"y1\":68171.4},{\"label\":{\"font\":{\"size\":10},\"padding\":0,\"text\":\"68156.0\",\"textposition\":\"end\",\"xanchor\":\"right\",\"yanchor\":\"middle\"},\"line\":{\"color\":\"red\"},\"type\":\"line\",\"x0\":\"2024-10-19T09:50:00\",\"x1\":\"2024-10-19T18:00:00\",\"y0\":68156.0,\"y1\":68156.0},{\"label\":{\"font\":{\"size\":10},\"padding\":0,\"text\":\"68185.0\",\"textposition\":\"end\",\"xanchor\":\"right\",\"yanchor\":\"middle\"},\"line\":{\"color\":\"red\"},\"type\":\"line\",\"x0\":\"2024-10-19T09:55:00\",\"x1\":\"2024-10-19T18:00:00\",\"y0\":68185.0,\"y1\":68185.0},{\"label\":{\"font\":{\"size\":10},\"padding\":0,\"text\":\"68182.7\",\"textposition\":\"end\",\"xanchor\":\"right\",\"yanchor\":\"middle\"},\"line\":{\"color\":\"red\"},\"type\":\"line\",\"x0\":\"2024-10-19T09:55:00\",\"x1\":\"2024-10-19T18:00:00\",\"y0\":68182.7,\"y1\":68182.7},{\"label\":{\"font\":{\"size\":10},\"padding\":0,\"text\":\"68073.3\",\"textposition\":\"end\",\"xanchor\":\"right\",\"yanchor\":\"middle\"},\"line\":{\"color\":\"red\"},\"type\":\"line\",\"x0\":\"2024-10-19T10:30:00\",\"x1\":\"2024-10-19T18:00:00\",\"y0\":68073.3,\"y1\":68073.3},{\"label\":{\"font\":{\"size\":10},\"padding\":0,\"text\":\"68087.5\",\"textposition\":\"end\",\"xanchor\":\"right\",\"yanchor\":\"middle\"},\"line\":{\"color\":\"red\"},\"type\":\"line\",\"x0\":\"2024-10-19T10:30:00\",\"x1\":\"2024-10-19T18:00:00\",\"y0\":68087.5,\"y1\":68087.5},{\"label\":{\"font\":{\"size\":10},\"padding\":0,\"text\":\"68091.3\",\"textposition\":\"end\",\"xanchor\":\"right\",\"yanchor\":\"middle\"},\"line\":{\"color\":\"red\"},\"type\":\"line\",\"x0\":\"2024-10-19T10:35:00\",\"x1\":\"2024-10-19T18:00:00\",\"y0\":68091.3,\"y1\":68091.3},{\"label\":{\"font\":{\"size\":10},\"padding\":0,\"text\":\"68091.3\",\"textposition\":\"end\",\"xanchor\":\"right\",\"yanchor\":\"middle\"},\"line\":{\"color\":\"red\"},\"type\":\"line\",\"x0\":\"2024-10-19T10:35:00\",\"x1\":\"2024-10-19T18:00:00\",\"y0\":68091.3,\"y1\":68091.3},{\"label\":{\"font\":{\"size\":10},\"padding\":0,\"text\":\"68176.4\",\"textposition\":\"end\",\"xanchor\":\"right\",\"yanchor\":\"middle\"},\"line\":{\"color\":\"red\"},\"type\":\"line\",\"x0\":\"2024-10-19T13:20:00\",\"x1\":\"2024-10-19T18:00:00\",\"y0\":68176.4,\"y1\":68176.4},{\"label\":{\"font\":{\"size\":10},\"padding\":0,\"text\":\"68176.0\",\"textposition\":\"end\",\"xanchor\":\"right\",\"yanchor\":\"middle\"},\"line\":{\"color\":\"red\"},\"type\":\"line\",\"x0\":\"2024-10-19T13:20:00\",\"x1\":\"2024-10-19T18:00:00\",\"y0\":68176.0,\"y1\":68176.0},{\"label\":{\"font\":{\"size\":10},\"padding\":0,\"text\":\"68204.3\",\"textposition\":\"end\",\"xanchor\":\"right\",\"yanchor\":\"middle\"},\"line\":{\"color\":\"red\"},\"type\":\"line\",\"x0\":\"2024-10-19T13:25:00\",\"x1\":\"2024-10-19T18:00:00\",\"y0\":68204.3,\"y1\":68204.3},{\"label\":{\"font\":{\"size\":10},\"padding\":0,\"text\":\"68202.6\",\"textposition\":\"end\",\"xanchor\":\"right\",\"yanchor\":\"middle\"},\"line\":{\"color\":\"red\"},\"type\":\"line\",\"x0\":\"2024-10-19T13:25:00\",\"x1\":\"2024-10-19T18:00:00\",\"y0\":68202.6,\"y1\":68202.6},{\"label\":{\"font\":{\"size\":10},\"padding\":0,\"text\":\"68308.1\",\"textposition\":\"end\",\"xanchor\":\"right\",\"yanchor\":\"middle\"},\"line\":{\"color\":\"red\"},\"type\":\"line\",\"x0\":\"2024-10-19T16:35:00\",\"x1\":\"2024-10-19T18:00:00\",\"y0\":68308.1,\"y1\":68308.1},{\"label\":{\"font\":{\"size\":10},\"padding\":0,\"text\":\"68288.8\",\"textposition\":\"end\",\"xanchor\":\"right\",\"yanchor\":\"middle\"},\"line\":{\"color\":\"red\"},\"type\":\"line\",\"x0\":\"2024-10-19T16:35:00\",\"x1\":\"2024-10-19T18:00:00\",\"y0\":68288.8,\"y1\":68288.8},{\"label\":{\"font\":{\"size\":10},\"padding\":0,\"text\":\"68324.0\",\"textposition\":\"end\",\"xanchor\":\"right\",\"yanchor\":\"middle\"},\"line\":{\"color\":\"red\"},\"type\":\"line\",\"x0\":\"2024-10-19T16:40:00\",\"x1\":\"2024-10-19T18:00:00\",\"y0\":68324.0,\"y1\":68324.0},{\"label\":{\"font\":{\"size\":10},\"padding\":0,\"text\":\"68324.1\",\"textposition\":\"end\",\"xanchor\":\"right\",\"yanchor\":\"middle\"},\"line\":{\"color\":\"red\"},\"type\":\"line\",\"x0\":\"2024-10-19T16:40:00\",\"x1\":\"2024-10-19T18:00:00\",\"y0\":68324.1,\"y1\":68324.1}]},                        {\"responsive\": true}                    ).then(function(){\n",
       "                            \n",
       "var gd = document.getElementById('7f966f31-6d72-486d-ba70-09c4f54924bd');\n",
       "var x = new MutationObserver(function (mutations, observer) {{\n",
       "        var display = window.getComputedStyle(gd).display;\n",
       "        if (!display || display === 'none') {{\n",
       "            console.log([gd, 'removed!']);\n",
       "            Plotly.purge(gd);\n",
       "            observer.disconnect();\n",
       "        }}\n",
       "}});\n",
       "\n",
       "// Listen for the removal of the full notebook cells\n",
       "var notebookContainer = gd.closest('#notebook-container');\n",
       "if (notebookContainer) {{\n",
       "    x.observe(notebookContainer, {childList: true});\n",
       "}}\n",
       "\n",
       "// Listen for the clearing of the current output cell\n",
       "var outputEl = gd.closest('.output');\n",
       "if (outputEl) {{\n",
       "    x.observe(outputEl, {childList: true});\n",
       "}}\n",
       "\n",
       "                        })                };                });            </script>        </div>"
      ]
     },
     "metadata": {},
     "output_type": "display_data"
    }
   ],
   "execution_count": 197
  },
  {
   "metadata": {
    "ExecuteTime": {
     "end_time": "2024-10-19T23:42:06.981499Z",
     "start_time": "2024-10-19T23:42:06.972845Z"
    }
   },
   "cell_type": "code",
   "source": "",
   "id": "ff823daaa4de1552",
   "outputs": [
    {
     "data": {
      "application/vnd.plotly.v1+json": {
       "data": [
        {
         "close": [
          68320.4,
          68379.7,
          68324.3,
          68340.7,
          68401.6,
          68336.4,
          68236.9,
          68077.7,
          68204.5,
          68101.0,
          68282.8,
          68213.9,
          68033.3,
          68119.0,
          68164.8,
          68169.9,
          68223.9,
          68201.6,
          68309.4,
          68306.6
         ],
         "high": [
          68555.4,
          68425.0,
          68437.7,
          68397.6,
          68468.1,
          68431.0,
          68373.6,
          68293.4,
          68258.3,
          68210.9,
          68344.1,
          68325.5,
          68219.2,
          68139.2,
          68186.8,
          68234.9,
          68248.2,
          68322.1,
          68400.0,
          68312.3
         ],
         "low": [
          68320.4,
          68304.9,
          68318.9,
          68283.0,
          68330.9,
          68332.8,
          68232.1,
          68070.1,
          68070.9,
          68098.0,
          68101.0,
          68146.8,
          68029.3,
          68010.0,
          68077.8,
          68128.6,
          68153.3,
          68194.6,
          68179.6,
          68306.6
         ],
         "open": [
          68438.5,
          68320.4,
          68379.7,
          68324.3,
          68340.7,
          68401.6,
          68336.4,
          68236.9,
          68077.7,
          68204.5,
          68101.0,
          68282.8,
          68213.9,
          68033.3,
          68119.0,
          68164.8,
          68169.9,
          68223.9,
          68201.6,
          68309.4
         ],
         "x": [
          "2024-10-18T22:00:00",
          "2024-10-18T23:00:00",
          "2024-10-19T00:00:00",
          "2024-10-19T01:00:00",
          "2024-10-19T02:00:00",
          "2024-10-19T03:00:00",
          "2024-10-19T04:00:00",
          "2024-10-19T05:00:00",
          "2024-10-19T06:00:00",
          "2024-10-19T07:00:00",
          "2024-10-19T08:00:00",
          "2024-10-19T09:00:00",
          "2024-10-19T10:00:00",
          "2024-10-19T11:00:00",
          "2024-10-19T12:00:00",
          "2024-10-19T13:00:00",
          "2024-10-19T14:00:00",
          "2024-10-19T15:00:00",
          "2024-10-19T16:00:00",
          "2024-10-19T17:00:00"
         ],
         "type": "candlestick",
         "increasing": {
          "line": {
           "color": "white"
          }
         },
         "decreasing": {
          "line": {
           "color": "blue"
          }
         }
        }
       ],
       "layout": {
        "template": {
         "data": {
          "histogram2dcontour": [
           {
            "type": "histogram2dcontour",
            "colorbar": {
             "outlinewidth": 0,
             "ticks": ""
            },
            "colorscale": [
             [
              0.0,
              "#0d0887"
             ],
             [
              0.1111111111111111,
              "#46039f"
             ],
             [
              0.2222222222222222,
              "#7201a8"
             ],
             [
              0.3333333333333333,
              "#9c179e"
             ],
             [
              0.4444444444444444,
              "#bd3786"
             ],
             [
              0.5555555555555556,
              "#d8576b"
             ],
             [
              0.6666666666666666,
              "#ed7953"
             ],
             [
              0.7777777777777778,
              "#fb9f3a"
             ],
             [
              0.8888888888888888,
              "#fdca26"
             ],
             [
              1.0,
              "#f0f921"
             ]
            ]
           }
          ],
          "choropleth": [
           {
            "type": "choropleth",
            "colorbar": {
             "outlinewidth": 0,
             "ticks": ""
            }
           }
          ],
          "histogram2d": [
           {
            "type": "histogram2d",
            "colorbar": {
             "outlinewidth": 0,
             "ticks": ""
            },
            "colorscale": [
             [
              0.0,
              "#0d0887"
             ],
             [
              0.1111111111111111,
              "#46039f"
             ],
             [
              0.2222222222222222,
              "#7201a8"
             ],
             [
              0.3333333333333333,
              "#9c179e"
             ],
             [
              0.4444444444444444,
              "#bd3786"
             ],
             [
              0.5555555555555556,
              "#d8576b"
             ],
             [
              0.6666666666666666,
              "#ed7953"
             ],
             [
              0.7777777777777778,
              "#fb9f3a"
             ],
             [
              0.8888888888888888,
              "#fdca26"
             ],
             [
              1.0,
              "#f0f921"
             ]
            ]
           }
          ],
          "heatmap": [
           {
            "type": "heatmap",
            "colorbar": {
             "outlinewidth": 0,
             "ticks": ""
            },
            "colorscale": [
             [
              0.0,
              "#0d0887"
             ],
             [
              0.1111111111111111,
              "#46039f"
             ],
             [
              0.2222222222222222,
              "#7201a8"
             ],
             [
              0.3333333333333333,
              "#9c179e"
             ],
             [
              0.4444444444444444,
              "#bd3786"
             ],
             [
              0.5555555555555556,
              "#d8576b"
             ],
             [
              0.6666666666666666,
              "#ed7953"
             ],
             [
              0.7777777777777778,
              "#fb9f3a"
             ],
             [
              0.8888888888888888,
              "#fdca26"
             ],
             [
              1.0,
              "#f0f921"
             ]
            ]
           }
          ],
          "heatmapgl": [
           {
            "type": "heatmapgl",
            "colorbar": {
             "outlinewidth": 0,
             "ticks": ""
            },
            "colorscale": [
             [
              0.0,
              "#0d0887"
             ],
             [
              0.1111111111111111,
              "#46039f"
             ],
             [
              0.2222222222222222,
              "#7201a8"
             ],
             [
              0.3333333333333333,
              "#9c179e"
             ],
             [
              0.4444444444444444,
              "#bd3786"
             ],
             [
              0.5555555555555556,
              "#d8576b"
             ],
             [
              0.6666666666666666,
              "#ed7953"
             ],
             [
              0.7777777777777778,
              "#fb9f3a"
             ],
             [
              0.8888888888888888,
              "#fdca26"
             ],
             [
              1.0,
              "#f0f921"
             ]
            ]
           }
          ],
          "contourcarpet": [
           {
            "type": "contourcarpet",
            "colorbar": {
             "outlinewidth": 0,
             "ticks": ""
            }
           }
          ],
          "contour": [
           {
            "type": "contour",
            "colorbar": {
             "outlinewidth": 0,
             "ticks": ""
            },
            "colorscale": [
             [
              0.0,
              "#0d0887"
             ],
             [
              0.1111111111111111,
              "#46039f"
             ],
             [
              0.2222222222222222,
              "#7201a8"
             ],
             [
              0.3333333333333333,
              "#9c179e"
             ],
             [
              0.4444444444444444,
              "#bd3786"
             ],
             [
              0.5555555555555556,
              "#d8576b"
             ],
             [
              0.6666666666666666,
              "#ed7953"
             ],
             [
              0.7777777777777778,
              "#fb9f3a"
             ],
             [
              0.8888888888888888,
              "#fdca26"
             ],
             [
              1.0,
              "#f0f921"
             ]
            ]
           }
          ],
          "surface": [
           {
            "type": "surface",
            "colorbar": {
             "outlinewidth": 0,
             "ticks": ""
            },
            "colorscale": [
             [
              0.0,
              "#0d0887"
             ],
             [
              0.1111111111111111,
              "#46039f"
             ],
             [
              0.2222222222222222,
              "#7201a8"
             ],
             [
              0.3333333333333333,
              "#9c179e"
             ],
             [
              0.4444444444444444,
              "#bd3786"
             ],
             [
              0.5555555555555556,
              "#d8576b"
             ],
             [
              0.6666666666666666,
              "#ed7953"
             ],
             [
              0.7777777777777778,
              "#fb9f3a"
             ],
             [
              0.8888888888888888,
              "#fdca26"
             ],
             [
              1.0,
              "#f0f921"
             ]
            ]
           }
          ],
          "mesh3d": [
           {
            "type": "mesh3d",
            "colorbar": {
             "outlinewidth": 0,
             "ticks": ""
            }
           }
          ],
          "scatter": [
           {
            "marker": {
             "line": {
              "color": "#283442"
             }
            },
            "type": "scatter"
           }
          ],
          "parcoords": [
           {
            "type": "parcoords",
            "line": {
             "colorbar": {
              "outlinewidth": 0,
              "ticks": ""
             }
            }
           }
          ],
          "scatterpolargl": [
           {
            "type": "scatterpolargl",
            "marker": {
             "colorbar": {
              "outlinewidth": 0,
              "ticks": ""
             }
            }
           }
          ],
          "bar": [
           {
            "error_x": {
             "color": "#f2f5fa"
            },
            "error_y": {
             "color": "#f2f5fa"
            },
            "marker": {
             "line": {
              "color": "rgb(17,17,17)",
              "width": 0.5
             },
             "pattern": {
              "fillmode": "overlay",
              "size": 10,
              "solidity": 0.2
             }
            },
            "type": "bar"
           }
          ],
          "scattergeo": [
           {
            "type": "scattergeo",
            "marker": {
             "colorbar": {
              "outlinewidth": 0,
              "ticks": ""
             }
            }
           }
          ],
          "scatterpolar": [
           {
            "type": "scatterpolar",
            "marker": {
             "colorbar": {
              "outlinewidth": 0,
              "ticks": ""
             }
            }
           }
          ],
          "histogram": [
           {
            "marker": {
             "pattern": {
              "fillmode": "overlay",
              "size": 10,
              "solidity": 0.2
             }
            },
            "type": "histogram"
           }
          ],
          "scattergl": [
           {
            "marker": {
             "line": {
              "color": "#283442"
             }
            },
            "type": "scattergl"
           }
          ],
          "scatter3d": [
           {
            "type": "scatter3d",
            "line": {
             "colorbar": {
              "outlinewidth": 0,
              "ticks": ""
             }
            },
            "marker": {
             "colorbar": {
              "outlinewidth": 0,
              "ticks": ""
             }
            }
           }
          ],
          "scattermapbox": [
           {
            "type": "scattermapbox",
            "marker": {
             "colorbar": {
              "outlinewidth": 0,
              "ticks": ""
             }
            }
           }
          ],
          "scatterternary": [
           {
            "type": "scatterternary",
            "marker": {
             "colorbar": {
              "outlinewidth": 0,
              "ticks": ""
             }
            }
           }
          ],
          "scattercarpet": [
           {
            "type": "scattercarpet",
            "marker": {
             "colorbar": {
              "outlinewidth": 0,
              "ticks": ""
             }
            }
           }
          ],
          "carpet": [
           {
            "aaxis": {
             "endlinecolor": "#A2B1C6",
             "gridcolor": "#506784",
             "linecolor": "#506784",
             "minorgridcolor": "#506784",
             "startlinecolor": "#A2B1C6"
            },
            "baxis": {
             "endlinecolor": "#A2B1C6",
             "gridcolor": "#506784",
             "linecolor": "#506784",
             "minorgridcolor": "#506784",
             "startlinecolor": "#A2B1C6"
            },
            "type": "carpet"
           }
          ],
          "table": [
           {
            "cells": {
             "fill": {
              "color": "#506784"
             },
             "line": {
              "color": "rgb(17,17,17)"
             }
            },
            "header": {
             "fill": {
              "color": "#2a3f5f"
             },
             "line": {
              "color": "rgb(17,17,17)"
             }
            },
            "type": "table"
           }
          ],
          "barpolar": [
           {
            "marker": {
             "line": {
              "color": "rgb(17,17,17)",
              "width": 0.5
             },
             "pattern": {
              "fillmode": "overlay",
              "size": 10,
              "solidity": 0.2
             }
            },
            "type": "barpolar"
           }
          ],
          "pie": [
           {
            "automargin": true,
            "type": "pie"
           }
          ]
         },
         "layout": {
          "autotypenumbers": "strict",
          "colorway": [
           "#636efa",
           "#EF553B",
           "#00cc96",
           "#ab63fa",
           "#FFA15A",
           "#19d3f3",
           "#FF6692",
           "#B6E880",
           "#FF97FF",
           "#FECB52"
          ],
          "font": {
           "color": "#f2f5fa"
          },
          "hovermode": "closest",
          "hoverlabel": {
           "align": "left"
          },
          "paper_bgcolor": "rgb(17,17,17)",
          "plot_bgcolor": "rgb(17,17,17)",
          "polar": {
           "bgcolor": "rgb(17,17,17)",
           "angularaxis": {
            "gridcolor": "#506784",
            "linecolor": "#506784",
            "ticks": ""
           },
           "radialaxis": {
            "gridcolor": "#506784",
            "linecolor": "#506784",
            "ticks": ""
           }
          },
          "ternary": {
           "bgcolor": "rgb(17,17,17)",
           "aaxis": {
            "gridcolor": "#506784",
            "linecolor": "#506784",
            "ticks": ""
           },
           "baxis": {
            "gridcolor": "#506784",
            "linecolor": "#506784",
            "ticks": ""
           },
           "caxis": {
            "gridcolor": "#506784",
            "linecolor": "#506784",
            "ticks": ""
           }
          },
          "coloraxis": {
           "colorbar": {
            "outlinewidth": 0,
            "ticks": ""
           }
          },
          "colorscale": {
           "sequential": [
            [
             0.0,
             "#0d0887"
            ],
            [
             0.1111111111111111,
             "#46039f"
            ],
            [
             0.2222222222222222,
             "#7201a8"
            ],
            [
             0.3333333333333333,
             "#9c179e"
            ],
            [
             0.4444444444444444,
             "#bd3786"
            ],
            [
             0.5555555555555556,
             "#d8576b"
            ],
            [
             0.6666666666666666,
             "#ed7953"
            ],
            [
             0.7777777777777778,
             "#fb9f3a"
            ],
            [
             0.8888888888888888,
             "#fdca26"
            ],
            [
             1.0,
             "#f0f921"
            ]
           ],
           "sequentialminus": [
            [
             0.0,
             "#0d0887"
            ],
            [
             0.1111111111111111,
             "#46039f"
            ],
            [
             0.2222222222222222,
             "#7201a8"
            ],
            [
             0.3333333333333333,
             "#9c179e"
            ],
            [
             0.4444444444444444,
             "#bd3786"
            ],
            [
             0.5555555555555556,
             "#d8576b"
            ],
            [
             0.6666666666666666,
             "#ed7953"
            ],
            [
             0.7777777777777778,
             "#fb9f3a"
            ],
            [
             0.8888888888888888,
             "#fdca26"
            ],
            [
             1.0,
             "#f0f921"
            ]
           ],
           "diverging": [
            [
             0,
             "#8e0152"
            ],
            [
             0.1,
             "#c51b7d"
            ],
            [
             0.2,
             "#de77ae"
            ],
            [
             0.3,
             "#f1b6da"
            ],
            [
             0.4,
             "#fde0ef"
            ],
            [
             0.5,
             "#f7f7f7"
            ],
            [
             0.6,
             "#e6f5d0"
            ],
            [
             0.7,
             "#b8e186"
            ],
            [
             0.8,
             "#7fbc41"
            ],
            [
             0.9,
             "#4d9221"
            ],
            [
             1,
             "#276419"
            ]
           ]
          },
          "xaxis": {
           "gridcolor": "#283442",
           "linecolor": "#506784",
           "ticks": "",
           "title": {
            "standoff": 15
           },
           "zerolinecolor": "#283442",
           "automargin": true,
           "zerolinewidth": 2
          },
          "yaxis": {
           "gridcolor": "#283442",
           "linecolor": "#506784",
           "ticks": "",
           "title": {
            "standoff": 15
           },
           "zerolinecolor": "#283442",
           "automargin": true,
           "zerolinewidth": 2
          },
          "scene": {
           "xaxis": {
            "backgroundcolor": "rgb(17,17,17)",
            "gridcolor": "#506784",
            "linecolor": "#506784",
            "showbackground": true,
            "ticks": "",
            "zerolinecolor": "#C8D4E3",
            "gridwidth": 2
           },
           "yaxis": {
            "backgroundcolor": "rgb(17,17,17)",
            "gridcolor": "#506784",
            "linecolor": "#506784",
            "showbackground": true,
            "ticks": "",
            "zerolinecolor": "#C8D4E3",
            "gridwidth": 2
           },
           "zaxis": {
            "backgroundcolor": "rgb(17,17,17)",
            "gridcolor": "#506784",
            "linecolor": "#506784",
            "showbackground": true,
            "ticks": "",
            "zerolinecolor": "#C8D4E3",
            "gridwidth": 2
           }
          },
          "shapedefaults": {
           "line": {
            "color": "#f2f5fa"
           }
          },
          "annotationdefaults": {
           "arrowcolor": "#f2f5fa",
           "arrowhead": 0,
           "arrowwidth": 1
          },
          "geo": {
           "bgcolor": "rgb(17,17,17)",
           "landcolor": "rgb(17,17,17)",
           "subunitcolor": "#506784",
           "showland": true,
           "showlakes": true,
           "lakecolor": "rgb(17,17,17)"
          },
          "title": {
           "x": 0.05
          },
          "updatemenudefaults": {
           "bgcolor": "#506784",
           "borderwidth": 0
          },
          "sliderdefaults": {
           "bgcolor": "#C8D4E3",
           "borderwidth": 1,
           "bordercolor": "rgb(17,17,17)",
           "tickwidth": 0
          },
          "mapbox": {
           "style": "dark"
          }
         }
        },
        "xaxis": {
         "rangeslider": {
          "visible": false
         },
         "title": {
          "text": "Date"
         }
        },
        "title": {
         "text": "1_hour"
        },
        "yaxis": {
         "title": {
          "text": "Price"
         }
        },
        "shapes": [
         {
          "label": {
           "font": {
            "size": 10
           },
           "padding": 0,
           "text": "68346.8",
           "textposition": "end",
           "xanchor": "right",
           "yanchor": "middle"
          },
          "line": {
           "color": "green"
          },
          "type": "line",
          "x0": "2024-10-19T01:40:00",
          "x1": "2024-10-19T17:00:00",
          "y0": 68346.8,
          "y1": 68346.8
         },
         {
          "label": {
           "font": {
            "size": 10
           },
           "padding": 0,
           "text": "68337.8",
           "textposition": "end",
           "xanchor": "right",
           "yanchor": "middle"
          },
          "line": {
           "color": "green"
          },
          "type": "line",
          "x0": "2024-10-19T01:40:00",
          "x1": "2024-10-19T17:00:00",
          "y0": 68337.8,
          "y1": 68337.8
         },
         {
          "label": {
           "font": {
            "size": 10
           },
           "padding": 0,
           "text": "68318.5",
           "textposition": "end",
           "xanchor": "right",
           "yanchor": "middle"
          },
          "line": {
           "color": "green"
          },
          "type": "line",
          "x0": "2024-10-19T01:45:00",
          "x1": "2024-10-19T17:00:00",
          "y0": 68318.5,
          "y1": 68318.5
         },
         {
          "label": {
           "font": {
            "size": 10
           },
           "padding": 0,
           "text": "68318.4",
           "textposition": "end",
           "xanchor": "right",
           "yanchor": "middle"
          },
          "line": {
           "color": "green"
          },
          "type": "line",
          "x0": "2024-10-19T01:45:00",
          "x1": "2024-10-19T17:00:00",
          "y0": 68318.4,
          "y1": 68318.4
         },
         {
          "label": {
           "font": {
            "size": 10
           },
           "padding": 0,
           "text": "68403.5",
           "textposition": "end",
           "xanchor": "right",
           "yanchor": "middle"
          },
          "line": {
           "color": "green"
          },
          "type": "line",
          "x0": "2024-10-19T02:55:00",
          "x1": "2024-10-19T17:00:00",
          "y0": 68403.5,
          "y1": 68403.5
         },
         {
          "label": {
           "font": {
            "size": 10
           },
           "padding": 0,
           "text": "68401.7",
           "textposition": "end",
           "xanchor": "right",
           "yanchor": "middle"
          },
          "line": {
           "color": "green"
          },
          "type": "line",
          "x0": "2024-10-19T02:55:00",
          "x1": "2024-10-19T17:00:00",
          "y0": 68401.7,
          "y1": 68401.7
         },
         {
          "label": {
           "font": {
            "size": 10
           },
           "padding": 0,
           "text": "68401.6",
           "textposition": "end",
           "xanchor": "right",
           "yanchor": "middle"
          },
          "line": {
           "color": "green"
          },
          "type": "line",
          "x0": "2024-10-19T03:00:00",
          "x1": "2024-10-19T17:00:00",
          "y0": 68401.6,
          "y1": 68401.6
         },
         {
          "label": {
           "font": {
            "size": 10
           },
           "padding": 0,
           "text": "68401.6",
           "textposition": "end",
           "xanchor": "right",
           "yanchor": "middle"
          },
          "line": {
           "color": "green"
          },
          "type": "line",
          "x0": "2024-10-19T03:00:00",
          "x1": "2024-10-19T17:00:00",
          "y0": 68401.6,
          "y1": 68401.6
         },
         {
          "label": {
           "font": {
            "size": 10
           },
           "padding": 0,
           "text": "68287.5",
           "textposition": "end",
           "xanchor": "right",
           "yanchor": "middle"
          },
          "line": {
           "color": "green"
          },
          "type": "line",
          "x0": "2024-10-19T04:45:00",
          "x1": "2024-10-19T17:00:00",
          "y0": 68287.5,
          "y1": 68287.5
         },
         {
          "label": {
           "font": {
            "size": 10
           },
           "padding": 0,
           "text": "68287.4",
           "textposition": "end",
           "xanchor": "right",
           "yanchor": "middle"
          },
          "line": {
           "color": "green"
          },
          "type": "line",
          "x0": "2024-10-19T04:45:00",
          "x1": "2024-10-19T17:00:00",
          "y0": 68287.4,
          "y1": 68287.4
         },
         {
          "label": {
           "font": {
            "size": 10
           },
           "padding": 0,
           "text": "68269.8",
           "textposition": "end",
           "xanchor": "right",
           "yanchor": "middle"
          },
          "line": {
           "color": "green"
          },
          "type": "line",
          "x0": "2024-10-19T04:50:00",
          "x1": "2024-10-19T17:00:00",
          "y0": 68269.8,
          "y1": 68269.8
         },
         {
          "label": {
           "font": {
            "size": 10
           },
           "padding": 0,
           "text": "68272.5",
           "textposition": "end",
           "xanchor": "right",
           "yanchor": "middle"
          },
          "line": {
           "color": "green"
          },
          "type": "line",
          "x0": "2024-10-19T04:50:00",
          "x1": "2024-10-19T17:00:00",
          "y0": 68272.5,
          "y1": 68272.5
         },
         {
          "label": {
           "font": {
            "size": 10
           },
           "padding": 0,
           "text": "68157.8",
           "textposition": "end",
           "xanchor": "right",
           "yanchor": "middle"
          },
          "line": {
           "color": "green"
          },
          "type": "line",
          "x0": "2024-10-19T05:50:00",
          "x1": "2024-10-19T17:00:00",
          "y0": 68157.8,
          "y1": 68157.8
         },
         {
          "label": {
           "font": {
            "size": 10
           },
           "padding": 0,
           "text": "68163.7",
           "textposition": "end",
           "xanchor": "right",
           "yanchor": "middle"
          },
          "line": {
           "color": "green"
          },
          "type": "line",
          "x0": "2024-10-19T05:50:00",
          "x1": "2024-10-19T17:00:00",
          "y0": 68163.7,
          "y1": 68163.7
         },
         {
          "label": {
           "font": {
            "size": 10
           },
           "padding": 0,
           "text": "68111.9",
           "textposition": "end",
           "xanchor": "right",
           "yanchor": "middle"
          },
          "line": {
           "color": "green"
          },
          "type": "line",
          "x0": "2024-10-19T05:55:00",
          "x1": "2024-10-19T17:00:00",
          "y0": 68111.9,
          "y1": 68111.9
         },
         {
          "label": {
           "font": {
            "size": 10
           },
           "padding": 0,
           "text": "68112.8",
           "textposition": "end",
           "xanchor": "right",
           "yanchor": "middle"
          },
          "line": {
           "color": "green"
          },
          "type": "line",
          "x0": "2024-10-19T05:55:00",
          "x1": "2024-10-19T17:00:00",
          "y0": 68112.8,
          "y1": 68112.8
         },
         {
          "label": {
           "font": {
            "size": 10
           },
           "padding": 0,
           "text": "68140.5",
           "textposition": "end",
           "xanchor": "right",
           "yanchor": "middle"
          },
          "line": {
           "color": "green"
          },
          "type": "line",
          "x0": "2024-10-19T07:50:00",
          "x1": "2024-10-19T17:00:00",
          "y0": 68140.5,
          "y1": 68140.5
         },
         {
          "label": {
           "font": {
            "size": 10
           },
           "padding": 0,
           "text": "68140.5",
           "textposition": "end",
           "xanchor": "right",
           "yanchor": "middle"
          },
          "line": {
           "color": "green"
          },
          "type": "line",
          "x0": "2024-10-19T07:50:00",
          "x1": "2024-10-19T17:00:00",
          "y0": 68140.5,
          "y1": 68140.5
         },
         {
          "label": {
           "font": {
            "size": 10
           },
           "padding": 0,
           "text": "68109.5",
           "textposition": "end",
           "xanchor": "right",
           "yanchor": "middle"
          },
          "line": {
           "color": "green"
          },
          "type": "line",
          "x0": "2024-10-19T07:55:00",
          "x1": "2024-10-19T17:00:00",
          "y0": 68109.5,
          "y1": 68109.5
         },
         {
          "label": {
           "font": {
            "size": 10
           },
           "padding": 0,
           "text": "68101.9",
           "textposition": "end",
           "xanchor": "right",
           "yanchor": "middle"
          },
          "line": {
           "color": "green"
          },
          "type": "line",
          "x0": "2024-10-19T07:55:00",
          "x1": "2024-10-19T17:00:00",
          "y0": 68101.9,
          "y1": 68101.9
         },
         {
          "label": {
           "font": {
            "size": 10
           },
           "padding": 0,
           "text": "68125.3",
           "textposition": "end",
           "xanchor": "right",
           "yanchor": "middle"
          },
          "line": {
           "color": "green"
          },
          "type": "line",
          "x0": "2024-10-19T10:20:00",
          "x1": "2024-10-19T17:00:00",
          "y0": 68125.3,
          "y1": 68125.3
         },
         {
          "label": {
           "font": {
            "size": 10
           },
           "padding": 0,
           "text": "68182.4",
           "textposition": "end",
           "xanchor": "right",
           "yanchor": "middle"
          },
          "line": {
           "color": "green"
          },
          "type": "line",
          "x0": "2024-10-19T10:20:00",
          "x1": "2024-10-19T17:00:00",
          "y0": 68182.4,
          "y1": 68182.4
         },
         {
          "label": {
           "font": {
            "size": 10
           },
           "padding": 0,
           "text": "68115.6",
           "textposition": "end",
           "xanchor": "right",
           "yanchor": "middle"
          },
          "line": {
           "color": "green"
          },
          "type": "line",
          "x0": "2024-10-19T10:25:00",
          "x1": "2024-10-19T17:00:00",
          "y0": 68115.6,
          "y1": 68115.6
         },
         {
          "label": {
           "font": {
            "size": 10
           },
           "padding": 0,
           "text": "68100.4",
           "textposition": "end",
           "xanchor": "right",
           "yanchor": "middle"
          },
          "line": {
           "color": "green"
          },
          "type": "line",
          "x0": "2024-10-19T10:25:00",
          "x1": "2024-10-19T17:00:00",
          "y0": 68100.4,
          "y1": 68100.4
         },
         {
          "label": {
           "font": {
            "size": 10
           },
           "padding": 0,
           "text": "68119.0",
           "textposition": "end",
           "xanchor": "right",
           "yanchor": "middle"
          },
          "line": {
           "color": "green"
          },
          "type": "line",
          "x0": "2024-10-19T12:00:00",
          "x1": "2024-10-19T17:00:00",
          "y0": 68119.0,
          "y1": 68119.0
         },
         {
          "label": {
           "font": {
            "size": 10
           },
           "padding": 0,
           "text": "68124.4",
           "textposition": "end",
           "xanchor": "right",
           "yanchor": "middle"
          },
          "line": {
           "color": "green"
          },
          "type": "line",
          "x0": "2024-10-19T12:00:00",
          "x1": "2024-10-19T17:00:00",
          "y0": 68124.4,
          "y1": 68124.4
         },
         {
          "label": {
           "font": {
            "size": 10
           },
           "padding": 0,
           "text": "68109.3",
           "textposition": "end",
           "xanchor": "right",
           "yanchor": "middle"
          },
          "line": {
           "color": "green"
          },
          "type": "line",
          "x0": "2024-10-19T12:05:00",
          "x1": "2024-10-19T17:00:00",
          "y0": 68109.3,
          "y1": 68109.3
         },
         {
          "label": {
           "font": {
            "size": 10
           },
           "padding": 0,
           "text": "68117.0",
           "textposition": "end",
           "xanchor": "right",
           "yanchor": "middle"
          },
          "line": {
           "color": "green"
          },
          "type": "line",
          "x0": "2024-10-19T12:05:00",
          "x1": "2024-10-19T17:00:00",
          "y0": 68117.0,
          "y1": 68117.0
         },
         {
          "label": {
           "font": {
            "size": 10
           },
           "padding": 0,
           "text": "68181.8",
           "textposition": "end",
           "xanchor": "right",
           "yanchor": "middle"
          },
          "line": {
           "color": "green"
          },
          "type": "line",
          "x0": "2024-10-19T12:55:00",
          "x1": "2024-10-19T17:00:00",
          "y0": 68181.8,
          "y1": 68181.8
         },
         {
          "label": {
           "font": {
            "size": 10
           },
           "padding": 0,
           "text": "68181.5",
           "textposition": "end",
           "xanchor": "right",
           "yanchor": "middle"
          },
          "line": {
           "color": "green"
          },
          "type": "line",
          "x0": "2024-10-19T12:55:00",
          "x1": "2024-10-19T17:00:00",
          "y0": 68181.5,
          "y1": 68181.5
         },
         {
          "label": {
           "font": {
            "size": 10
           },
           "padding": 0,
           "text": "68164.8",
           "textposition": "end",
           "xanchor": "right",
           "yanchor": "middle"
          },
          "line": {
           "color": "green"
          },
          "type": "line",
          "x0": "2024-10-19T13:00:00",
          "x1": "2024-10-19T17:00:00",
          "y0": 68164.8,
          "y1": 68164.8
         },
         {
          "label": {
           "font": {
            "size": 10
           },
           "padding": 0,
           "text": "68164.8",
           "textposition": "end",
           "xanchor": "right",
           "yanchor": "middle"
          },
          "line": {
           "color": "green"
          },
          "type": "line",
          "x0": "2024-10-19T13:00:00",
          "x1": "2024-10-19T17:00:00",
          "y0": 68164.8,
          "y1": 68164.8
         },
         {
          "label": {
           "font": {
            "size": 10
           },
           "padding": 0,
           "text": "68199.9",
           "textposition": "end",
           "xanchor": "right",
           "yanchor": "middle"
          },
          "line": {
           "color": "green"
          },
          "type": "line",
          "x0": "2024-10-19T13:40:00",
          "x1": "2024-10-19T17:00:00",
          "y0": 68199.9,
          "y1": 68199.9
         },
         {
          "label": {
           "font": {
            "size": 10
           },
           "padding": 0,
           "text": "68201.5",
           "textposition": "end",
           "xanchor": "right",
           "yanchor": "middle"
          },
          "line": {
           "color": "green"
          },
          "type": "line",
          "x0": "2024-10-19T13:40:00",
          "x1": "2024-10-19T17:00:00",
          "y0": 68201.5,
          "y1": 68201.5
         },
         {
          "label": {
           "font": {
            "size": 10
           },
           "padding": 0,
           "text": "68169.8",
           "textposition": "end",
           "xanchor": "right",
           "yanchor": "middle"
          },
          "line": {
           "color": "green"
          },
          "type": "line",
          "x0": "2024-10-19T13:45:00",
          "x1": "2024-10-19T17:00:00",
          "y0": 68169.8,
          "y1": 68169.8
         },
         {
          "label": {
           "font": {
            "size": 10
           },
           "padding": 0,
           "text": "68179.3",
           "textposition": "end",
           "xanchor": "right",
           "yanchor": "middle"
          },
          "line": {
           "color": "green"
          },
          "type": "line",
          "x0": "2024-10-19T13:45:00",
          "x1": "2024-10-19T17:00:00",
          "y0": 68179.3,
          "y1": 68179.3
         },
         {
          "label": {
           "font": {
            "size": 10
           },
           "padding": 0,
           "text": "68232.1",
           "textposition": "end",
           "xanchor": "right",
           "yanchor": "middle"
          },
          "line": {
           "color": "green"
          },
          "type": "line",
          "x0": "2024-10-19T14:50:00",
          "x1": "2024-10-19T17:00:00",
          "y0": 68232.1,
          "y1": 68232.1
         },
         {
          "label": {
           "font": {
            "size": 10
           },
           "padding": 0,
           "text": "68233.2",
           "textposition": "end",
           "xanchor": "right",
           "yanchor": "middle"
          },
          "line": {
           "color": "green"
          },
          "type": "line",
          "x0": "2024-10-19T14:50:00",
          "x1": "2024-10-19T17:00:00",
          "y0": 68233.2,
          "y1": 68233.2
         },
         {
          "label": {
           "font": {
            "size": 10
           },
           "padding": 0,
           "text": "68237.2",
           "textposition": "end",
           "xanchor": "right",
           "yanchor": "middle"
          },
          "line": {
           "color": "green"
          },
          "type": "line",
          "x0": "2024-10-19T14:55:00",
          "x1": "2024-10-19T17:00:00",
          "y0": 68237.2,
          "y1": 68237.2
         },
         {
          "label": {
           "font": {
            "size": 10
           },
           "padding": 0,
           "text": "68230.2",
           "textposition": "end",
           "xanchor": "right",
           "yanchor": "middle"
          },
          "line": {
           "color": "green"
          },
          "type": "line",
          "x0": "2024-10-19T14:55:00",
          "x1": "2024-10-19T17:00:00",
          "y0": 68230.2,
          "y1": 68230.2
         },
         {
          "label": {
           "font": {
            "size": 10
           },
           "padding": 0,
           "text": "68346.8",
           "textposition": "end",
           "xanchor": "right",
           "yanchor": "middle"
          },
          "line": {
           "color": "green"
          },
          "type": "line",
          "x0": "2024-10-19T01:40:00",
          "x1": "2024-10-19T17:00:00",
          "y0": 68346.8,
          "y1": 68346.8
         },
         {
          "label": {
           "font": {
            "size": 10
           },
           "padding": 0,
           "text": "68337.8",
           "textposition": "end",
           "xanchor": "right",
           "yanchor": "middle"
          },
          "line": {
           "color": "green"
          },
          "type": "line",
          "x0": "2024-10-19T01:40:00",
          "x1": "2024-10-19T17:00:00",
          "y0": 68337.8,
          "y1": 68337.8
         },
         {
          "label": {
           "font": {
            "size": 10
           },
           "padding": 0,
           "text": "68318.5",
           "textposition": "end",
           "xanchor": "right",
           "yanchor": "middle"
          },
          "line": {
           "color": "green"
          },
          "type": "line",
          "x0": "2024-10-19T01:45:00",
          "x1": "2024-10-19T17:00:00",
          "y0": 68318.5,
          "y1": 68318.5
         },
         {
          "label": {
           "font": {
            "size": 10
           },
           "padding": 0,
           "text": "68318.4",
           "textposition": "end",
           "xanchor": "right",
           "yanchor": "middle"
          },
          "line": {
           "color": "green"
          },
          "type": "line",
          "x0": "2024-10-19T01:45:00",
          "x1": "2024-10-19T17:00:00",
          "y0": 68318.4,
          "y1": 68318.4
         },
         {
          "label": {
           "font": {
            "size": 10
           },
           "padding": 0,
           "text": "68403.5",
           "textposition": "end",
           "xanchor": "right",
           "yanchor": "middle"
          },
          "line": {
           "color": "green"
          },
          "type": "line",
          "x0": "2024-10-19T02:55:00",
          "x1": "2024-10-19T17:00:00",
          "y0": 68403.5,
          "y1": 68403.5
         },
         {
          "label": {
           "font": {
            "size": 10
           },
           "padding": 0,
           "text": "68401.7",
           "textposition": "end",
           "xanchor": "right",
           "yanchor": "middle"
          },
          "line": {
           "color": "green"
          },
          "type": "line",
          "x0": "2024-10-19T02:55:00",
          "x1": "2024-10-19T17:00:00",
          "y0": 68401.7,
          "y1": 68401.7
         },
         {
          "label": {
           "font": {
            "size": 10
           },
           "padding": 0,
           "text": "68401.6",
           "textposition": "end",
           "xanchor": "right",
           "yanchor": "middle"
          },
          "line": {
           "color": "green"
          },
          "type": "line",
          "x0": "2024-10-19T03:00:00",
          "x1": "2024-10-19T17:00:00",
          "y0": 68401.6,
          "y1": 68401.6
         },
         {
          "label": {
           "font": {
            "size": 10
           },
           "padding": 0,
           "text": "68401.6",
           "textposition": "end",
           "xanchor": "right",
           "yanchor": "middle"
          },
          "line": {
           "color": "green"
          },
          "type": "line",
          "x0": "2024-10-19T03:00:00",
          "x1": "2024-10-19T17:00:00",
          "y0": 68401.6,
          "y1": 68401.6
         },
         {
          "label": {
           "font": {
            "size": 10
           },
           "padding": 0,
           "text": "68287.5",
           "textposition": "end",
           "xanchor": "right",
           "yanchor": "middle"
          },
          "line": {
           "color": "green"
          },
          "type": "line",
          "x0": "2024-10-19T04:45:00",
          "x1": "2024-10-19T17:00:00",
          "y0": 68287.5,
          "y1": 68287.5
         },
         {
          "label": {
           "font": {
            "size": 10
           },
           "padding": 0,
           "text": "68287.4",
           "textposition": "end",
           "xanchor": "right",
           "yanchor": "middle"
          },
          "line": {
           "color": "green"
          },
          "type": "line",
          "x0": "2024-10-19T04:45:00",
          "x1": "2024-10-19T17:00:00",
          "y0": 68287.4,
          "y1": 68287.4
         },
         {
          "label": {
           "font": {
            "size": 10
           },
           "padding": 0,
           "text": "68269.8",
           "textposition": "end",
           "xanchor": "right",
           "yanchor": "middle"
          },
          "line": {
           "color": "green"
          },
          "type": "line",
          "x0": "2024-10-19T04:50:00",
          "x1": "2024-10-19T17:00:00",
          "y0": 68269.8,
          "y1": 68269.8
         },
         {
          "label": {
           "font": {
            "size": 10
           },
           "padding": 0,
           "text": "68272.5",
           "textposition": "end",
           "xanchor": "right",
           "yanchor": "middle"
          },
          "line": {
           "color": "green"
          },
          "type": "line",
          "x0": "2024-10-19T04:50:00",
          "x1": "2024-10-19T17:00:00",
          "y0": 68272.5,
          "y1": 68272.5
         },
         {
          "label": {
           "font": {
            "size": 10
           },
           "padding": 0,
           "text": "68157.8",
           "textposition": "end",
           "xanchor": "right",
           "yanchor": "middle"
          },
          "line": {
           "color": "green"
          },
          "type": "line",
          "x0": "2024-10-19T05:50:00",
          "x1": "2024-10-19T17:00:00",
          "y0": 68157.8,
          "y1": 68157.8
         },
         {
          "label": {
           "font": {
            "size": 10
           },
           "padding": 0,
           "text": "68163.7",
           "textposition": "end",
           "xanchor": "right",
           "yanchor": "middle"
          },
          "line": {
           "color": "green"
          },
          "type": "line",
          "x0": "2024-10-19T05:50:00",
          "x1": "2024-10-19T17:00:00",
          "y0": 68163.7,
          "y1": 68163.7
         },
         {
          "label": {
           "font": {
            "size": 10
           },
           "padding": 0,
           "text": "68111.9",
           "textposition": "end",
           "xanchor": "right",
           "yanchor": "middle"
          },
          "line": {
           "color": "green"
          },
          "type": "line",
          "x0": "2024-10-19T05:55:00",
          "x1": "2024-10-19T17:00:00",
          "y0": 68111.9,
          "y1": 68111.9
         },
         {
          "label": {
           "font": {
            "size": 10
           },
           "padding": 0,
           "text": "68112.8",
           "textposition": "end",
           "xanchor": "right",
           "yanchor": "middle"
          },
          "line": {
           "color": "green"
          },
          "type": "line",
          "x0": "2024-10-19T05:55:00",
          "x1": "2024-10-19T17:00:00",
          "y0": 68112.8,
          "y1": 68112.8
         },
         {
          "label": {
           "font": {
            "size": 10
           },
           "padding": 0,
           "text": "68140.5",
           "textposition": "end",
           "xanchor": "right",
           "yanchor": "middle"
          },
          "line": {
           "color": "green"
          },
          "type": "line",
          "x0": "2024-10-19T07:50:00",
          "x1": "2024-10-19T17:00:00",
          "y0": 68140.5,
          "y1": 68140.5
         },
         {
          "label": {
           "font": {
            "size": 10
           },
           "padding": 0,
           "text": "68140.5",
           "textposition": "end",
           "xanchor": "right",
           "yanchor": "middle"
          },
          "line": {
           "color": "green"
          },
          "type": "line",
          "x0": "2024-10-19T07:50:00",
          "x1": "2024-10-19T17:00:00",
          "y0": 68140.5,
          "y1": 68140.5
         },
         {
          "label": {
           "font": {
            "size": 10
           },
           "padding": 0,
           "text": "68109.5",
           "textposition": "end",
           "xanchor": "right",
           "yanchor": "middle"
          },
          "line": {
           "color": "green"
          },
          "type": "line",
          "x0": "2024-10-19T07:55:00",
          "x1": "2024-10-19T17:00:00",
          "y0": 68109.5,
          "y1": 68109.5
         },
         {
          "label": {
           "font": {
            "size": 10
           },
           "padding": 0,
           "text": "68101.9",
           "textposition": "end",
           "xanchor": "right",
           "yanchor": "middle"
          },
          "line": {
           "color": "green"
          },
          "type": "line",
          "x0": "2024-10-19T07:55:00",
          "x1": "2024-10-19T17:00:00",
          "y0": 68101.9,
          "y1": 68101.9
         },
         {
          "label": {
           "font": {
            "size": 10
           },
           "padding": 0,
           "text": "68125.3",
           "textposition": "end",
           "xanchor": "right",
           "yanchor": "middle"
          },
          "line": {
           "color": "green"
          },
          "type": "line",
          "x0": "2024-10-19T10:20:00",
          "x1": "2024-10-19T17:00:00",
          "y0": 68125.3,
          "y1": 68125.3
         },
         {
          "label": {
           "font": {
            "size": 10
           },
           "padding": 0,
           "text": "68182.4",
           "textposition": "end",
           "xanchor": "right",
           "yanchor": "middle"
          },
          "line": {
           "color": "green"
          },
          "type": "line",
          "x0": "2024-10-19T10:20:00",
          "x1": "2024-10-19T17:00:00",
          "y0": 68182.4,
          "y1": 68182.4
         },
         {
          "label": {
           "font": {
            "size": 10
           },
           "padding": 0,
           "text": "68115.6",
           "textposition": "end",
           "xanchor": "right",
           "yanchor": "middle"
          },
          "line": {
           "color": "green"
          },
          "type": "line",
          "x0": "2024-10-19T10:25:00",
          "x1": "2024-10-19T17:00:00",
          "y0": 68115.6,
          "y1": 68115.6
         },
         {
          "label": {
           "font": {
            "size": 10
           },
           "padding": 0,
           "text": "68100.4",
           "textposition": "end",
           "xanchor": "right",
           "yanchor": "middle"
          },
          "line": {
           "color": "green"
          },
          "type": "line",
          "x0": "2024-10-19T10:25:00",
          "x1": "2024-10-19T17:00:00",
          "y0": 68100.4,
          "y1": 68100.4
         },
         {
          "label": {
           "font": {
            "size": 10
           },
           "padding": 0,
           "text": "68119.0",
           "textposition": "end",
           "xanchor": "right",
           "yanchor": "middle"
          },
          "line": {
           "color": "green"
          },
          "type": "line",
          "x0": "2024-10-19T12:00:00",
          "x1": "2024-10-19T17:00:00",
          "y0": 68119.0,
          "y1": 68119.0
         },
         {
          "label": {
           "font": {
            "size": 10
           },
           "padding": 0,
           "text": "68124.4",
           "textposition": "end",
           "xanchor": "right",
           "yanchor": "middle"
          },
          "line": {
           "color": "green"
          },
          "type": "line",
          "x0": "2024-10-19T12:00:00",
          "x1": "2024-10-19T17:00:00",
          "y0": 68124.4,
          "y1": 68124.4
         },
         {
          "label": {
           "font": {
            "size": 10
           },
           "padding": 0,
           "text": "68109.3",
           "textposition": "end",
           "xanchor": "right",
           "yanchor": "middle"
          },
          "line": {
           "color": "green"
          },
          "type": "line",
          "x0": "2024-10-19T12:05:00",
          "x1": "2024-10-19T17:00:00",
          "y0": 68109.3,
          "y1": 68109.3
         },
         {
          "label": {
           "font": {
            "size": 10
           },
           "padding": 0,
           "text": "68117.0",
           "textposition": "end",
           "xanchor": "right",
           "yanchor": "middle"
          },
          "line": {
           "color": "green"
          },
          "type": "line",
          "x0": "2024-10-19T12:05:00",
          "x1": "2024-10-19T17:00:00",
          "y0": 68117.0,
          "y1": 68117.0
         },
         {
          "label": {
           "font": {
            "size": 10
           },
           "padding": 0,
           "text": "68181.8",
           "textposition": "end",
           "xanchor": "right",
           "yanchor": "middle"
          },
          "line": {
           "color": "green"
          },
          "type": "line",
          "x0": "2024-10-19T12:55:00",
          "x1": "2024-10-19T17:00:00",
          "y0": 68181.8,
          "y1": 68181.8
         },
         {
          "label": {
           "font": {
            "size": 10
           },
           "padding": 0,
           "text": "68181.5",
           "textposition": "end",
           "xanchor": "right",
           "yanchor": "middle"
          },
          "line": {
           "color": "green"
          },
          "type": "line",
          "x0": "2024-10-19T12:55:00",
          "x1": "2024-10-19T17:00:00",
          "y0": 68181.5,
          "y1": 68181.5
         },
         {
          "label": {
           "font": {
            "size": 10
           },
           "padding": 0,
           "text": "68164.8",
           "textposition": "end",
           "xanchor": "right",
           "yanchor": "middle"
          },
          "line": {
           "color": "green"
          },
          "type": "line",
          "x0": "2024-10-19T13:00:00",
          "x1": "2024-10-19T17:00:00",
          "y0": 68164.8,
          "y1": 68164.8
         },
         {
          "label": {
           "font": {
            "size": 10
           },
           "padding": 0,
           "text": "68164.8",
           "textposition": "end",
           "xanchor": "right",
           "yanchor": "middle"
          },
          "line": {
           "color": "green"
          },
          "type": "line",
          "x0": "2024-10-19T13:00:00",
          "x1": "2024-10-19T17:00:00",
          "y0": 68164.8,
          "y1": 68164.8
         },
         {
          "label": {
           "font": {
            "size": 10
           },
           "padding": 0,
           "text": "68199.9",
           "textposition": "end",
           "xanchor": "right",
           "yanchor": "middle"
          },
          "line": {
           "color": "green"
          },
          "type": "line",
          "x0": "2024-10-19T13:40:00",
          "x1": "2024-10-19T17:00:00",
          "y0": 68199.9,
          "y1": 68199.9
         },
         {
          "label": {
           "font": {
            "size": 10
           },
           "padding": 0,
           "text": "68201.5",
           "textposition": "end",
           "xanchor": "right",
           "yanchor": "middle"
          },
          "line": {
           "color": "green"
          },
          "type": "line",
          "x0": "2024-10-19T13:40:00",
          "x1": "2024-10-19T17:00:00",
          "y0": 68201.5,
          "y1": 68201.5
         },
         {
          "label": {
           "font": {
            "size": 10
           },
           "padding": 0,
           "text": "68169.8",
           "textposition": "end",
           "xanchor": "right",
           "yanchor": "middle"
          },
          "line": {
           "color": "green"
          },
          "type": "line",
          "x0": "2024-10-19T13:45:00",
          "x1": "2024-10-19T17:00:00",
          "y0": 68169.8,
          "y1": 68169.8
         },
         {
          "label": {
           "font": {
            "size": 10
           },
           "padding": 0,
           "text": "68179.3",
           "textposition": "end",
           "xanchor": "right",
           "yanchor": "middle"
          },
          "line": {
           "color": "green"
          },
          "type": "line",
          "x0": "2024-10-19T13:45:00",
          "x1": "2024-10-19T17:00:00",
          "y0": 68179.3,
          "y1": 68179.3
         },
         {
          "label": {
           "font": {
            "size": 10
           },
           "padding": 0,
           "text": "68232.1",
           "textposition": "end",
           "xanchor": "right",
           "yanchor": "middle"
          },
          "line": {
           "color": "green"
          },
          "type": "line",
          "x0": "2024-10-19T14:50:00",
          "x1": "2024-10-19T17:00:00",
          "y0": 68232.1,
          "y1": 68232.1
         },
         {
          "label": {
           "font": {
            "size": 10
           },
           "padding": 0,
           "text": "68233.2",
           "textposition": "end",
           "xanchor": "right",
           "yanchor": "middle"
          },
          "line": {
           "color": "green"
          },
          "type": "line",
          "x0": "2024-10-19T14:50:00",
          "x1": "2024-10-19T17:00:00",
          "y0": 68233.2,
          "y1": 68233.2
         },
         {
          "label": {
           "font": {
            "size": 10
           },
           "padding": 0,
           "text": "68237.2",
           "textposition": "end",
           "xanchor": "right",
           "yanchor": "middle"
          },
          "line": {
           "color": "green"
          },
          "type": "line",
          "x0": "2024-10-19T14:55:00",
          "x1": "2024-10-19T17:00:00",
          "y0": 68237.2,
          "y1": 68237.2
         },
         {
          "label": {
           "font": {
            "size": 10
           },
           "padding": 0,
           "text": "68230.2",
           "textposition": "end",
           "xanchor": "right",
           "yanchor": "middle"
          },
          "line": {
           "color": "green"
          },
          "type": "line",
          "x0": "2024-10-19T14:55:00",
          "x1": "2024-10-19T17:00:00",
          "y0": 68230.2,
          "y1": 68230.2
         }
        ]
       },
       "config": {
        "plotlyServerURL": "https://plot.ly"
       }
      },
      "text/html": [
       "<div>                            <div id=\"d16af066-0cc5-4d03-b166-1eca201c1f99\" class=\"plotly-graph-div\" style=\"height:525px; width:100%;\"></div>            <script type=\"text/javascript\">                require([\"plotly\"], function(Plotly) {                    window.PLOTLYENV=window.PLOTLYENV || {};                                    if (document.getElementById(\"d16af066-0cc5-4d03-b166-1eca201c1f99\")) {                    Plotly.newPlot(                        \"d16af066-0cc5-4d03-b166-1eca201c1f99\",                        [{\"close\":[68320.4,68379.7,68324.3,68340.7,68401.6,68336.4,68236.9,68077.7,68204.5,68101.0,68282.8,68213.9,68033.3,68119.0,68164.8,68169.9,68223.9,68201.6,68309.4,68306.6],\"high\":[68555.4,68425.0,68437.7,68397.6,68468.1,68431.0,68373.6,68293.4,68258.3,68210.9,68344.1,68325.5,68219.2,68139.2,68186.8,68234.9,68248.2,68322.1,68400.0,68312.3],\"low\":[68320.4,68304.9,68318.9,68283.0,68330.9,68332.8,68232.1,68070.1,68070.9,68098.0,68101.0,68146.8,68029.3,68010.0,68077.8,68128.6,68153.3,68194.6,68179.6,68306.6],\"open\":[68438.5,68320.4,68379.7,68324.3,68340.7,68401.6,68336.4,68236.9,68077.7,68204.5,68101.0,68282.8,68213.9,68033.3,68119.0,68164.8,68169.9,68223.9,68201.6,68309.4],\"x\":[\"2024-10-18T22:00:00\",\"2024-10-18T23:00:00\",\"2024-10-19T00:00:00\",\"2024-10-19T01:00:00\",\"2024-10-19T02:00:00\",\"2024-10-19T03:00:00\",\"2024-10-19T04:00:00\",\"2024-10-19T05:00:00\",\"2024-10-19T06:00:00\",\"2024-10-19T07:00:00\",\"2024-10-19T08:00:00\",\"2024-10-19T09:00:00\",\"2024-10-19T10:00:00\",\"2024-10-19T11:00:00\",\"2024-10-19T12:00:00\",\"2024-10-19T13:00:00\",\"2024-10-19T14:00:00\",\"2024-10-19T15:00:00\",\"2024-10-19T16:00:00\",\"2024-10-19T17:00:00\"],\"type\":\"candlestick\",\"increasing\":{\"line\":{\"color\":\"white\"}},\"decreasing\":{\"line\":{\"color\":\"blue\"}}}],                        {\"template\":{\"data\":{\"histogram2dcontour\":[{\"type\":\"histogram2dcontour\",\"colorbar\":{\"outlinewidth\":0,\"ticks\":\"\"},\"colorscale\":[[0.0,\"#0d0887\"],[0.1111111111111111,\"#46039f\"],[0.2222222222222222,\"#7201a8\"],[0.3333333333333333,\"#9c179e\"],[0.4444444444444444,\"#bd3786\"],[0.5555555555555556,\"#d8576b\"],[0.6666666666666666,\"#ed7953\"],[0.7777777777777778,\"#fb9f3a\"],[0.8888888888888888,\"#fdca26\"],[1.0,\"#f0f921\"]]}],\"choropleth\":[{\"type\":\"choropleth\",\"colorbar\":{\"outlinewidth\":0,\"ticks\":\"\"}}],\"histogram2d\":[{\"type\":\"histogram2d\",\"colorbar\":{\"outlinewidth\":0,\"ticks\":\"\"},\"colorscale\":[[0.0,\"#0d0887\"],[0.1111111111111111,\"#46039f\"],[0.2222222222222222,\"#7201a8\"],[0.3333333333333333,\"#9c179e\"],[0.4444444444444444,\"#bd3786\"],[0.5555555555555556,\"#d8576b\"],[0.6666666666666666,\"#ed7953\"],[0.7777777777777778,\"#fb9f3a\"],[0.8888888888888888,\"#fdca26\"],[1.0,\"#f0f921\"]]}],\"heatmap\":[{\"type\":\"heatmap\",\"colorbar\":{\"outlinewidth\":0,\"ticks\":\"\"},\"colorscale\":[[0.0,\"#0d0887\"],[0.1111111111111111,\"#46039f\"],[0.2222222222222222,\"#7201a8\"],[0.3333333333333333,\"#9c179e\"],[0.4444444444444444,\"#bd3786\"],[0.5555555555555556,\"#d8576b\"],[0.6666666666666666,\"#ed7953\"],[0.7777777777777778,\"#fb9f3a\"],[0.8888888888888888,\"#fdca26\"],[1.0,\"#f0f921\"]]}],\"heatmapgl\":[{\"type\":\"heatmapgl\",\"colorbar\":{\"outlinewidth\":0,\"ticks\":\"\"},\"colorscale\":[[0.0,\"#0d0887\"],[0.1111111111111111,\"#46039f\"],[0.2222222222222222,\"#7201a8\"],[0.3333333333333333,\"#9c179e\"],[0.4444444444444444,\"#bd3786\"],[0.5555555555555556,\"#d8576b\"],[0.6666666666666666,\"#ed7953\"],[0.7777777777777778,\"#fb9f3a\"],[0.8888888888888888,\"#fdca26\"],[1.0,\"#f0f921\"]]}],\"contourcarpet\":[{\"type\":\"contourcarpet\",\"colorbar\":{\"outlinewidth\":0,\"ticks\":\"\"}}],\"contour\":[{\"type\":\"contour\",\"colorbar\":{\"outlinewidth\":0,\"ticks\":\"\"},\"colorscale\":[[0.0,\"#0d0887\"],[0.1111111111111111,\"#46039f\"],[0.2222222222222222,\"#7201a8\"],[0.3333333333333333,\"#9c179e\"],[0.4444444444444444,\"#bd3786\"],[0.5555555555555556,\"#d8576b\"],[0.6666666666666666,\"#ed7953\"],[0.7777777777777778,\"#fb9f3a\"],[0.8888888888888888,\"#fdca26\"],[1.0,\"#f0f921\"]]}],\"surface\":[{\"type\":\"surface\",\"colorbar\":{\"outlinewidth\":0,\"ticks\":\"\"},\"colorscale\":[[0.0,\"#0d0887\"],[0.1111111111111111,\"#46039f\"],[0.2222222222222222,\"#7201a8\"],[0.3333333333333333,\"#9c179e\"],[0.4444444444444444,\"#bd3786\"],[0.5555555555555556,\"#d8576b\"],[0.6666666666666666,\"#ed7953\"],[0.7777777777777778,\"#fb9f3a\"],[0.8888888888888888,\"#fdca26\"],[1.0,\"#f0f921\"]]}],\"mesh3d\":[{\"type\":\"mesh3d\",\"colorbar\":{\"outlinewidth\":0,\"ticks\":\"\"}}],\"scatter\":[{\"marker\":{\"line\":{\"color\":\"#283442\"}},\"type\":\"scatter\"}],\"parcoords\":[{\"type\":\"parcoords\",\"line\":{\"colorbar\":{\"outlinewidth\":0,\"ticks\":\"\"}}}],\"scatterpolargl\":[{\"type\":\"scatterpolargl\",\"marker\":{\"colorbar\":{\"outlinewidth\":0,\"ticks\":\"\"}}}],\"bar\":[{\"error_x\":{\"color\":\"#f2f5fa\"},\"error_y\":{\"color\":\"#f2f5fa\"},\"marker\":{\"line\":{\"color\":\"rgb(17,17,17)\",\"width\":0.5},\"pattern\":{\"fillmode\":\"overlay\",\"size\":10,\"solidity\":0.2}},\"type\":\"bar\"}],\"scattergeo\":[{\"type\":\"scattergeo\",\"marker\":{\"colorbar\":{\"outlinewidth\":0,\"ticks\":\"\"}}}],\"scatterpolar\":[{\"type\":\"scatterpolar\",\"marker\":{\"colorbar\":{\"outlinewidth\":0,\"ticks\":\"\"}}}],\"histogram\":[{\"marker\":{\"pattern\":{\"fillmode\":\"overlay\",\"size\":10,\"solidity\":0.2}},\"type\":\"histogram\"}],\"scattergl\":[{\"marker\":{\"line\":{\"color\":\"#283442\"}},\"type\":\"scattergl\"}],\"scatter3d\":[{\"type\":\"scatter3d\",\"line\":{\"colorbar\":{\"outlinewidth\":0,\"ticks\":\"\"}},\"marker\":{\"colorbar\":{\"outlinewidth\":0,\"ticks\":\"\"}}}],\"scattermapbox\":[{\"type\":\"scattermapbox\",\"marker\":{\"colorbar\":{\"outlinewidth\":0,\"ticks\":\"\"}}}],\"scatterternary\":[{\"type\":\"scatterternary\",\"marker\":{\"colorbar\":{\"outlinewidth\":0,\"ticks\":\"\"}}}],\"scattercarpet\":[{\"type\":\"scattercarpet\",\"marker\":{\"colorbar\":{\"outlinewidth\":0,\"ticks\":\"\"}}}],\"carpet\":[{\"aaxis\":{\"endlinecolor\":\"#A2B1C6\",\"gridcolor\":\"#506784\",\"linecolor\":\"#506784\",\"minorgridcolor\":\"#506784\",\"startlinecolor\":\"#A2B1C6\"},\"baxis\":{\"endlinecolor\":\"#A2B1C6\",\"gridcolor\":\"#506784\",\"linecolor\":\"#506784\",\"minorgridcolor\":\"#506784\",\"startlinecolor\":\"#A2B1C6\"},\"type\":\"carpet\"}],\"table\":[{\"cells\":{\"fill\":{\"color\":\"#506784\"},\"line\":{\"color\":\"rgb(17,17,17)\"}},\"header\":{\"fill\":{\"color\":\"#2a3f5f\"},\"line\":{\"color\":\"rgb(17,17,17)\"}},\"type\":\"table\"}],\"barpolar\":[{\"marker\":{\"line\":{\"color\":\"rgb(17,17,17)\",\"width\":0.5},\"pattern\":{\"fillmode\":\"overlay\",\"size\":10,\"solidity\":0.2}},\"type\":\"barpolar\"}],\"pie\":[{\"automargin\":true,\"type\":\"pie\"}]},\"layout\":{\"autotypenumbers\":\"strict\",\"colorway\":[\"#636efa\",\"#EF553B\",\"#00cc96\",\"#ab63fa\",\"#FFA15A\",\"#19d3f3\",\"#FF6692\",\"#B6E880\",\"#FF97FF\",\"#FECB52\"],\"font\":{\"color\":\"#f2f5fa\"},\"hovermode\":\"closest\",\"hoverlabel\":{\"align\":\"left\"},\"paper_bgcolor\":\"rgb(17,17,17)\",\"plot_bgcolor\":\"rgb(17,17,17)\",\"polar\":{\"bgcolor\":\"rgb(17,17,17)\",\"angularaxis\":{\"gridcolor\":\"#506784\",\"linecolor\":\"#506784\",\"ticks\":\"\"},\"radialaxis\":{\"gridcolor\":\"#506784\",\"linecolor\":\"#506784\",\"ticks\":\"\"}},\"ternary\":{\"bgcolor\":\"rgb(17,17,17)\",\"aaxis\":{\"gridcolor\":\"#506784\",\"linecolor\":\"#506784\",\"ticks\":\"\"},\"baxis\":{\"gridcolor\":\"#506784\",\"linecolor\":\"#506784\",\"ticks\":\"\"},\"caxis\":{\"gridcolor\":\"#506784\",\"linecolor\":\"#506784\",\"ticks\":\"\"}},\"coloraxis\":{\"colorbar\":{\"outlinewidth\":0,\"ticks\":\"\"}},\"colorscale\":{\"sequential\":[[0.0,\"#0d0887\"],[0.1111111111111111,\"#46039f\"],[0.2222222222222222,\"#7201a8\"],[0.3333333333333333,\"#9c179e\"],[0.4444444444444444,\"#bd3786\"],[0.5555555555555556,\"#d8576b\"],[0.6666666666666666,\"#ed7953\"],[0.7777777777777778,\"#fb9f3a\"],[0.8888888888888888,\"#fdca26\"],[1.0,\"#f0f921\"]],\"sequentialminus\":[[0.0,\"#0d0887\"],[0.1111111111111111,\"#46039f\"],[0.2222222222222222,\"#7201a8\"],[0.3333333333333333,\"#9c179e\"],[0.4444444444444444,\"#bd3786\"],[0.5555555555555556,\"#d8576b\"],[0.6666666666666666,\"#ed7953\"],[0.7777777777777778,\"#fb9f3a\"],[0.8888888888888888,\"#fdca26\"],[1.0,\"#f0f921\"]],\"diverging\":[[0,\"#8e0152\"],[0.1,\"#c51b7d\"],[0.2,\"#de77ae\"],[0.3,\"#f1b6da\"],[0.4,\"#fde0ef\"],[0.5,\"#f7f7f7\"],[0.6,\"#e6f5d0\"],[0.7,\"#b8e186\"],[0.8,\"#7fbc41\"],[0.9,\"#4d9221\"],[1,\"#276419\"]]},\"xaxis\":{\"gridcolor\":\"#283442\",\"linecolor\":\"#506784\",\"ticks\":\"\",\"title\":{\"standoff\":15},\"zerolinecolor\":\"#283442\",\"automargin\":true,\"zerolinewidth\":2},\"yaxis\":{\"gridcolor\":\"#283442\",\"linecolor\":\"#506784\",\"ticks\":\"\",\"title\":{\"standoff\":15},\"zerolinecolor\":\"#283442\",\"automargin\":true,\"zerolinewidth\":2},\"scene\":{\"xaxis\":{\"backgroundcolor\":\"rgb(17,17,17)\",\"gridcolor\":\"#506784\",\"linecolor\":\"#506784\",\"showbackground\":true,\"ticks\":\"\",\"zerolinecolor\":\"#C8D4E3\",\"gridwidth\":2},\"yaxis\":{\"backgroundcolor\":\"rgb(17,17,17)\",\"gridcolor\":\"#506784\",\"linecolor\":\"#506784\",\"showbackground\":true,\"ticks\":\"\",\"zerolinecolor\":\"#C8D4E3\",\"gridwidth\":2},\"zaxis\":{\"backgroundcolor\":\"rgb(17,17,17)\",\"gridcolor\":\"#506784\",\"linecolor\":\"#506784\",\"showbackground\":true,\"ticks\":\"\",\"zerolinecolor\":\"#C8D4E3\",\"gridwidth\":2}},\"shapedefaults\":{\"line\":{\"color\":\"#f2f5fa\"}},\"annotationdefaults\":{\"arrowcolor\":\"#f2f5fa\",\"arrowhead\":0,\"arrowwidth\":1},\"geo\":{\"bgcolor\":\"rgb(17,17,17)\",\"landcolor\":\"rgb(17,17,17)\",\"subunitcolor\":\"#506784\",\"showland\":true,\"showlakes\":true,\"lakecolor\":\"rgb(17,17,17)\"},\"title\":{\"x\":0.05},\"updatemenudefaults\":{\"bgcolor\":\"#506784\",\"borderwidth\":0},\"sliderdefaults\":{\"bgcolor\":\"#C8D4E3\",\"borderwidth\":1,\"bordercolor\":\"rgb(17,17,17)\",\"tickwidth\":0},\"mapbox\":{\"style\":\"dark\"}}},\"xaxis\":{\"rangeslider\":{\"visible\":false},\"title\":{\"text\":\"Date\"}},\"title\":{\"text\":\"1_hour\"},\"yaxis\":{\"title\":{\"text\":\"Price\"}},\"shapes\":[{\"label\":{\"font\":{\"size\":10},\"padding\":0,\"text\":\"68346.8\",\"textposition\":\"end\",\"xanchor\":\"right\",\"yanchor\":\"middle\"},\"line\":{\"color\":\"green\"},\"type\":\"line\",\"x0\":\"2024-10-19T01:40:00\",\"x1\":\"2024-10-19T17:00:00\",\"y0\":68346.8,\"y1\":68346.8},{\"label\":{\"font\":{\"size\":10},\"padding\":0,\"text\":\"68337.8\",\"textposition\":\"end\",\"xanchor\":\"right\",\"yanchor\":\"middle\"},\"line\":{\"color\":\"green\"},\"type\":\"line\",\"x0\":\"2024-10-19T01:40:00\",\"x1\":\"2024-10-19T17:00:00\",\"y0\":68337.8,\"y1\":68337.8},{\"label\":{\"font\":{\"size\":10},\"padding\":0,\"text\":\"68318.5\",\"textposition\":\"end\",\"xanchor\":\"right\",\"yanchor\":\"middle\"},\"line\":{\"color\":\"green\"},\"type\":\"line\",\"x0\":\"2024-10-19T01:45:00\",\"x1\":\"2024-10-19T17:00:00\",\"y0\":68318.5,\"y1\":68318.5},{\"label\":{\"font\":{\"size\":10},\"padding\":0,\"text\":\"68318.4\",\"textposition\":\"end\",\"xanchor\":\"right\",\"yanchor\":\"middle\"},\"line\":{\"color\":\"green\"},\"type\":\"line\",\"x0\":\"2024-10-19T01:45:00\",\"x1\":\"2024-10-19T17:00:00\",\"y0\":68318.4,\"y1\":68318.4},{\"label\":{\"font\":{\"size\":10},\"padding\":0,\"text\":\"68403.5\",\"textposition\":\"end\",\"xanchor\":\"right\",\"yanchor\":\"middle\"},\"line\":{\"color\":\"green\"},\"type\":\"line\",\"x0\":\"2024-10-19T02:55:00\",\"x1\":\"2024-10-19T17:00:00\",\"y0\":68403.5,\"y1\":68403.5},{\"label\":{\"font\":{\"size\":10},\"padding\":0,\"text\":\"68401.7\",\"textposition\":\"end\",\"xanchor\":\"right\",\"yanchor\":\"middle\"},\"line\":{\"color\":\"green\"},\"type\":\"line\",\"x0\":\"2024-10-19T02:55:00\",\"x1\":\"2024-10-19T17:00:00\",\"y0\":68401.7,\"y1\":68401.7},{\"label\":{\"font\":{\"size\":10},\"padding\":0,\"text\":\"68401.6\",\"textposition\":\"end\",\"xanchor\":\"right\",\"yanchor\":\"middle\"},\"line\":{\"color\":\"green\"},\"type\":\"line\",\"x0\":\"2024-10-19T03:00:00\",\"x1\":\"2024-10-19T17:00:00\",\"y0\":68401.6,\"y1\":68401.6},{\"label\":{\"font\":{\"size\":10},\"padding\":0,\"text\":\"68401.6\",\"textposition\":\"end\",\"xanchor\":\"right\",\"yanchor\":\"middle\"},\"line\":{\"color\":\"green\"},\"type\":\"line\",\"x0\":\"2024-10-19T03:00:00\",\"x1\":\"2024-10-19T17:00:00\",\"y0\":68401.6,\"y1\":68401.6},{\"label\":{\"font\":{\"size\":10},\"padding\":0,\"text\":\"68287.5\",\"textposition\":\"end\",\"xanchor\":\"right\",\"yanchor\":\"middle\"},\"line\":{\"color\":\"green\"},\"type\":\"line\",\"x0\":\"2024-10-19T04:45:00\",\"x1\":\"2024-10-19T17:00:00\",\"y0\":68287.5,\"y1\":68287.5},{\"label\":{\"font\":{\"size\":10},\"padding\":0,\"text\":\"68287.4\",\"textposition\":\"end\",\"xanchor\":\"right\",\"yanchor\":\"middle\"},\"line\":{\"color\":\"green\"},\"type\":\"line\",\"x0\":\"2024-10-19T04:45:00\",\"x1\":\"2024-10-19T17:00:00\",\"y0\":68287.4,\"y1\":68287.4},{\"label\":{\"font\":{\"size\":10},\"padding\":0,\"text\":\"68269.8\",\"textposition\":\"end\",\"xanchor\":\"right\",\"yanchor\":\"middle\"},\"line\":{\"color\":\"green\"},\"type\":\"line\",\"x0\":\"2024-10-19T04:50:00\",\"x1\":\"2024-10-19T17:00:00\",\"y0\":68269.8,\"y1\":68269.8},{\"label\":{\"font\":{\"size\":10},\"padding\":0,\"text\":\"68272.5\",\"textposition\":\"end\",\"xanchor\":\"right\",\"yanchor\":\"middle\"},\"line\":{\"color\":\"green\"},\"type\":\"line\",\"x0\":\"2024-10-19T04:50:00\",\"x1\":\"2024-10-19T17:00:00\",\"y0\":68272.5,\"y1\":68272.5},{\"label\":{\"font\":{\"size\":10},\"padding\":0,\"text\":\"68157.8\",\"textposition\":\"end\",\"xanchor\":\"right\",\"yanchor\":\"middle\"},\"line\":{\"color\":\"green\"},\"type\":\"line\",\"x0\":\"2024-10-19T05:50:00\",\"x1\":\"2024-10-19T17:00:00\",\"y0\":68157.8,\"y1\":68157.8},{\"label\":{\"font\":{\"size\":10},\"padding\":0,\"text\":\"68163.7\",\"textposition\":\"end\",\"xanchor\":\"right\",\"yanchor\":\"middle\"},\"line\":{\"color\":\"green\"},\"type\":\"line\",\"x0\":\"2024-10-19T05:50:00\",\"x1\":\"2024-10-19T17:00:00\",\"y0\":68163.7,\"y1\":68163.7},{\"label\":{\"font\":{\"size\":10},\"padding\":0,\"text\":\"68111.9\",\"textposition\":\"end\",\"xanchor\":\"right\",\"yanchor\":\"middle\"},\"line\":{\"color\":\"green\"},\"type\":\"line\",\"x0\":\"2024-10-19T05:55:00\",\"x1\":\"2024-10-19T17:00:00\",\"y0\":68111.9,\"y1\":68111.9},{\"label\":{\"font\":{\"size\":10},\"padding\":0,\"text\":\"68112.8\",\"textposition\":\"end\",\"xanchor\":\"right\",\"yanchor\":\"middle\"},\"line\":{\"color\":\"green\"},\"type\":\"line\",\"x0\":\"2024-10-19T05:55:00\",\"x1\":\"2024-10-19T17:00:00\",\"y0\":68112.8,\"y1\":68112.8},{\"label\":{\"font\":{\"size\":10},\"padding\":0,\"text\":\"68140.5\",\"textposition\":\"end\",\"xanchor\":\"right\",\"yanchor\":\"middle\"},\"line\":{\"color\":\"green\"},\"type\":\"line\",\"x0\":\"2024-10-19T07:50:00\",\"x1\":\"2024-10-19T17:00:00\",\"y0\":68140.5,\"y1\":68140.5},{\"label\":{\"font\":{\"size\":10},\"padding\":0,\"text\":\"68140.5\",\"textposition\":\"end\",\"xanchor\":\"right\",\"yanchor\":\"middle\"},\"line\":{\"color\":\"green\"},\"type\":\"line\",\"x0\":\"2024-10-19T07:50:00\",\"x1\":\"2024-10-19T17:00:00\",\"y0\":68140.5,\"y1\":68140.5},{\"label\":{\"font\":{\"size\":10},\"padding\":0,\"text\":\"68109.5\",\"textposition\":\"end\",\"xanchor\":\"right\",\"yanchor\":\"middle\"},\"line\":{\"color\":\"green\"},\"type\":\"line\",\"x0\":\"2024-10-19T07:55:00\",\"x1\":\"2024-10-19T17:00:00\",\"y0\":68109.5,\"y1\":68109.5},{\"label\":{\"font\":{\"size\":10},\"padding\":0,\"text\":\"68101.9\",\"textposition\":\"end\",\"xanchor\":\"right\",\"yanchor\":\"middle\"},\"line\":{\"color\":\"green\"},\"type\":\"line\",\"x0\":\"2024-10-19T07:55:00\",\"x1\":\"2024-10-19T17:00:00\",\"y0\":68101.9,\"y1\":68101.9},{\"label\":{\"font\":{\"size\":10},\"padding\":0,\"text\":\"68125.3\",\"textposition\":\"end\",\"xanchor\":\"right\",\"yanchor\":\"middle\"},\"line\":{\"color\":\"green\"},\"type\":\"line\",\"x0\":\"2024-10-19T10:20:00\",\"x1\":\"2024-10-19T17:00:00\",\"y0\":68125.3,\"y1\":68125.3},{\"label\":{\"font\":{\"size\":10},\"padding\":0,\"text\":\"68182.4\",\"textposition\":\"end\",\"xanchor\":\"right\",\"yanchor\":\"middle\"},\"line\":{\"color\":\"green\"},\"type\":\"line\",\"x0\":\"2024-10-19T10:20:00\",\"x1\":\"2024-10-19T17:00:00\",\"y0\":68182.4,\"y1\":68182.4},{\"label\":{\"font\":{\"size\":10},\"padding\":0,\"text\":\"68115.6\",\"textposition\":\"end\",\"xanchor\":\"right\",\"yanchor\":\"middle\"},\"line\":{\"color\":\"green\"},\"type\":\"line\",\"x0\":\"2024-10-19T10:25:00\",\"x1\":\"2024-10-19T17:00:00\",\"y0\":68115.6,\"y1\":68115.6},{\"label\":{\"font\":{\"size\":10},\"padding\":0,\"text\":\"68100.4\",\"textposition\":\"end\",\"xanchor\":\"right\",\"yanchor\":\"middle\"},\"line\":{\"color\":\"green\"},\"type\":\"line\",\"x0\":\"2024-10-19T10:25:00\",\"x1\":\"2024-10-19T17:00:00\",\"y0\":68100.4,\"y1\":68100.4},{\"label\":{\"font\":{\"size\":10},\"padding\":0,\"text\":\"68119.0\",\"textposition\":\"end\",\"xanchor\":\"right\",\"yanchor\":\"middle\"},\"line\":{\"color\":\"green\"},\"type\":\"line\",\"x0\":\"2024-10-19T12:00:00\",\"x1\":\"2024-10-19T17:00:00\",\"y0\":68119.0,\"y1\":68119.0},{\"label\":{\"font\":{\"size\":10},\"padding\":0,\"text\":\"68124.4\",\"textposition\":\"end\",\"xanchor\":\"right\",\"yanchor\":\"middle\"},\"line\":{\"color\":\"green\"},\"type\":\"line\",\"x0\":\"2024-10-19T12:00:00\",\"x1\":\"2024-10-19T17:00:00\",\"y0\":68124.4,\"y1\":68124.4},{\"label\":{\"font\":{\"size\":10},\"padding\":0,\"text\":\"68109.3\",\"textposition\":\"end\",\"xanchor\":\"right\",\"yanchor\":\"middle\"},\"line\":{\"color\":\"green\"},\"type\":\"line\",\"x0\":\"2024-10-19T12:05:00\",\"x1\":\"2024-10-19T17:00:00\",\"y0\":68109.3,\"y1\":68109.3},{\"label\":{\"font\":{\"size\":10},\"padding\":0,\"text\":\"68117.0\",\"textposition\":\"end\",\"xanchor\":\"right\",\"yanchor\":\"middle\"},\"line\":{\"color\":\"green\"},\"type\":\"line\",\"x0\":\"2024-10-19T12:05:00\",\"x1\":\"2024-10-19T17:00:00\",\"y0\":68117.0,\"y1\":68117.0},{\"label\":{\"font\":{\"size\":10},\"padding\":0,\"text\":\"68181.8\",\"textposition\":\"end\",\"xanchor\":\"right\",\"yanchor\":\"middle\"},\"line\":{\"color\":\"green\"},\"type\":\"line\",\"x0\":\"2024-10-19T12:55:00\",\"x1\":\"2024-10-19T17:00:00\",\"y0\":68181.8,\"y1\":68181.8},{\"label\":{\"font\":{\"size\":10},\"padding\":0,\"text\":\"68181.5\",\"textposition\":\"end\",\"xanchor\":\"right\",\"yanchor\":\"middle\"},\"line\":{\"color\":\"green\"},\"type\":\"line\",\"x0\":\"2024-10-19T12:55:00\",\"x1\":\"2024-10-19T17:00:00\",\"y0\":68181.5,\"y1\":68181.5},{\"label\":{\"font\":{\"size\":10},\"padding\":0,\"text\":\"68164.8\",\"textposition\":\"end\",\"xanchor\":\"right\",\"yanchor\":\"middle\"},\"line\":{\"color\":\"green\"},\"type\":\"line\",\"x0\":\"2024-10-19T13:00:00\",\"x1\":\"2024-10-19T17:00:00\",\"y0\":68164.8,\"y1\":68164.8},{\"label\":{\"font\":{\"size\":10},\"padding\":0,\"text\":\"68164.8\",\"textposition\":\"end\",\"xanchor\":\"right\",\"yanchor\":\"middle\"},\"line\":{\"color\":\"green\"},\"type\":\"line\",\"x0\":\"2024-10-19T13:00:00\",\"x1\":\"2024-10-19T17:00:00\",\"y0\":68164.8,\"y1\":68164.8},{\"label\":{\"font\":{\"size\":10},\"padding\":0,\"text\":\"68199.9\",\"textposition\":\"end\",\"xanchor\":\"right\",\"yanchor\":\"middle\"},\"line\":{\"color\":\"green\"},\"type\":\"line\",\"x0\":\"2024-10-19T13:40:00\",\"x1\":\"2024-10-19T17:00:00\",\"y0\":68199.9,\"y1\":68199.9},{\"label\":{\"font\":{\"size\":10},\"padding\":0,\"text\":\"68201.5\",\"textposition\":\"end\",\"xanchor\":\"right\",\"yanchor\":\"middle\"},\"line\":{\"color\":\"green\"},\"type\":\"line\",\"x0\":\"2024-10-19T13:40:00\",\"x1\":\"2024-10-19T17:00:00\",\"y0\":68201.5,\"y1\":68201.5},{\"label\":{\"font\":{\"size\":10},\"padding\":0,\"text\":\"68169.8\",\"textposition\":\"end\",\"xanchor\":\"right\",\"yanchor\":\"middle\"},\"line\":{\"color\":\"green\"},\"type\":\"line\",\"x0\":\"2024-10-19T13:45:00\",\"x1\":\"2024-10-19T17:00:00\",\"y0\":68169.8,\"y1\":68169.8},{\"label\":{\"font\":{\"size\":10},\"padding\":0,\"text\":\"68179.3\",\"textposition\":\"end\",\"xanchor\":\"right\",\"yanchor\":\"middle\"},\"line\":{\"color\":\"green\"},\"type\":\"line\",\"x0\":\"2024-10-19T13:45:00\",\"x1\":\"2024-10-19T17:00:00\",\"y0\":68179.3,\"y1\":68179.3},{\"label\":{\"font\":{\"size\":10},\"padding\":0,\"text\":\"68232.1\",\"textposition\":\"end\",\"xanchor\":\"right\",\"yanchor\":\"middle\"},\"line\":{\"color\":\"green\"},\"type\":\"line\",\"x0\":\"2024-10-19T14:50:00\",\"x1\":\"2024-10-19T17:00:00\",\"y0\":68232.1,\"y1\":68232.1},{\"label\":{\"font\":{\"size\":10},\"padding\":0,\"text\":\"68233.2\",\"textposition\":\"end\",\"xanchor\":\"right\",\"yanchor\":\"middle\"},\"line\":{\"color\":\"green\"},\"type\":\"line\",\"x0\":\"2024-10-19T14:50:00\",\"x1\":\"2024-10-19T17:00:00\",\"y0\":68233.2,\"y1\":68233.2},{\"label\":{\"font\":{\"size\":10},\"padding\":0,\"text\":\"68237.2\",\"textposition\":\"end\",\"xanchor\":\"right\",\"yanchor\":\"middle\"},\"line\":{\"color\":\"green\"},\"type\":\"line\",\"x0\":\"2024-10-19T14:55:00\",\"x1\":\"2024-10-19T17:00:00\",\"y0\":68237.2,\"y1\":68237.2},{\"label\":{\"font\":{\"size\":10},\"padding\":0,\"text\":\"68230.2\",\"textposition\":\"end\",\"xanchor\":\"right\",\"yanchor\":\"middle\"},\"line\":{\"color\":\"green\"},\"type\":\"line\",\"x0\":\"2024-10-19T14:55:00\",\"x1\":\"2024-10-19T17:00:00\",\"y0\":68230.2,\"y1\":68230.2},{\"label\":{\"font\":{\"size\":10},\"padding\":0,\"text\":\"68346.8\",\"textposition\":\"end\",\"xanchor\":\"right\",\"yanchor\":\"middle\"},\"line\":{\"color\":\"green\"},\"type\":\"line\",\"x0\":\"2024-10-19T01:40:00\",\"x1\":\"2024-10-19T17:00:00\",\"y0\":68346.8,\"y1\":68346.8},{\"label\":{\"font\":{\"size\":10},\"padding\":0,\"text\":\"68337.8\",\"textposition\":\"end\",\"xanchor\":\"right\",\"yanchor\":\"middle\"},\"line\":{\"color\":\"green\"},\"type\":\"line\",\"x0\":\"2024-10-19T01:40:00\",\"x1\":\"2024-10-19T17:00:00\",\"y0\":68337.8,\"y1\":68337.8},{\"label\":{\"font\":{\"size\":10},\"padding\":0,\"text\":\"68318.5\",\"textposition\":\"end\",\"xanchor\":\"right\",\"yanchor\":\"middle\"},\"line\":{\"color\":\"green\"},\"type\":\"line\",\"x0\":\"2024-10-19T01:45:00\",\"x1\":\"2024-10-19T17:00:00\",\"y0\":68318.5,\"y1\":68318.5},{\"label\":{\"font\":{\"size\":10},\"padding\":0,\"text\":\"68318.4\",\"textposition\":\"end\",\"xanchor\":\"right\",\"yanchor\":\"middle\"},\"line\":{\"color\":\"green\"},\"type\":\"line\",\"x0\":\"2024-10-19T01:45:00\",\"x1\":\"2024-10-19T17:00:00\",\"y0\":68318.4,\"y1\":68318.4},{\"label\":{\"font\":{\"size\":10},\"padding\":0,\"text\":\"68403.5\",\"textposition\":\"end\",\"xanchor\":\"right\",\"yanchor\":\"middle\"},\"line\":{\"color\":\"green\"},\"type\":\"line\",\"x0\":\"2024-10-19T02:55:00\",\"x1\":\"2024-10-19T17:00:00\",\"y0\":68403.5,\"y1\":68403.5},{\"label\":{\"font\":{\"size\":10},\"padding\":0,\"text\":\"68401.7\",\"textposition\":\"end\",\"xanchor\":\"right\",\"yanchor\":\"middle\"},\"line\":{\"color\":\"green\"},\"type\":\"line\",\"x0\":\"2024-10-19T02:55:00\",\"x1\":\"2024-10-19T17:00:00\",\"y0\":68401.7,\"y1\":68401.7},{\"label\":{\"font\":{\"size\":10},\"padding\":0,\"text\":\"68401.6\",\"textposition\":\"end\",\"xanchor\":\"right\",\"yanchor\":\"middle\"},\"line\":{\"color\":\"green\"},\"type\":\"line\",\"x0\":\"2024-10-19T03:00:00\",\"x1\":\"2024-10-19T17:00:00\",\"y0\":68401.6,\"y1\":68401.6},{\"label\":{\"font\":{\"size\":10},\"padding\":0,\"text\":\"68401.6\",\"textposition\":\"end\",\"xanchor\":\"right\",\"yanchor\":\"middle\"},\"line\":{\"color\":\"green\"},\"type\":\"line\",\"x0\":\"2024-10-19T03:00:00\",\"x1\":\"2024-10-19T17:00:00\",\"y0\":68401.6,\"y1\":68401.6},{\"label\":{\"font\":{\"size\":10},\"padding\":0,\"text\":\"68287.5\",\"textposition\":\"end\",\"xanchor\":\"right\",\"yanchor\":\"middle\"},\"line\":{\"color\":\"green\"},\"type\":\"line\",\"x0\":\"2024-10-19T04:45:00\",\"x1\":\"2024-10-19T17:00:00\",\"y0\":68287.5,\"y1\":68287.5},{\"label\":{\"font\":{\"size\":10},\"padding\":0,\"text\":\"68287.4\",\"textposition\":\"end\",\"xanchor\":\"right\",\"yanchor\":\"middle\"},\"line\":{\"color\":\"green\"},\"type\":\"line\",\"x0\":\"2024-10-19T04:45:00\",\"x1\":\"2024-10-19T17:00:00\",\"y0\":68287.4,\"y1\":68287.4},{\"label\":{\"font\":{\"size\":10},\"padding\":0,\"text\":\"68269.8\",\"textposition\":\"end\",\"xanchor\":\"right\",\"yanchor\":\"middle\"},\"line\":{\"color\":\"green\"},\"type\":\"line\",\"x0\":\"2024-10-19T04:50:00\",\"x1\":\"2024-10-19T17:00:00\",\"y0\":68269.8,\"y1\":68269.8},{\"label\":{\"font\":{\"size\":10},\"padding\":0,\"text\":\"68272.5\",\"textposition\":\"end\",\"xanchor\":\"right\",\"yanchor\":\"middle\"},\"line\":{\"color\":\"green\"},\"type\":\"line\",\"x0\":\"2024-10-19T04:50:00\",\"x1\":\"2024-10-19T17:00:00\",\"y0\":68272.5,\"y1\":68272.5},{\"label\":{\"font\":{\"size\":10},\"padding\":0,\"text\":\"68157.8\",\"textposition\":\"end\",\"xanchor\":\"right\",\"yanchor\":\"middle\"},\"line\":{\"color\":\"green\"},\"type\":\"line\",\"x0\":\"2024-10-19T05:50:00\",\"x1\":\"2024-10-19T17:00:00\",\"y0\":68157.8,\"y1\":68157.8},{\"label\":{\"font\":{\"size\":10},\"padding\":0,\"text\":\"68163.7\",\"textposition\":\"end\",\"xanchor\":\"right\",\"yanchor\":\"middle\"},\"line\":{\"color\":\"green\"},\"type\":\"line\",\"x0\":\"2024-10-19T05:50:00\",\"x1\":\"2024-10-19T17:00:00\",\"y0\":68163.7,\"y1\":68163.7},{\"label\":{\"font\":{\"size\":10},\"padding\":0,\"text\":\"68111.9\",\"textposition\":\"end\",\"xanchor\":\"right\",\"yanchor\":\"middle\"},\"line\":{\"color\":\"green\"},\"type\":\"line\",\"x0\":\"2024-10-19T05:55:00\",\"x1\":\"2024-10-19T17:00:00\",\"y0\":68111.9,\"y1\":68111.9},{\"label\":{\"font\":{\"size\":10},\"padding\":0,\"text\":\"68112.8\",\"textposition\":\"end\",\"xanchor\":\"right\",\"yanchor\":\"middle\"},\"line\":{\"color\":\"green\"},\"type\":\"line\",\"x0\":\"2024-10-19T05:55:00\",\"x1\":\"2024-10-19T17:00:00\",\"y0\":68112.8,\"y1\":68112.8},{\"label\":{\"font\":{\"size\":10},\"padding\":0,\"text\":\"68140.5\",\"textposition\":\"end\",\"xanchor\":\"right\",\"yanchor\":\"middle\"},\"line\":{\"color\":\"green\"},\"type\":\"line\",\"x0\":\"2024-10-19T07:50:00\",\"x1\":\"2024-10-19T17:00:00\",\"y0\":68140.5,\"y1\":68140.5},{\"label\":{\"font\":{\"size\":10},\"padding\":0,\"text\":\"68140.5\",\"textposition\":\"end\",\"xanchor\":\"right\",\"yanchor\":\"middle\"},\"line\":{\"color\":\"green\"},\"type\":\"line\",\"x0\":\"2024-10-19T07:50:00\",\"x1\":\"2024-10-19T17:00:00\",\"y0\":68140.5,\"y1\":68140.5},{\"label\":{\"font\":{\"size\":10},\"padding\":0,\"text\":\"68109.5\",\"textposition\":\"end\",\"xanchor\":\"right\",\"yanchor\":\"middle\"},\"line\":{\"color\":\"green\"},\"type\":\"line\",\"x0\":\"2024-10-19T07:55:00\",\"x1\":\"2024-10-19T17:00:00\",\"y0\":68109.5,\"y1\":68109.5},{\"label\":{\"font\":{\"size\":10},\"padding\":0,\"text\":\"68101.9\",\"textposition\":\"end\",\"xanchor\":\"right\",\"yanchor\":\"middle\"},\"line\":{\"color\":\"green\"},\"type\":\"line\",\"x0\":\"2024-10-19T07:55:00\",\"x1\":\"2024-10-19T17:00:00\",\"y0\":68101.9,\"y1\":68101.9},{\"label\":{\"font\":{\"size\":10},\"padding\":0,\"text\":\"68125.3\",\"textposition\":\"end\",\"xanchor\":\"right\",\"yanchor\":\"middle\"},\"line\":{\"color\":\"green\"},\"type\":\"line\",\"x0\":\"2024-10-19T10:20:00\",\"x1\":\"2024-10-19T17:00:00\",\"y0\":68125.3,\"y1\":68125.3},{\"label\":{\"font\":{\"size\":10},\"padding\":0,\"text\":\"68182.4\",\"textposition\":\"end\",\"xanchor\":\"right\",\"yanchor\":\"middle\"},\"line\":{\"color\":\"green\"},\"type\":\"line\",\"x0\":\"2024-10-19T10:20:00\",\"x1\":\"2024-10-19T17:00:00\",\"y0\":68182.4,\"y1\":68182.4},{\"label\":{\"font\":{\"size\":10},\"padding\":0,\"text\":\"68115.6\",\"textposition\":\"end\",\"xanchor\":\"right\",\"yanchor\":\"middle\"},\"line\":{\"color\":\"green\"},\"type\":\"line\",\"x0\":\"2024-10-19T10:25:00\",\"x1\":\"2024-10-19T17:00:00\",\"y0\":68115.6,\"y1\":68115.6},{\"label\":{\"font\":{\"size\":10},\"padding\":0,\"text\":\"68100.4\",\"textposition\":\"end\",\"xanchor\":\"right\",\"yanchor\":\"middle\"},\"line\":{\"color\":\"green\"},\"type\":\"line\",\"x0\":\"2024-10-19T10:25:00\",\"x1\":\"2024-10-19T17:00:00\",\"y0\":68100.4,\"y1\":68100.4},{\"label\":{\"font\":{\"size\":10},\"padding\":0,\"text\":\"68119.0\",\"textposition\":\"end\",\"xanchor\":\"right\",\"yanchor\":\"middle\"},\"line\":{\"color\":\"green\"},\"type\":\"line\",\"x0\":\"2024-10-19T12:00:00\",\"x1\":\"2024-10-19T17:00:00\",\"y0\":68119.0,\"y1\":68119.0},{\"label\":{\"font\":{\"size\":10},\"padding\":0,\"text\":\"68124.4\",\"textposition\":\"end\",\"xanchor\":\"right\",\"yanchor\":\"middle\"},\"line\":{\"color\":\"green\"},\"type\":\"line\",\"x0\":\"2024-10-19T12:00:00\",\"x1\":\"2024-10-19T17:00:00\",\"y0\":68124.4,\"y1\":68124.4},{\"label\":{\"font\":{\"size\":10},\"padding\":0,\"text\":\"68109.3\",\"textposition\":\"end\",\"xanchor\":\"right\",\"yanchor\":\"middle\"},\"line\":{\"color\":\"green\"},\"type\":\"line\",\"x0\":\"2024-10-19T12:05:00\",\"x1\":\"2024-10-19T17:00:00\",\"y0\":68109.3,\"y1\":68109.3},{\"label\":{\"font\":{\"size\":10},\"padding\":0,\"text\":\"68117.0\",\"textposition\":\"end\",\"xanchor\":\"right\",\"yanchor\":\"middle\"},\"line\":{\"color\":\"green\"},\"type\":\"line\",\"x0\":\"2024-10-19T12:05:00\",\"x1\":\"2024-10-19T17:00:00\",\"y0\":68117.0,\"y1\":68117.0},{\"label\":{\"font\":{\"size\":10},\"padding\":0,\"text\":\"68181.8\",\"textposition\":\"end\",\"xanchor\":\"right\",\"yanchor\":\"middle\"},\"line\":{\"color\":\"green\"},\"type\":\"line\",\"x0\":\"2024-10-19T12:55:00\",\"x1\":\"2024-10-19T17:00:00\",\"y0\":68181.8,\"y1\":68181.8},{\"label\":{\"font\":{\"size\":10},\"padding\":0,\"text\":\"68181.5\",\"textposition\":\"end\",\"xanchor\":\"right\",\"yanchor\":\"middle\"},\"line\":{\"color\":\"green\"},\"type\":\"line\",\"x0\":\"2024-10-19T12:55:00\",\"x1\":\"2024-10-19T17:00:00\",\"y0\":68181.5,\"y1\":68181.5},{\"label\":{\"font\":{\"size\":10},\"padding\":0,\"text\":\"68164.8\",\"textposition\":\"end\",\"xanchor\":\"right\",\"yanchor\":\"middle\"},\"line\":{\"color\":\"green\"},\"type\":\"line\",\"x0\":\"2024-10-19T13:00:00\",\"x1\":\"2024-10-19T17:00:00\",\"y0\":68164.8,\"y1\":68164.8},{\"label\":{\"font\":{\"size\":10},\"padding\":0,\"text\":\"68164.8\",\"textposition\":\"end\",\"xanchor\":\"right\",\"yanchor\":\"middle\"},\"line\":{\"color\":\"green\"},\"type\":\"line\",\"x0\":\"2024-10-19T13:00:00\",\"x1\":\"2024-10-19T17:00:00\",\"y0\":68164.8,\"y1\":68164.8},{\"label\":{\"font\":{\"size\":10},\"padding\":0,\"text\":\"68199.9\",\"textposition\":\"end\",\"xanchor\":\"right\",\"yanchor\":\"middle\"},\"line\":{\"color\":\"green\"},\"type\":\"line\",\"x0\":\"2024-10-19T13:40:00\",\"x1\":\"2024-10-19T17:00:00\",\"y0\":68199.9,\"y1\":68199.9},{\"label\":{\"font\":{\"size\":10},\"padding\":0,\"text\":\"68201.5\",\"textposition\":\"end\",\"xanchor\":\"right\",\"yanchor\":\"middle\"},\"line\":{\"color\":\"green\"},\"type\":\"line\",\"x0\":\"2024-10-19T13:40:00\",\"x1\":\"2024-10-19T17:00:00\",\"y0\":68201.5,\"y1\":68201.5},{\"label\":{\"font\":{\"size\":10},\"padding\":0,\"text\":\"68169.8\",\"textposition\":\"end\",\"xanchor\":\"right\",\"yanchor\":\"middle\"},\"line\":{\"color\":\"green\"},\"type\":\"line\",\"x0\":\"2024-10-19T13:45:00\",\"x1\":\"2024-10-19T17:00:00\",\"y0\":68169.8,\"y1\":68169.8},{\"label\":{\"font\":{\"size\":10},\"padding\":0,\"text\":\"68179.3\",\"textposition\":\"end\",\"xanchor\":\"right\",\"yanchor\":\"middle\"},\"line\":{\"color\":\"green\"},\"type\":\"line\",\"x0\":\"2024-10-19T13:45:00\",\"x1\":\"2024-10-19T17:00:00\",\"y0\":68179.3,\"y1\":68179.3},{\"label\":{\"font\":{\"size\":10},\"padding\":0,\"text\":\"68232.1\",\"textposition\":\"end\",\"xanchor\":\"right\",\"yanchor\":\"middle\"},\"line\":{\"color\":\"green\"},\"type\":\"line\",\"x0\":\"2024-10-19T14:50:00\",\"x1\":\"2024-10-19T17:00:00\",\"y0\":68232.1,\"y1\":68232.1},{\"label\":{\"font\":{\"size\":10},\"padding\":0,\"text\":\"68233.2\",\"textposition\":\"end\",\"xanchor\":\"right\",\"yanchor\":\"middle\"},\"line\":{\"color\":\"green\"},\"type\":\"line\",\"x0\":\"2024-10-19T14:50:00\",\"x1\":\"2024-10-19T17:00:00\",\"y0\":68233.2,\"y1\":68233.2},{\"label\":{\"font\":{\"size\":10},\"padding\":0,\"text\":\"68237.2\",\"textposition\":\"end\",\"xanchor\":\"right\",\"yanchor\":\"middle\"},\"line\":{\"color\":\"green\"},\"type\":\"line\",\"x0\":\"2024-10-19T14:55:00\",\"x1\":\"2024-10-19T17:00:00\",\"y0\":68237.2,\"y1\":68237.2},{\"label\":{\"font\":{\"size\":10},\"padding\":0,\"text\":\"68230.2\",\"textposition\":\"end\",\"xanchor\":\"right\",\"yanchor\":\"middle\"},\"line\":{\"color\":\"green\"},\"type\":\"line\",\"x0\":\"2024-10-19T14:55:00\",\"x1\":\"2024-10-19T17:00:00\",\"y0\":68230.2,\"y1\":68230.2}]},                        {\"responsive\": true}                    ).then(function(){\n",
       "                            \n",
       "var gd = document.getElementById('d16af066-0cc5-4d03-b166-1eca201c1f99');\n",
       "var x = new MutationObserver(function (mutations, observer) {{\n",
       "        var display = window.getComputedStyle(gd).display;\n",
       "        if (!display || display === 'none') {{\n",
       "            console.log([gd, 'removed!']);\n",
       "            Plotly.purge(gd);\n",
       "            observer.disconnect();\n",
       "        }}\n",
       "}});\n",
       "\n",
       "// Listen for the removal of the full notebook cells\n",
       "var notebookContainer = gd.closest('#notebook-container');\n",
       "if (notebookContainer) {{\n",
       "    x.observe(notebookContainer, {childList: true});\n",
       "}}\n",
       "\n",
       "// Listen for the clearing of the current output cell\n",
       "var outputEl = gd.closest('.output');\n",
       "if (outputEl) {{\n",
       "    x.observe(outputEl, {childList: true});\n",
       "}}\n",
       "\n",
       "                        })                };                });            </script>        </div>"
      ]
     },
     "metadata": {},
     "output_type": "display_data"
    }
   ],
   "execution_count": 173
  }
 ],
 "metadata": {
  "kernelspec": {
   "display_name": "Python 3",
   "language": "python",
   "name": "python3"
  },
  "language_info": {
   "codemirror_mode": {
    "name": "ipython",
    "version": 2
   },
   "file_extension": ".py",
   "mimetype": "text/x-python",
   "name": "python",
   "nbconvert_exporter": "python",
   "pygments_lexer": "ipython2",
   "version": "2.7.6"
  }
 },
 "nbformat": 4,
 "nbformat_minor": 5
}
