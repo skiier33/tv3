{
 "cells": [
  {
   "metadata": {
    "ExecuteTime": {
     "end_time": "2024-10-22T06:56:36.660307Z",
     "start_time": "2024-10-22T06:56:36.645962Z"
    }
   },
   "cell_type": "code",
   "source": [
    "\n",
    "import pathlib\n",
    "p =  pathlib.WindowsPath(r'C:\\Users\\akrug\\PycharmProjects\\pythonProject2\\data').absolute()"
   ],
   "id": "51d479a65cc39dd",
   "outputs": [],
   "execution_count": 9
  },
  {
   "metadata": {
    "ExecuteTime": {
     "end_time": "2024-10-22T06:58:04.990395Z",
     "start_time": "2024-10-22T06:58:04.976689Z"
    }
   },
   "cell_type": "code",
   "source": [
    "\n",
    "list(p.glob(\"*.csv\"))"
   ],
   "id": "18bcd3a6ed3776c1",
   "outputs": [
    {
     "data": {
      "text/plain": [
       "[WindowsPath('C:/Users/akrug/PycharmProjects/pythonProject2/data/ZOOMEX_BTCUSDT.P, 15_38661.csv'),\n",
       " WindowsPath('C:/Users/akrug/PycharmProjects/pythonProject2/data/ZOOMEX_BTCUSDT.P, 1D_60a25.csv'),\n",
       " WindowsPath('C:/Users/akrug/PycharmProjects/pythonProject2/data/ZOOMEX_BTCUSDT.P, 1W_5375d.csv'),\n",
       " WindowsPath('C:/Users/akrug/PycharmProjects/pythonProject2/data/ZOOMEX_BTCUSDT.P, 1_e8683.csv'),\n",
       " WindowsPath('C:/Users/akrug/PycharmProjects/pythonProject2/data/ZOOMEX_BTCUSDT.P, 240_cd5aa.csv'),\n",
       " WindowsPath('C:/Users/akrug/PycharmProjects/pythonProject2/data/ZOOMEX_BTCUSDT.P, 3_78d2a.csv'),\n",
       " WindowsPath('C:/Users/akrug/PycharmProjects/pythonProject2/data/ZOOMEX_BTCUSDT.P, 5_8aa4f.csv'),\n",
       " WindowsPath('C:/Users/akrug/PycharmProjects/pythonProject2/data/ZOOMEX_BTCUSDT.P, 60_0461d.csv')]"
      ]
     },
     "execution_count": 16,
     "metadata": {},
     "output_type": "execute_result"
    }
   ],
   "execution_count": 16
  },
  {
   "metadata": {},
   "cell_type": "code",
   "outputs": [],
   "execution_count": null,
   "source": [
    "        files = list(csv_folder.glob('*.csv'))\n",
    "\n",
    "        for file in files:\n",
    "            name = file.parts[-1].split(' ')[-1].split('_')[0]\n",
    "            __setattr__(f'__{_value: str(name)}', read_csv(file))\n"
   ],
   "id": "877ec7cc73d7ee74"
  },
  {
   "cell_type": "code",
   "id": "6d916acd1df59df0",
   "metadata": {
    "ExecuteTime": {
     "end_time": "2024-10-22T06:42:05.960814Z",
     "start_time": "2024-10-22T06:42:04.733122Z"
    }
   },
   "source": [
    "from typing import List, Any\n",
    "import  pathlib\n",
    "import pandas as pd\n",
    "import numpy as np\n",
    "\n",
    "#################################################\n",
    "#################################################\n",
    "\n",
    "\n",
    "p = pathlib.WindowsPath(r'C:/Users/akrug/PycharmProjects/pythonProject2/data').absolute()"
   ],
   "outputs": [],
   "execution_count": 2
  },
  {
   "metadata": {
    "ExecuteTime": {
     "end_time": "2024-10-22T06:43:10.687769Z",
     "start_time": "2024-10-22T06:43:10.660002Z"
    }
   },
   "cell_type": "code",
   "source": [
    "\n",
    "\n",
    "class CsvReader:\n",
    "    \"\"\"Make pathlib.Path object from csv folder string\n",
    "    sets attribute = list of absolute paths to csvs\n",
    "    sets attribute of name:df for each csv\n",
    "    \"\"\"\n",
    "\n",
    "\n",
    "    def __init__(self, csv_folder: str)->None:\n",
    "        \"\"\"Sets attributes of a list of files and file:dataframe\n",
    "        param: csv_folder = path to folder of timeframe csv files\n",
    "        \"\"\"\n",
    "        csv_folder = pathlib.WindowsPath(csv_folder).absolute()\n",
    "        self.files = list(self.csv_folder.glob('*.csv'))\n",
    "\n",
    "        for file in self.files:\n",
    "            name = file.parts[-1].split(' ')[-1].split('_')[0]\n",
    "            self.__setattr__(f'__{_value: str(name)}', self.read_csv(file))\n",
    "\n",
    "#################################################\n",
    "#################################################"
   ],
   "id": "dbffcaf0f446112",
   "outputs": [],
   "execution_count": 5
  },
  {
   "metadata": {
    "ExecuteTime": {
     "end_time": "2024-10-22T06:48:19.771602Z",
     "start_time": "2024-10-22T06:44:29.981249Z"
    }
   },
   "cell_type": "code",
   "source": "r = CsvReader(p",
   "id": "f5c5c181496e5ed",
   "outputs": [
    {
     "ename": "KeyboardInterrupt",
     "evalue": "",
     "output_type": "error",
     "traceback": [
      "\u001B[1;31m---------------------------------------------------------------------------\u001B[0m",
      "\u001B[1;31mKeyboardInterrupt\u001B[0m                         Traceback (most recent call last)",
      "Cell \u001B[1;32mIn[7], line 1\u001B[0m\n\u001B[1;32m----> 1\u001B[0m r \u001B[38;5;241m=\u001B[39m \u001B[43mCsvReader\u001B[49m\u001B[43m(\u001B[49m\u001B[43mp\u001B[49m\u001B[43m)\u001B[49m\n",
      "Cell \u001B[1;32mIn[5], line 14\u001B[0m, in \u001B[0;36mCsvReader.__init__\u001B[1;34m(self, csv_folder)\u001B[0m\n\u001B[0;32m     10\u001B[0m \u001B[38;5;28;01mdef\u001B[39;00m \u001B[38;5;21m__init__\u001B[39m(\u001B[38;5;28mself\u001B[39m, csv_folder: \u001B[38;5;28mstr\u001B[39m)\u001B[38;5;241m-\u001B[39m\u001B[38;5;241m>\u001B[39m\u001B[38;5;28;01mNone\u001B[39;00m:\n\u001B[0;32m     11\u001B[0m \u001B[38;5;250m    \u001B[39m\u001B[38;5;124;03m\"\"\"Sets attributes of a list of files and file:dataframe\u001B[39;00m\n\u001B[0;32m     12\u001B[0m \u001B[38;5;124;03m    param: csv_folder = path to folder of timeframe csv files\u001B[39;00m\n\u001B[0;32m     13\u001B[0m \u001B[38;5;124;03m    \"\"\"\u001B[39;00m\n\u001B[1;32m---> 14\u001B[0m     \u001B[38;5;28mself\u001B[39m\u001B[38;5;241m.\u001B[39mcsv_folder \u001B[38;5;241m=\u001B[39m \u001B[43mpathlib\u001B[49m\u001B[38;5;241m.\u001B[39mWindowsPath(csv_folder)\u001B[38;5;241m.\u001B[39mabsolute()\n\u001B[0;32m     15\u001B[0m     \u001B[38;5;28mself\u001B[39m\u001B[38;5;241m.\u001B[39mfiles \u001B[38;5;241m=\u001B[39m \u001B[38;5;28mlist\u001B[39m(\u001B[38;5;28mself\u001B[39m\u001B[38;5;241m.\u001B[39mcsv_folder\u001B[38;5;241m.\u001B[39mglob(\u001B[38;5;124m'\u001B[39m\u001B[38;5;124m*.csv\u001B[39m\u001B[38;5;124m'\u001B[39m))\n\u001B[0;32m     17\u001B[0m     \u001B[38;5;28;01mfor\u001B[39;00m file \u001B[38;5;129;01min\u001B[39;00m \u001B[38;5;28mself\u001B[39m\u001B[38;5;241m.\u001B[39mfiles:\n",
      "File \u001B[1;32m_pydevd_bundle\\\\pydevd_cython_win32_312_64.pyx:1187\u001B[0m, in \u001B[0;36m_pydevd_bundle.pydevd_cython_win32_312_64.SafeCallWrapper.__call__\u001B[1;34m()\u001B[0m\n",
      "File \u001B[1;32m_pydevd_bundle\\\\pydevd_cython_win32_312_64.pyx:627\u001B[0m, in \u001B[0;36m_pydevd_bundle.pydevd_cython_win32_312_64.PyDBFrame.trace_dispatch\u001B[1;34m()\u001B[0m\n",
      "File \u001B[1;32m_pydevd_bundle\\\\pydevd_cython_win32_312_64.pyx:937\u001B[0m, in \u001B[0;36m_pydevd_bundle.pydevd_cython_win32_312_64.PyDBFrame.trace_dispatch\u001B[1;34m()\u001B[0m\n",
      "File \u001B[1;32m_pydevd_bundle\\\\pydevd_cython_win32_312_64.pyx:928\u001B[0m, in \u001B[0;36m_pydevd_bundle.pydevd_cython_win32_312_64.PyDBFrame.trace_dispatch\u001B[1;34m()\u001B[0m\n",
      "File \u001B[1;32m_pydevd_bundle\\\\pydevd_cython_win32_312_64.pyx:585\u001B[0m, in \u001B[0;36m_pydevd_bundle.pydevd_cython_win32_312_64.PyDBFrame.do_wait_suspend\u001B[1;34m()\u001B[0m\n",
      "File \u001B[1;32mC:\\Program Files\\JetBrains\\PyCharm 2024.2.3\\plugins\\python-ce\\helpers\\pydev\\pydevd.py:1220\u001B[0m, in \u001B[0;36mPyDB.do_wait_suspend\u001B[1;34m(self, thread, frame, event, arg, send_suspend_message, is_unhandled_exception)\u001B[0m\n\u001B[0;32m   1217\u001B[0m         from_this_thread\u001B[38;5;241m.\u001B[39mappend(frame_id)\n\u001B[0;32m   1219\u001B[0m \u001B[38;5;28;01mwith\u001B[39;00m \u001B[38;5;28mself\u001B[39m\u001B[38;5;241m.\u001B[39m_threads_suspended_single_notification\u001B[38;5;241m.\u001B[39mnotify_thread_suspended(thread_id, stop_reason):\n\u001B[1;32m-> 1220\u001B[0m     \u001B[38;5;28;43mself\u001B[39;49m\u001B[38;5;241;43m.\u001B[39;49m\u001B[43m_do_wait_suspend\u001B[49m\u001B[43m(\u001B[49m\u001B[43mthread\u001B[49m\u001B[43m,\u001B[49m\u001B[43m \u001B[49m\u001B[43mframe\u001B[49m\u001B[43m,\u001B[49m\u001B[43m \u001B[49m\u001B[43mevent\u001B[49m\u001B[43m,\u001B[49m\u001B[43m \u001B[49m\u001B[43marg\u001B[49m\u001B[43m,\u001B[49m\u001B[43m \u001B[49m\u001B[43msuspend_type\u001B[49m\u001B[43m,\u001B[49m\u001B[43m \u001B[49m\u001B[43mfrom_this_thread\u001B[49m\u001B[43m)\u001B[49m\n",
      "File \u001B[1;32mC:\\Program Files\\JetBrains\\PyCharm 2024.2.3\\plugins\\python-ce\\helpers\\pydev\\pydevd.py:1235\u001B[0m, in \u001B[0;36mPyDB._do_wait_suspend\u001B[1;34m(self, thread, frame, event, arg, suspend_type, from_this_thread)\u001B[0m\n\u001B[0;32m   1232\u001B[0m             \u001B[38;5;28mself\u001B[39m\u001B[38;5;241m.\u001B[39m_call_mpl_hook()\n\u001B[0;32m   1234\u001B[0m         \u001B[38;5;28mself\u001B[39m\u001B[38;5;241m.\u001B[39mprocess_internal_commands()\n\u001B[1;32m-> 1235\u001B[0m         \u001B[43mtime\u001B[49m\u001B[38;5;241;43m.\u001B[39;49m\u001B[43msleep\u001B[49m\u001B[43m(\u001B[49m\u001B[38;5;241;43m0.01\u001B[39;49m\u001B[43m)\u001B[49m\n\u001B[0;32m   1237\u001B[0m \u001B[38;5;28mself\u001B[39m\u001B[38;5;241m.\u001B[39mcancel_async_evaluation(get_current_thread_id(thread), \u001B[38;5;28mstr\u001B[39m(\u001B[38;5;28mid\u001B[39m(frame)))\n\u001B[0;32m   1239\u001B[0m \u001B[38;5;66;03m# process any stepping instructions\u001B[39;00m\n",
      "\u001B[1;31mKeyboardInterrupt\u001B[0m: "
     ]
    }
   ],
   "execution_count": 7
  },
  {
   "metadata": {
    "jupyter": {},
    "ExecuteTime": {
     "start_time": "2024-10-22T06:44:29.981249Z"
    }
   },
   "cell_type": "code",
   "outputs": [],
   "execution_count": null,
   "source": "r = CsvReader(p",
   "id": "59e8921f4bcdccb9"
  },
  {
   "metadata": {
    "jupyter": {},
    "ExecuteTime": {
     "start_time": "2024-10-22T06:44:29.981249Z"
    }
   },
   "cell_type": "code",
   "outputs": [],
   "execution_count": null,
   "source": "r = CsvReader(p)",
   "id": "b32dda74e03950c0"
  },
  {
   "metadata": {
    "collapsed": true,
    "ExecuteTime": {
     "end_time": "2024-10-22T06:42:11.107530Z",
     "start_time": "2024-10-22T06:42:11.083508Z"
    }
   },
   "cell_type": "code",
   "outputs": [],
   "execution_count": 3,
   "source": [
    "\n",
    "\n",
    "class TimeFrame(CsvReader):\n",
    "    \"\"\"\n",
    "    \"\"\"\n",
    "    def __init__(self, df: pd.DataFrame, csv_folder: str) -> object:\n",
    "        \"\"\"\n",
    "        add a bunch of attributes by passing the df only\n",
    "        self.dt\n",
    "        self.name\n",
    "        self.n_bars\n",
    "        self.start\n",
    "        self.end\n",
    "        self.length\n",
    "        :param df:\n",
    "        :param csv_folder:\n",
    "\n",
    "        \"\"\"\n",
    "        super().__init__(csv_folder)\n",
    "        self.df = df\n",
    "        self.index = self.df.index\n",
    "\n",
    "        self.dt = (self.df.index[1] - self.df.index[0]).total_seconds() / 60\n",
    "        self.name = str(self.dt).split('.')[0] + '_min'\n",
    "        self.n_bars = len(self.df)\n",
    "        self.start = self.df.index[0]\n",
    "        self.end = self.df.index[-1]\n",
    "        self.length = self.end - self.start\n",
    "        self.length2 = self.n_bars * self.dt\n",
    "\n",
    "    def save_atts(self):\n",
    "        \"\"\"\n",
    "        \"\"\"\n",
    "        return self.__dict__\n",
    "\n",
    "\n",
    "#################################################\n",
    "#################################################\n",
    "\n",
    "\n",
    "class HoldCandle(TimeFrame):\n",
    "    \"\"\"\n",
    "     Sets all timeframe attributs and finds hold levele\n",
    "    \"\"\"\n",
    "    def __init__(self, hold_df, test_df, df: pd.DataFrame, **kwargs):\n",
    "        super().__init__(df)\n",
    "        self.hold_df, = hold_df\n",
    "        self.test_df = test_df\n",
    "\n",
    "        for k, v  in kwargs:\n",
    "            self.name = k\n",
    "            self.k = v\n",
    "\n",
    "        self.short_indexes = []\n",
    "        self.long_indexes = []\n",
    "        self.longs = self.get_longs()\n",
    "        self.shorts = self.get_shorts()\n",
    "\n",
    "    def add_attr(self, val):\n",
    "        self.name = val\n",
    "\n",
    "\n",
    "        # self.hold = None\n",
    "        # self.test = None\n",
    "        # tf = timeframe\n",
    "        # self.df: pd.DataFrame = tf.df\n",
    "\n",
    "\n",
    "        self.hold_df['up_down'] = np.sign(self.hold_df.close - self.hold_df.open)\n",
    "\n",
    "        self.get_hold_indexs()\n",
    "\n",
    "\n",
    "\n",
    "\n",
    "    def get_hold_indexs(self) -> None:\n",
    "        \"\"\" Get the indexes for all the 2 candle peaks and valleys\n",
    "        \"\"\"\n",
    "        for time in self.df.index[:-4]:\n",
    "            sl = slice(time, time + 3 * (self.df.index[1] - self.df.index[0]))\n",
    "            chunk = self.df.loc[sl]\n",
    "            if all(chunk['up_down'] == [1, 1, -1, -1]):\n",
    "                self.short_indexes.extend(chunk.index[:2])\n",
    "            elif all(chunk['up_down'] == [-1, -1, 1, 1]):\n",
    "                self.long_indexes.extend(chunk.index[:2])\n",
    "\n",
    "    # concate bodies and wicks\n",
    "    def get_longs(self) -> pd.DataFrame:\n",
    "        \"\"\"Take the first 2 candles from each peak/valley as hold levels\n",
    "        \"\"\"\n",
    "        return pd.concat([self.df.loc[self.long_indexes].high, self.df.loc[self.long_indexes].open]).sort_index()\n",
    "\n",
    "    def get_shorts(self) -> pd.DataFrame:\n",
    "        \"\"\"Take the first 2 candles from each peak/valley as hold levels\n",
    "        \"\"\"\n",
    "        return pd.concat([self.df.loc[self.short_indexes].low, self.df.loc[self.short_indexes].open]).sort_index()\n",
    "\n",
    "\n",
    "\n",
    "    def test_hold(self, hold, test, round=False) -> pd.DataFrame:\n",
    "        \"\"\"\n",
    "        Check if the test values are in the hold values and/\n",
    "         remove all holds at that index (removes wick and body\n",
    "        \"\"\"\n",
    "        self.hold = hold\n",
    "        self.test = test\n",
    "\n",
    "        total = f'Total: {len(self.hold)}'\n",
    "\n",
    "        if round:\n",
    "            self.hold = self.hold.round()\n",
    "            self.test = self.test.round()\n",
    "            mask = self.hold.isin(self.test)\n",
    "\n",
    "        else:\n",
    "            mask = self.hold.isin(self.test)\n",
    "\n",
    "        ix_drop = self.hold[mask].index\n",
    "        dropped = f'Drop: {len(ix_drop)} '\n",
    "\n",
    "        untested = self.hold.drop(labels=ix_drop)\n",
    "        print(f'Interval:{self.name}  Total:{total}  Dropped:{dropped}  Untested:{len(untested)}\\n')\n",
    "\n",
    "        return untested\n",
    "\n",
    "############################################################################################################################################\n"
   ],
   "id": "initial_id"
  },
  {
   "metadata": {},
   "cell_type": "code",
   "outputs": [],
   "execution_count": null,
   "source": "",
   "id": "c935f827aa2c7636"
  },
  {
   "metadata": {
    "ExecuteTime": {
     "end_time": "2024-10-22T06:42:29.725878Z",
     "start_time": "2024-10-22T06:42:29.612554Z"
    }
   },
   "cell_type": "code",
   "source": "reader = CsvReader(p)",
   "id": "4d3d79bad2e74cc7",
   "outputs": [
    {
     "ename": "NameError",
     "evalue": "name '_value' is not defined",
     "output_type": "error",
     "traceback": [
      "\u001B[1;31m---------------------------------------------------------------------------\u001B[0m",
      "\u001B[1;31mNameError\u001B[0m                                 Traceback (most recent call last)",
      "Cell \u001B[1;32mIn[4], line 1\u001B[0m\n\u001B[1;32m----> 1\u001B[0m reader \u001B[38;5;241m=\u001B[39m \u001B[43mCsvReader\u001B[49m\u001B[43m(\u001B[49m\u001B[43mp\u001B[49m\u001B[43m)\u001B[49m\n",
      "Cell \u001B[1;32mIn[3], line 17\u001B[0m, in \u001B[0;36mCsvReader.__init__\u001B[1;34m(self, csv_folder)\u001B[0m\n\u001B[0;32m     15\u001B[0m \u001B[38;5;28;01mfor\u001B[39;00m file \u001B[38;5;129;01min\u001B[39;00m \u001B[38;5;28mself\u001B[39m\u001B[38;5;241m.\u001B[39mfiles:\n\u001B[0;32m     16\u001B[0m     name \u001B[38;5;241m=\u001B[39m file\u001B[38;5;241m.\u001B[39mparts[\u001B[38;5;241m-\u001B[39m\u001B[38;5;241m1\u001B[39m]\u001B[38;5;241m.\u001B[39msplit(\u001B[38;5;124m'\u001B[39m\u001B[38;5;124m \u001B[39m\u001B[38;5;124m'\u001B[39m)[\u001B[38;5;241m-\u001B[39m\u001B[38;5;241m1\u001B[39m]\u001B[38;5;241m.\u001B[39msplit(\u001B[38;5;124m'\u001B[39m\u001B[38;5;124m_\u001B[39m\u001B[38;5;124m'\u001B[39m)[\u001B[38;5;241m0\u001B[39m]\n\u001B[1;32m---> 17\u001B[0m     \u001B[38;5;28mself\u001B[39m\u001B[38;5;241m.\u001B[39m\u001B[38;5;21m__setattr__\u001B[39m(\u001B[38;5;124mf\u001B[39m\u001B[38;5;124m'\u001B[39m\u001B[38;5;124m__\u001B[39m\u001B[38;5;132;01m{\u001B[39;00m\u001B[43m_value\u001B[49m\u001B[38;5;132;01m:\u001B[39;00m\u001B[38;5;124m str(name)\u001B[39m\u001B[38;5;132;01m}\u001B[39;00m\u001B[38;5;124m'\u001B[39m, \u001B[38;5;28mself\u001B[39m\u001B[38;5;241m.\u001B[39mread_csv(file))\n",
      "\u001B[1;31mNameError\u001B[0m: name '_value' is not defined"
     ]
    }
   ],
   "execution_count": 4
  },
  {
   "metadata": {},
   "cell_type": "code",
   "outputs": [],
   "execution_count": null,
   "source": "",
   "id": "dd9939dd08bf0c96"
  }
 ],
 "metadata": {
  "kernelspec": {
   "display_name": "Python 3",
   "language": "python",
   "name": "python3"
  },
  "language_info": {
   "codemirror_mode": {
    "name": "ipython",
    "version": 2
   },
   "file_extension": ".py",
   "mimetype": "text/x-python",
   "name": "python",
   "nbconvert_exporter": "python",
   "pygments_lexer": "ipython2",
   "version": "2.7.6"
  }
 },
 "nbformat": 4,
 "nbformat_minor": 5
}
