{
 "cells": [
  {
   "cell_type": "code",
   "execution_count": 1,
   "outputs": [],
   "source": [
    "import pandas as pd\n",
    "import pathlib\n",
    "import os\n",
    "import numpy as np\n",
    "\n",
    "#################################################\n",
    "#################################################\n",
    "\n",
    "\n",
    "p = pathlib.WindowsPath(r'C:/Users/akrug/PycharmProjects/pythonProject2/data').absolute()\n",
    "\n",
    "\n",
    "class CsvReader:\n",
    "    def __init__(cls, csv_folder:str):\n",
    "        cls.csv_folder = csv_folder\n",
    "        path = pathlib.WindowsPath(cls.csv_folder).absolute()\n",
    "        cls.files = list(p.glob('*.csv'))\n",
    "        \n",
    "        for file in files:\n",
    "            name = file.parts[-1].split(' ')[-1].split('_')[0]\n",
    "            cls.__setattr__(name, file)\n",
    "\n",
    "\n",
    "    def read_csv(cls, name, nrows=100):\n",
    "        cls.name = name\n",
    "        cls.nrows = nrows\n",
    "        df = pd.read_csv(cls.name, nrows=nrows)\n",
    "        df.time = pd.to_datetime(df.time, unit='s')\n",
    "        df.index = df.time\n",
    "        \n",
    "        return df\n",
    "\n",
    "#################################################\n",
    "#################################################\n",
    "\n",
    "\n",
    "class TimeFrame:\n",
    "   \n",
    "    def __init__(cls, df):\n",
    "        cls.df = df\n",
    "        cls.set_ats()\n",
    "   \n",
    "    def set_ats(cls):    \n",
    "        cls.dt = (df.index[1]-df.index[0]).total_seconds()/60\n",
    "        cls.name = str(cls.dt).split('.')[0]+'_min'\n",
    "        cls.n_bars = len(cls.df)\n",
    "        cls.start = df.index[0]\n",
    "        cls.end = df.index[-1]\n",
    "        cls.length = cls.end - cls.start\n",
    "\n",
    "\n",
    "#################################################\n",
    "#################################################\n",
    "\n",
    "\n",
    "class HoldCandle(TimeFrame):\n",
    "    def __init__(cls, timeframe):\n",
    "        cls.tf = timeframe\n",
    "        cls.df=cls.tf.df\n",
    "        cls.set_ats()\n",
    "        \n",
    "        cls.df['up_down'] = np.sign(cls.df.close - cls.df.open)\n",
    "        cls.short_indexes = []\n",
    "        cls.long_indexes = []\n",
    "        cls.get_hold_indexs()\n",
    "        \n",
    "        cls.longs = cls.get_longs()\n",
    "        cls.rlongs = cls.longs.round(0)\n",
    "        cls.shorts = cls.get_shorts()\n",
    "        cls.rshorts = cls.shorts.round(0)\n",
    "    \n",
    "\n",
    "    def get_hold_indexs(cls)->None:\n",
    "        for time in cls.df.index[:-4]:\n",
    "            sl = slice(time, time + 3 * (cls.df.index[1] - cls.df.index[0]))\n",
    "            chunk = cls.df.loc[sl]\n",
    "            if all(chunk['up_down'] == [1, 1, -1, -1]):\n",
    "                cls.short_indexes.extend(chunk.index[:2])\n",
    "            elif all(chunk['up_down'] == [-1, -1, 1, 1]):\n",
    "                cls.long_indexes.extend(chunk.index[:2])\n",
    "\n",
    "\n",
    "    #concate bodies and wicks\n",
    "    def get_longs(cls)->pd.DataFrame:\n",
    "        return pd.concat([ cls.df.loc[cls.long_indexes].high,  cls.df.loc[cls.long_indexes].open]).sort_index()\n",
    "\n",
    "\n",
    "    def get_shorts(cls)->pd.DataFrame:\n",
    "        return pd.concat([cls.df.loc[cls.short_indexes].low, cls.df.loc[cls.short_indexes].open]).sort_index()\n",
    "\n",
    "\n"
   ],
   "metadata": {
    "collapsed": false,
    "ExecuteTime": {
     "end_time": "2024-10-21T03:25:39.209764700Z",
     "start_time": "2024-10-21T03:25:38.407680400Z"
    }
   },
   "id": "c14f0bfbcf9ebb40"
  },
  {
   "cell_type": "code",
   "execution_count": 23,
   "outputs": [
    {
     "name": "stdout",
     "output_type": "stream",
     "text": [
      "15_min\n",
      "1440_min\n",
      "10080_min\n",
      "1_min\n",
      "240_min\n",
      "3_min\n",
      "5_min\n",
      "60_min\n"
     ]
    }
   ],
   "source": [
    "for file in files:\n",
    "    df = read_timeframe(file, nrows=100)\n",
    "    tester =\n",
    "    tf = TimeFrame(df)\n",
    "    print(tf.name)\n",
    "    hc = HoldCandle(tf)"
   ],
   "metadata": {
    "collapsed": false,
    "ExecuteTime": {
     "end_time": "2024-10-21T02:17:36.978030Z",
     "start_time": "2024-10-21T02:17:36.734913700Z"
    }
   },
   "id": "e06b4d66b02256cf"
  },
  {
   "cell_type": "code",
   "execution_count": 27,
   "outputs": [
    {
     "data": {
      "text/plain": "[WindowsPath('C:/Users/akrug/PycharmProjects/pythonProject2/data/ZOOMEX_BTCUSDT.P, 15_38661.csv'),\n WindowsPath('C:/Users/akrug/PycharmProjects/pythonProject2/data/ZOOMEX_BTCUSDT.P, 1D_60a25.csv'),\n WindowsPath('C:/Users/akrug/PycharmProjects/pythonProject2/data/ZOOMEX_BTCUSDT.P, 1W_5375d.csv'),\n WindowsPath('C:/Users/akrug/PycharmProjects/pythonProject2/data/ZOOMEX_BTCUSDT.P, 1_e8683.csv'),\n WindowsPath('C:/Users/akrug/PycharmProjects/pythonProject2/data/ZOOMEX_BTCUSDT.P, 240_cd5aa.csv'),\n WindowsPath('C:/Users/akrug/PycharmProjects/pythonProject2/data/ZOOMEX_BTCUSDT.P, 3_78d2a.csv'),\n WindowsPath('C:/Users/akrug/PycharmProjects/pythonProject2/data/ZOOMEX_BTCUSDT.P, 5_8aa4f.csv'),\n WindowsPath('C:/Users/akrug/PycharmProjects/pythonProject2/data/ZOOMEX_BTCUSDT.P, 60_0461d.csv')]"
     },
     "execution_count": 27,
     "metadata": {},
     "output_type": "execute_result"
    }
   ],
   "source": [
    "pathlib"
   ],
   "metadata": {
    "collapsed": false,
    "ExecuteTime": {
     "end_time": "2024-10-21T02:20:36.612109200Z",
     "start_time": "2024-10-21T02:20:36.564161600Z"
    }
   },
   "id": "f23973345ac9dc1f"
  },
  {
   "cell_type": "code",
   "execution_count": 16,
   "outputs": [
    {
     "data": {
      "text/plain": "time\n2024-06-16 21:00:00    66440.9\n2024-06-16 21:00:00    66499.9\n2024-06-16 22:00:00    66510.6\n2024-06-16 22:00:00    66510.6\n2024-06-17 17:00:00    65866.0\n2024-06-17 17:00:00    65866.0\n2024-06-17 18:00:00    66525.2\n2024-06-17 18:00:00    66587.3\n2024-06-17 21:00:00    66280.4\n2024-06-17 21:00:00    66375.9\n2024-06-17 22:00:00    66444.4\n2024-06-17 22:00:00    66549.7\n2024-06-18 07:00:00    65470.0\n2024-06-18 07:00:00    65470.0\n2024-06-18 08:00:00    65646.4\n2024-06-18 08:00:00    65562.0\n2024-06-18 21:00:00    64772.7\n2024-06-18 21:00:00    64913.0\n2024-06-18 22:00:00    65199.9\n2024-06-18 22:00:00    65023.4\n2024-06-19 09:00:00    65158.0\n2024-06-19 09:00:00    65045.0\n2024-06-19 10:00:00    65264.7\n2024-06-19 10:00:00    65098.5\n2024-06-19 16:00:00    64895.0\n2024-06-19 16:00:00    64767.4\n2024-06-19 17:00:00    64864.0\n2024-06-19 17:00:00    64899.9\ndtype: float64"
     },
     "execution_count": 16,
     "metadata": {},
     "output_type": "execute_result"
    }
   ],
   "source": [
    "\n",
    "hc.get_shorts()"
   ],
   "metadata": {
    "collapsed": false,
    "ExecuteTime": {
     "end_time": "2024-10-21T02:11:43.453608800Z",
     "start_time": "2024-10-21T02:11:43.406288800Z"
    }
   },
   "id": "867bf38ccb661fb0"
  },
  {
   "cell_type": "code",
   "execution_count": null,
   "outputs": [],
   "source": [],
   "metadata": {
    "collapsed": false
   },
   "id": "516c1abb29dfd934"
  }
 ],
 "metadata": {
  "kernelspec": {
   "display_name": "Python 3",
   "language": "python",
   "name": "python3"
  },
  "language_info": {
   "codemirror_mode": {
    "name": "ipython",
    "version": 2
   },
   "file_extension": ".py",
   "mimetype": "text/x-python",
   "name": "python",
   "nbconvert_exporter": "python",
   "pygments_lexer": "ipython2",
   "version": "2.7.6"
  }
 },
 "nbformat": 4,
 "nbformat_minor": 5
}
