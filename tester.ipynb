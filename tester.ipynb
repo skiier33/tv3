{
 "cells": [
  {
   "metadata": {
    "ExecuteTime": {
     "end_time": "2024-10-24T02:51:28.157951Z",
     "start_time": "2024-10-24T02:51:28.148862Z"
    }
   },
   "cell_type": "code",
   "source": [
    "from numpy.ma.core import floor\n",
    "\n",
    "from CONSTANTS  import CSVS\n",
    "from DataClass import FolderData\n",
    "from data_funcs import get_hold_ixs\n"
   ],
   "id": "2fed7639f6176b14",
   "outputs": [],
   "execution_count": 2
  },
  {
   "metadata": {
    "ExecuteTime": {
     "end_time": "2024-10-24T02:52:46.882783Z",
     "start_time": "2024-10-24T02:52:46.851773Z"
    }
   },
   "cell_type": "code",
   "source": "f = FolderData(CSVS)\n",
   "id": "55ccb6f87fcf996",
   "outputs": [],
   "execution_count": 5
  },
  {
   "metadata": {
    "ExecuteTime": {
     "end_time": "2024-10-24T03:05:57.690272Z",
     "start_time": "2024-10-24T03:05:57.673737Z"
    }
   },
   "cell_type": "code",
   "source": "f.__60",
   "id": "b8f90eed8eeee4a6",
   "outputs": [
    {
     "data": {
      "text/plain": [
       "                                   time     open     high      low    close  \\\n",
       "time                                                                          \n",
       "2024-06-16 06:00:00 2024-06-16 06:00:00  66244.0  66359.0  66162.6  66303.1   \n",
       "2024-06-16 07:00:00 2024-06-16 07:00:00  66303.1  66331.9  66229.0  66249.3   \n",
       "2024-06-16 08:00:00 2024-06-16 08:00:00  66249.3  66330.3  66221.4  66261.8   \n",
       "2024-06-16 09:00:00 2024-06-16 09:00:00  66261.8  66400.0  66169.2  66391.3   \n",
       "2024-06-16 10:00:00 2024-06-16 10:00:00  66391.3  66772.3  66346.3  66696.2   \n",
       "...                                 ...      ...      ...      ...      ...   \n",
       "2024-06-20 05:00:00 2024-06-20 05:00:00  65278.5  65589.9  65220.1  65487.6   \n",
       "2024-06-20 06:00:00 2024-06-20 06:00:00  65487.6  65618.0  65358.6  65438.1   \n",
       "2024-06-20 07:00:00 2024-06-20 07:00:00  65438.1  65965.0  65438.1  65831.4   \n",
       "2024-06-20 08:00:00 2024-06-20 08:00:00  65831.4  65897.9  65579.2  65668.3   \n",
       "2024-06-20 09:00:00 2024-06-20 09:00:00  65668.3  65728.1  65552.7  65697.2   \n",
       "\n",
       "                     up_down  \n",
       "time                          \n",
       "2024-06-16 06:00:00      1.0  \n",
       "2024-06-16 07:00:00     -1.0  \n",
       "2024-06-16 08:00:00      1.0  \n",
       "2024-06-16 09:00:00      1.0  \n",
       "2024-06-16 10:00:00      1.0  \n",
       "...                      ...  \n",
       "2024-06-20 05:00:00      1.0  \n",
       "2024-06-20 06:00:00     -1.0  \n",
       "2024-06-20 07:00:00      1.0  \n",
       "2024-06-20 08:00:00     -1.0  \n",
       "2024-06-20 09:00:00      1.0  \n",
       "\n",
       "[100 rows x 6 columns]"
      ],
      "text/html": [
       "<div>\n",
       "<style scoped>\n",
       "    .dataframe tbody tr th:only-of-type {\n",
       "        vertical-align: middle;\n",
       "    }\n",
       "\n",
       "    .dataframe tbody tr th {\n",
       "        vertical-align: top;\n",
       "    }\n",
       "\n",
       "    .dataframe thead th {\n",
       "        text-align: right;\n",
       "    }\n",
       "</style>\n",
       "<table border=\"1\" class=\"dataframe\">\n",
       "  <thead>\n",
       "    <tr style=\"text-align: right;\">\n",
       "      <th></th>\n",
       "      <th>time</th>\n",
       "      <th>open</th>\n",
       "      <th>high</th>\n",
       "      <th>low</th>\n",
       "      <th>close</th>\n",
       "      <th>up_down</th>\n",
       "    </tr>\n",
       "    <tr>\n",
       "      <th>time</th>\n",
       "      <th></th>\n",
       "      <th></th>\n",
       "      <th></th>\n",
       "      <th></th>\n",
       "      <th></th>\n",
       "      <th></th>\n",
       "    </tr>\n",
       "  </thead>\n",
       "  <tbody>\n",
       "    <tr>\n",
       "      <th>2024-06-16 06:00:00</th>\n",
       "      <td>2024-06-16 06:00:00</td>\n",
       "      <td>66244.0</td>\n",
       "      <td>66359.0</td>\n",
       "      <td>66162.6</td>\n",
       "      <td>66303.1</td>\n",
       "      <td>1.0</td>\n",
       "    </tr>\n",
       "    <tr>\n",
       "      <th>2024-06-16 07:00:00</th>\n",
       "      <td>2024-06-16 07:00:00</td>\n",
       "      <td>66303.1</td>\n",
       "      <td>66331.9</td>\n",
       "      <td>66229.0</td>\n",
       "      <td>66249.3</td>\n",
       "      <td>-1.0</td>\n",
       "    </tr>\n",
       "    <tr>\n",
       "      <th>2024-06-16 08:00:00</th>\n",
       "      <td>2024-06-16 08:00:00</td>\n",
       "      <td>66249.3</td>\n",
       "      <td>66330.3</td>\n",
       "      <td>66221.4</td>\n",
       "      <td>66261.8</td>\n",
       "      <td>1.0</td>\n",
       "    </tr>\n",
       "    <tr>\n",
       "      <th>2024-06-16 09:00:00</th>\n",
       "      <td>2024-06-16 09:00:00</td>\n",
       "      <td>66261.8</td>\n",
       "      <td>66400.0</td>\n",
       "      <td>66169.2</td>\n",
       "      <td>66391.3</td>\n",
       "      <td>1.0</td>\n",
       "    </tr>\n",
       "    <tr>\n",
       "      <th>2024-06-16 10:00:00</th>\n",
       "      <td>2024-06-16 10:00:00</td>\n",
       "      <td>66391.3</td>\n",
       "      <td>66772.3</td>\n",
       "      <td>66346.3</td>\n",
       "      <td>66696.2</td>\n",
       "      <td>1.0</td>\n",
       "    </tr>\n",
       "    <tr>\n",
       "      <th>...</th>\n",
       "      <td>...</td>\n",
       "      <td>...</td>\n",
       "      <td>...</td>\n",
       "      <td>...</td>\n",
       "      <td>...</td>\n",
       "      <td>...</td>\n",
       "    </tr>\n",
       "    <tr>\n",
       "      <th>2024-06-20 05:00:00</th>\n",
       "      <td>2024-06-20 05:00:00</td>\n",
       "      <td>65278.5</td>\n",
       "      <td>65589.9</td>\n",
       "      <td>65220.1</td>\n",
       "      <td>65487.6</td>\n",
       "      <td>1.0</td>\n",
       "    </tr>\n",
       "    <tr>\n",
       "      <th>2024-06-20 06:00:00</th>\n",
       "      <td>2024-06-20 06:00:00</td>\n",
       "      <td>65487.6</td>\n",
       "      <td>65618.0</td>\n",
       "      <td>65358.6</td>\n",
       "      <td>65438.1</td>\n",
       "      <td>-1.0</td>\n",
       "    </tr>\n",
       "    <tr>\n",
       "      <th>2024-06-20 07:00:00</th>\n",
       "      <td>2024-06-20 07:00:00</td>\n",
       "      <td>65438.1</td>\n",
       "      <td>65965.0</td>\n",
       "      <td>65438.1</td>\n",
       "      <td>65831.4</td>\n",
       "      <td>1.0</td>\n",
       "    </tr>\n",
       "    <tr>\n",
       "      <th>2024-06-20 08:00:00</th>\n",
       "      <td>2024-06-20 08:00:00</td>\n",
       "      <td>65831.4</td>\n",
       "      <td>65897.9</td>\n",
       "      <td>65579.2</td>\n",
       "      <td>65668.3</td>\n",
       "      <td>-1.0</td>\n",
       "    </tr>\n",
       "    <tr>\n",
       "      <th>2024-06-20 09:00:00</th>\n",
       "      <td>2024-06-20 09:00:00</td>\n",
       "      <td>65668.3</td>\n",
       "      <td>65728.1</td>\n",
       "      <td>65552.7</td>\n",
       "      <td>65697.2</td>\n",
       "      <td>1.0</td>\n",
       "    </tr>\n",
       "  </tbody>\n",
       "</table>\n",
       "<p>100 rows × 6 columns</p>\n",
       "</div>"
      ]
     },
     "execution_count": 16,
     "metadata": {},
     "output_type": "execute_result"
    }
   ],
   "execution_count": 16
  },
  {
   "metadata": {
    "ExecuteTime": {
     "end_time": "2024-10-24T03:11:00.805739Z",
     "start_time": "2024-10-24T03:07:14.318771Z"
    }
   },
   "cell_type": "code",
   "source": "levels = get_hold_ixs(f.__1)",
   "id": "c00d4bd61f9dd5c9",
   "outputs": [],
   "execution_count": 17
  },
  {
   "metadata": {
    "ExecuteTime": {
     "end_time": "2024-10-24T03:02:44.165906Z",
     "start_time": "2024-10-24T03:02:44.144854Z"
    }
   },
   "cell_type": "code",
   "source": "levels",
   "id": "749083c4881c760d",
   "outputs": [
    {
     "data": {
      "text/plain": [
       "{'longs': {'frontside': [], 'backside': []},\n",
       " 'shorts': {'frontside': [], 'backside': []}}"
      ]
     },
     "execution_count": 15,
     "metadata": {},
     "output_type": "execute_result"
    }
   ],
   "execution_count": 15
  },
  {
   "metadata": {},
   "cell_type": "markdown",
   "source": "for attr in f.",
   "id": "f6e7ffb25816ae85"
  },
  {
   "metadata": {},
   "cell_type": "markdown",
   "source": "",
   "id": "4a369b5c332029c6"
  },
  {
   "metadata": {},
   "cell_type": "code",
   "outputs": [],
   "execution_count": null,
   "source": "\n",
   "id": "e8b9d6568d57104e"
  },
  {
   "metadata": {},
   "cell_type": "code",
   "outputs": [],
   "execution_count": null,
   "source": "",
   "id": "fce5e6055f0c91d0"
  }
 ],
 "metadata": {
  "kernelspec": {
   "display_name": "Python 3",
   "language": "python",
   "name": "python3"
  },
  "language_info": {
   "codemirror_mode": {
    "name": "ipython",
    "version": 2
   },
   "file_extension": ".py",
   "mimetype": "text/x-python",
   "name": "python",
   "nbconvert_exporter": "python",
   "pygments_lexer": "ipython2",
   "version": "2.7.6"
  }
 },
 "nbformat": 4,
 "nbformat_minor": 5
}
